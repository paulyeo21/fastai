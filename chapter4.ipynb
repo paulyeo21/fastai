{
 "cells": [
  {
   "cell_type": "code",
   "execution_count": 1,
   "metadata": {},
   "outputs": [],
   "source": [
    "#hide\n",
    "!pip install -Uqq fastbook\n",
    "import fastbook\n",
    "fastbook.setup_book()"
   ]
  },
  {
   "cell_type": "code",
   "execution_count": 2,
   "metadata": {},
   "outputs": [],
   "source": [
    "#hide\n",
    "from fastai.vision.all import *\n",
    "from fastbook import *\n",
    "\n",
    "matplotlib.rc('image', cmap='Greys')"
   ]
  },
  {
   "cell_type": "code",
   "execution_count": 5,
   "metadata": {},
   "outputs": [],
   "source": [
    "path = untar_data(URLs.MNIST_SAMPLE)"
   ]
  },
  {
   "cell_type": "code",
   "execution_count": 6,
   "metadata": {},
   "outputs": [
    {
     "data": {
      "text/plain": [
       "(#3) [Path('/home/jupyter/.fastai/data/mnist_sample/valid'),Path('/home/jupyter/.fastai/data/mnist_sample/labels.csv'),Path('/home/jupyter/.fastai/data/mnist_sample/train')]"
      ]
     },
     "execution_count": 6,
     "metadata": {},
     "output_type": "execute_result"
    }
   ],
   "source": [
    "path.ls()"
   ]
  },
  {
   "cell_type": "code",
   "execution_count": 7,
   "metadata": {},
   "outputs": [
    {
     "data": {
      "text/plain": [
       "(#2) [Path('/home/jupyter/.fastai/data/mnist_sample/train/7'),Path('/home/jupyter/.fastai/data/mnist_sample/train/3')]"
      ]
     },
     "execution_count": 7,
     "metadata": {},
     "output_type": "execute_result"
    }
   ],
   "source": [
    "(path/'train').ls()\n"
   ]
  },
  {
   "cell_type": "code",
   "execution_count": 11,
   "metadata": {},
   "outputs": [],
   "source": [
    "threes = (path/'train'/'3').ls().sorted()\n",
    "sevens = (path/'train'/'7').ls().sorted()"
   ]
  },
  {
   "cell_type": "code",
   "execution_count": 12,
   "metadata": {},
   "outputs": [
    {
     "data": {
      "text/plain": [
       "(#6131) [Path('/home/jupyter/.fastai/data/mnist_sample/train/3/10.png'),Path('/home/jupyter/.fastai/data/mnist_sample/train/3/10000.png'),Path('/home/jupyter/.fastai/data/mnist_sample/train/3/10011.png'),Path('/home/jupyter/.fastai/data/mnist_sample/train/3/10031.png'),Path('/home/jupyter/.fastai/data/mnist_sample/train/3/10034.png'),Path('/home/jupyter/.fastai/data/mnist_sample/train/3/10042.png'),Path('/home/jupyter/.fastai/data/mnist_sample/train/3/10052.png'),Path('/home/jupyter/.fastai/data/mnist_sample/train/3/1007.png'),Path('/home/jupyter/.fastai/data/mnist_sample/train/3/10074.png'),Path('/home/jupyter/.fastai/data/mnist_sample/train/3/10091.png')...]"
      ]
     },
     "execution_count": 12,
     "metadata": {},
     "output_type": "execute_result"
    }
   ],
   "source": [
    "threes"
   ]
  },
  {
   "cell_type": "code",
   "execution_count": 13,
   "metadata": {},
   "outputs": [
    {
     "data": {
      "text/plain": [
       "(#6265) [Path('/home/jupyter/.fastai/data/mnist_sample/train/7/10002.png'),Path('/home/jupyter/.fastai/data/mnist_sample/train/7/1001.png'),Path('/home/jupyter/.fastai/data/mnist_sample/train/7/10014.png'),Path('/home/jupyter/.fastai/data/mnist_sample/train/7/10019.png'),Path('/home/jupyter/.fastai/data/mnist_sample/train/7/10039.png'),Path('/home/jupyter/.fastai/data/mnist_sample/train/7/10046.png'),Path('/home/jupyter/.fastai/data/mnist_sample/train/7/10050.png'),Path('/home/jupyter/.fastai/data/mnist_sample/train/7/10063.png'),Path('/home/jupyter/.fastai/data/mnist_sample/train/7/10077.png'),Path('/home/jupyter/.fastai/data/mnist_sample/train/7/10086.png')...]"
      ]
     },
     "execution_count": 13,
     "metadata": {},
     "output_type": "execute_result"
    }
   ],
   "source": [
    "sevens"
   ]
  },
  {
   "cell_type": "code",
   "execution_count": 14,
   "metadata": {},
   "outputs": [
    {
     "data": {
      "image/png": "[encoded data removed]",
      "text/plain": [
       "<PIL.PngImagePlugin.PngImageFile image mode=L size=28x28 at 0x7F8597BFCBD0>"
      ]
     },
     "execution_count": 14,
     "metadata": {},
     "output_type": "execute_result"
    }
   ],
   "source": [
    "im3_path = threes[1]\n",
    "im3 = Image.open(im3_path)\n",
    "im3"
   ]
  },
  {
   "cell_type": "code",
   "execution_count": 15,
   "metadata": {},
   "outputs": [
    {
     "data": {
      "text/plain": [
       "array([[  0,   0,   0,   0,   0,   0],\n",
       "       [  0,   0,   0,   0,   0,  29],\n",
       "       [  0,   0,   0,  48, 166, 224],\n",
       "       [  0,  93, 244, 249, 253, 187],\n",
       "       [  0, 107, 253, 253, 230,  48],\n",
       "       [  0,   3,  20,  20,  15,   0]], dtype=uint8)"
      ]
     },
     "execution_count": 15,
     "metadata": {},
     "output_type": "execute_result"
    }
   ],
   "source": [
    "array(im3)[4:10,4:10]"
   ]
  },
  {
   "cell_type": "code",
   "execution_count": 16,
   "metadata": {},
   "outputs": [
    {
     "data": {
      "text/plain": [
       "tensor([[  0,   0,   0,   0,   0,   0],\n",
       "        [  0,   0,   0,   0,   0,  29],\n",
       "        [  0,   0,   0,  48, 166, 224],\n",
       "        [  0,  93, 244, 249, 253, 187],\n",
       "        [  0, 107, 253, 253, 230,  48],\n",
       "        [  0,   3,  20,  20,  15,   0]], dtype=torch.uint8)"
      ]
     },
     "execution_count": 16,
     "metadata": {},
     "output_type": "execute_result"
    }
   ],
   "source": [
    "tensor(im3)[4:10,4:10]"
   ]
  },
  {
   "cell_type": "code",
   "execution_count": 18,
   "metadata": {},
   "outputs": [
    {
     "data": {
      "text/html": [
       "<style  type=\"text/css\" >\n",
       "#T_ca51bf48_0a8a_11eb_92f5_42010a8a0002row0_col0,#T_ca51bf48_0a8a_11eb_92f5_42010a8a0002row0_col1,#T_ca51bf48_0a8a_11eb_92f5_42010a8a0002row0_col2,#T_ca51bf48_0a8a_11eb_92f5_42010a8a0002row0_col3,#T_ca51bf48_0a8a_11eb_92f5_42010a8a0002row0_col4,#T_ca51bf48_0a8a_11eb_92f5_42010a8a0002row0_col5,#T_ca51bf48_0a8a_11eb_92f5_42010a8a0002row0_col6,#T_ca51bf48_0a8a_11eb_92f5_42010a8a0002row0_col7,#T_ca51bf48_0a8a_11eb_92f5_42010a8a0002row0_col8,#T_ca51bf48_0a8a_11eb_92f5_42010a8a0002row0_col9,#T_ca51bf48_0a8a_11eb_92f5_42010a8a0002row0_col10,#T_ca51bf48_0a8a_11eb_92f5_42010a8a0002row0_col11,#T_ca51bf48_0a8a_11eb_92f5_42010a8a0002row0_col12,#T_ca51bf48_0a8a_11eb_92f5_42010a8a0002row0_col13,#T_ca51bf48_0a8a_11eb_92f5_42010a8a0002row0_col14,#T_ca51bf48_0a8a_11eb_92f5_42010a8a0002row0_col15,#T_ca51bf48_0a8a_11eb_92f5_42010a8a0002row0_col16,#T_ca51bf48_0a8a_11eb_92f5_42010a8a0002row0_col17,#T_ca51bf48_0a8a_11eb_92f5_42010a8a0002row1_col0,#T_ca51bf48_0a8a_11eb_92f5_42010a8a0002row1_col1,#T_ca51bf48_0a8a_11eb_92f5_42010a8a0002row1_col2,#T_ca51bf48_0a8a_11eb_92f5_42010a8a0002row1_col3,#T_ca51bf48_0a8a_11eb_92f5_42010a8a0002row1_col4,#T_ca51bf48_0a8a_11eb_92f5_42010a8a0002row1_col15,#T_ca51bf48_0a8a_11eb_92f5_42010a8a0002row1_col16,#T_ca51bf48_0a8a_11eb_92f5_42010a8a0002row1_col17,#T_ca51bf48_0a8a_11eb_92f5_42010a8a0002row2_col0,#T_ca51bf48_0a8a_11eb_92f5_42010a8a0002row2_col1,#T_ca51bf48_0a8a_11eb_92f5_42010a8a0002row2_col2,#T_ca51bf48_0a8a_11eb_92f5_42010a8a0002row2_col15,#T_ca51bf48_0a8a_11eb_92f5_42010a8a0002row2_col16,#T_ca51bf48_0a8a_11eb_92f5_42010a8a0002row2_col17,#T_ca51bf48_0a8a_11eb_92f5_42010a8a0002row3_col0,#T_ca51bf48_0a8a_11eb_92f5_42010a8a0002row3_col15,#T_ca51bf48_0a8a_11eb_92f5_42010a8a0002row3_col16,#T_ca51bf48_0a8a_11eb_92f5_42010a8a0002row3_col17,#T_ca51bf48_0a8a_11eb_92f5_42010a8a0002row4_col0,#T_ca51bf48_0a8a_11eb_92f5_42010a8a0002row4_col6,#T_ca51bf48_0a8a_11eb_92f5_42010a8a0002row4_col7,#T_ca51bf48_0a8a_11eb_92f5_42010a8a0002row4_col8,#T_ca51bf48_0a8a_11eb_92f5_42010a8a0002row4_col9,#T_ca51bf48_0a8a_11eb_92f5_42010a8a0002row4_col10,#T_ca51bf48_0a8a_11eb_92f5_42010a8a0002row4_col15,#T_ca51bf48_0a8a_11eb_92f5_42010a8a0002row4_col16,#T_ca51bf48_0a8a_11eb_92f5_42010a8a0002row4_col17,#T_ca51bf48_0a8a_11eb_92f5_42010a8a0002row5_col0,#T_ca51bf48_0a8a_11eb_92f5_42010a8a0002row5_col5,#T_ca51bf48_0a8a_11eb_92f5_42010a8a0002row5_col6,#T_ca51bf48_0a8a_11eb_92f5_42010a8a0002row5_col7,#T_ca51bf48_0a8a_11eb_92f5_42010a8a0002row5_col8,#T_ca51bf48_0a8a_11eb_92f5_42010a8a0002row5_col9,#T_ca51bf48_0a8a_11eb_92f5_42010a8a0002row5_col15,#T_ca51bf48_0a8a_11eb_92f5_42010a8a0002row5_col16,#T_ca51bf48_0a8a_11eb_92f5_42010a8a0002row5_col17,#T_ca51bf48_0a8a_11eb_92f5_42010a8a0002row6_col0,#T_ca51bf48_0a8a_11eb_92f5_42010a8a0002row6_col1,#T_ca51bf48_0a8a_11eb_92f5_42010a8a0002row6_col2,#T_ca51bf48_0a8a_11eb_92f5_42010a8a0002row6_col3,#T_ca51bf48_0a8a_11eb_92f5_42010a8a0002row6_col4,#T_ca51bf48_0a8a_11eb_92f5_42010a8a0002row6_col5,#T_ca51bf48_0a8a_11eb_92f5_42010a8a0002row6_col6,#T_ca51bf48_0a8a_11eb_92f5_42010a8a0002row6_col7,#T_ca51bf48_0a8a_11eb_92f5_42010a8a0002row6_col8,#T_ca51bf48_0a8a_11eb_92f5_42010a8a0002row6_col9,#T_ca51bf48_0a8a_11eb_92f5_42010a8a0002row6_col14,#T_ca51bf48_0a8a_11eb_92f5_42010a8a0002row6_col15,#T_ca51bf48_0a8a_11eb_92f5_42010a8a0002row6_col16,#T_ca51bf48_0a8a_11eb_92f5_42010a8a0002row6_col17,#T_ca51bf48_0a8a_11eb_92f5_42010a8a0002row7_col0,#T_ca51bf48_0a8a_11eb_92f5_42010a8a0002row7_col1,#T_ca51bf48_0a8a_11eb_92f5_42010a8a0002row7_col2,#T_ca51bf48_0a8a_11eb_92f5_42010a8a0002row7_col3,#T_ca51bf48_0a8a_11eb_92f5_42010a8a0002row7_col4,#T_ca51bf48_0a8a_11eb_92f5_42010a8a0002row7_col5,#T_ca51bf48_0a8a_11eb_92f5_42010a8a0002row7_col6,#T_ca51bf48_0a8a_11eb_92f5_42010a8a0002row7_col13,#T_ca51bf48_0a8a_11eb_92f5_42010a8a0002row7_col14,#T_ca51bf48_0a8a_11eb_92f5_42010a8a0002row7_col15,#T_ca51bf48_0a8a_11eb_92f5_42010a8a0002row7_col16,#T_ca51bf48_0a8a_11eb_92f5_42010a8a0002row7_col17,#T_ca51bf48_0a8a_11eb_92f5_42010a8a0002row8_col0,#T_ca51bf48_0a8a_11eb_92f5_42010a8a0002row8_col1,#T_ca51bf48_0a8a_11eb_92f5_42010a8a0002row8_col2,#T_ca51bf48_0a8a_11eb_92f5_42010a8a0002row8_col3,#T_ca51bf48_0a8a_11eb_92f5_42010a8a0002row8_col4,#T_ca51bf48_0a8a_11eb_92f5_42010a8a0002row8_col13,#T_ca51bf48_0a8a_11eb_92f5_42010a8a0002row8_col14,#T_ca51bf48_0a8a_11eb_92f5_42010a8a0002row8_col15,#T_ca51bf48_0a8a_11eb_92f5_42010a8a0002row8_col16,#T_ca51bf48_0a8a_11eb_92f5_42010a8a0002row8_col17,#T_ca51bf48_0a8a_11eb_92f5_42010a8a0002row9_col0,#T_ca51bf48_0a8a_11eb_92f5_42010a8a0002row9_col1,#T_ca51bf48_0a8a_11eb_92f5_42010a8a0002row9_col2,#T_ca51bf48_0a8a_11eb_92f5_42010a8a0002row9_col3,#T_ca51bf48_0a8a_11eb_92f5_42010a8a0002row9_col4,#T_ca51bf48_0a8a_11eb_92f5_42010a8a0002row9_col16,#T_ca51bf48_0a8a_11eb_92f5_42010a8a0002row9_col17,#T_ca51bf48_0a8a_11eb_92f5_42010a8a0002row10_col0,#T_ca51bf48_0a8a_11eb_92f5_42010a8a0002row10_col1,#T_ca51bf48_0a8a_11eb_92f5_42010a8a0002row10_col2,#T_ca51bf48_0a8a_11eb_92f5_42010a8a0002row10_col3,#T_ca51bf48_0a8a_11eb_92f5_42010a8a0002row10_col4,#T_ca51bf48_0a8a_11eb_92f5_42010a8a0002row10_col5,#T_ca51bf48_0a8a_11eb_92f5_42010a8a0002row10_col6,#T_ca51bf48_0a8a_11eb_92f5_42010a8a0002row10_col17{\n",
       "            font-size:  6pt;\n",
       "            background-color:  #ffffff;\n",
       "            color:  #000000;\n",
       "        }#T_ca51bf48_0a8a_11eb_92f5_42010a8a0002row1_col5{\n",
       "            font-size:  6pt;\n",
       "            background-color:  #efefef;\n",
       "            color:  #000000;\n",
       "        }#T_ca51bf48_0a8a_11eb_92f5_42010a8a0002row1_col6,#T_ca51bf48_0a8a_11eb_92f5_42010a8a0002row1_col13{\n",
       "            font-size:  6pt;\n",
       "            background-color:  #7c7c7c;\n",
       "            color:  #000000;\n",
       "        }#T_ca51bf48_0a8a_11eb_92f5_42010a8a0002row1_col7{\n",
       "            font-size:  6pt;\n",
       "            background-color:  #4a4a4a;\n",
       "            color:  #f1f1f1;\n",
       "        }#T_ca51bf48_0a8a_11eb_92f5_42010a8a0002row1_col8,#T_ca51bf48_0a8a_11eb_92f5_42010a8a0002row1_col9,#T_ca51bf48_0a8a_11eb_92f5_42010a8a0002row1_col10,#T_ca51bf48_0a8a_11eb_92f5_42010a8a0002row2_col5,#T_ca51bf48_0a8a_11eb_92f5_42010a8a0002row2_col6,#T_ca51bf48_0a8a_11eb_92f5_42010a8a0002row2_col7,#T_ca51bf48_0a8a_11eb_92f5_42010a8a0002row2_col11,#T_ca51bf48_0a8a_11eb_92f5_42010a8a0002row2_col12,#T_ca51bf48_0a8a_11eb_92f5_42010a8a0002row2_col13,#T_ca51bf48_0a8a_11eb_92f5_42010a8a0002row3_col4,#T_ca51bf48_0a8a_11eb_92f5_42010a8a0002row3_col12,#T_ca51bf48_0a8a_11eb_92f5_42010a8a0002row3_col13,#T_ca51bf48_0a8a_11eb_92f5_42010a8a0002row4_col1,#T_ca51bf48_0a8a_11eb_92f5_42010a8a0002row4_col2,#T_ca51bf48_0a8a_11eb_92f5_42010a8a0002row4_col3,#T_ca51bf48_0a8a_11eb_92f5_42010a8a0002row4_col12,#T_ca51bf48_0a8a_11eb_92f5_42010a8a0002row4_col13,#T_ca51bf48_0a8a_11eb_92f5_42010a8a0002row5_col12,#T_ca51bf48_0a8a_11eb_92f5_42010a8a0002row6_col11,#T_ca51bf48_0a8a_11eb_92f5_42010a8a0002row9_col11,#T_ca51bf48_0a8a_11eb_92f5_42010a8a0002row10_col11,#T_ca51bf48_0a8a_11eb_92f5_42010a8a0002row10_col12,#T_ca51bf48_0a8a_11eb_92f5_42010a8a0002row10_col13,#T_ca51bf48_0a8a_11eb_92f5_42010a8a0002row10_col14,#T_ca51bf48_0a8a_11eb_92f5_42010a8a0002row10_col15,#T_ca51bf48_0a8a_11eb_92f5_42010a8a0002row10_col16{\n",
       "            font-size:  6pt;\n",
       "            background-color:  #000000;\n",
       "            color:  #f1f1f1;\n",
       "        }#T_ca51bf48_0a8a_11eb_92f5_42010a8a0002row1_col11{\n",
       "            font-size:  6pt;\n",
       "            background-color:  #606060;\n",
       "            color:  #f1f1f1;\n",
       "        }#T_ca51bf48_0a8a_11eb_92f5_42010a8a0002row1_col12{\n",
       "            font-size:  6pt;\n",
       "            background-color:  #4d4d4d;\n",
       "            color:  #f1f1f1;\n",
       "        }#T_ca51bf48_0a8a_11eb_92f5_42010a8a0002row1_col14{\n",
       "            font-size:  6pt;\n",
       "            background-color:  #bbbbbb;\n",
       "            color:  #000000;\n",
       "        }#T_ca51bf48_0a8a_11eb_92f5_42010a8a0002row2_col3{\n",
       "            font-size:  6pt;\n",
       "            background-color:  #e4e4e4;\n",
       "            color:  #000000;\n",
       "        }#T_ca51bf48_0a8a_11eb_92f5_42010a8a0002row2_col4,#T_ca51bf48_0a8a_11eb_92f5_42010a8a0002row8_col6{\n",
       "            font-size:  6pt;\n",
       "            background-color:  #6b6b6b;\n",
       "            color:  #000000;\n",
       "        }#T_ca51bf48_0a8a_11eb_92f5_42010a8a0002row2_col8,#T_ca51bf48_0a8a_11eb_92f5_42010a8a0002row2_col14,#T_ca51bf48_0a8a_11eb_92f5_42010a8a0002row3_col14{\n",
       "            font-size:  6pt;\n",
       "            background-color:  #171717;\n",
       "            color:  #f1f1f1;\n",
       "        }#T_ca51bf48_0a8a_11eb_92f5_42010a8a0002row2_col9,#T_ca51bf48_0a8a_11eb_92f5_42010a8a0002row3_col11{\n",
       "            font-size:  6pt;\n",
       "            background-color:  #4b4b4b;\n",
       "            color:  #f1f1f1;\n",
       "        }#T_ca51bf48_0a8a_11eb_92f5_42010a8a0002row2_col10,#T_ca51bf48_0a8a_11eb_92f5_42010a8a0002row7_col10,#T_ca51bf48_0a8a_11eb_92f5_42010a8a0002row8_col8,#T_ca51bf48_0a8a_11eb_92f5_42010a8a0002row8_col10,#T_ca51bf48_0a8a_11eb_92f5_42010a8a0002row9_col8,#T_ca51bf48_0a8a_11eb_92f5_42010a8a0002row9_col10{\n",
       "            font-size:  6pt;\n",
       "            background-color:  #010101;\n",
       "            color:  #f1f1f1;\n",
       "        }#T_ca51bf48_0a8a_11eb_92f5_42010a8a0002row3_col1{\n",
       "            font-size:  6pt;\n",
       "            background-color:  #272727;\n",
       "            color:  #f1f1f1;\n",
       "        }#T_ca51bf48_0a8a_11eb_92f5_42010a8a0002row3_col2{\n",
       "            font-size:  6pt;\n",
       "            background-color:  #0a0a0a;\n",
       "            color:  #f1f1f1;\n",
       "        }#T_ca51bf48_0a8a_11eb_92f5_42010a8a0002row3_col3{\n",
       "            font-size:  6pt;\n",
       "            background-color:  #050505;\n",
       "            color:  #f1f1f1;\n",
       "        }#T_ca51bf48_0a8a_11eb_92f5_42010a8a0002row3_col5{\n",
       "            font-size:  6pt;\n",
       "            background-color:  #333333;\n",
       "            color:  #f1f1f1;\n",
       "        }#T_ca51bf48_0a8a_11eb_92f5_42010a8a0002row3_col6{\n",
       "            font-size:  6pt;\n",
       "            background-color:  #e6e6e6;\n",
       "            color:  #000000;\n",
       "        }#T_ca51bf48_0a8a_11eb_92f5_42010a8a0002row3_col7,#T_ca51bf48_0a8a_11eb_92f5_42010a8a0002row3_col10{\n",
       "            font-size:  6pt;\n",
       "            background-color:  #fafafa;\n",
       "            color:  #000000;\n",
       "        }#T_ca51bf48_0a8a_11eb_92f5_42010a8a0002row3_col8{\n",
       "            font-size:  6pt;\n",
       "            background-color:  #fbfbfb;\n",
       "            color:  #000000;\n",
       "        }#T_ca51bf48_0a8a_11eb_92f5_42010a8a0002row3_col9{\n",
       "            font-size:  6pt;\n",
       "            background-color:  #fdfdfd;\n",
       "            color:  #000000;\n",
       "        }#T_ca51bf48_0a8a_11eb_92f5_42010a8a0002row4_col4{\n",
       "            font-size:  6pt;\n",
       "            background-color:  #1b1b1b;\n",
       "            color:  #f1f1f1;\n",
       "        }#T_ca51bf48_0a8a_11eb_92f5_42010a8a0002row4_col5{\n",
       "            font-size:  6pt;\n",
       "            background-color:  #e0e0e0;\n",
       "            color:  #000000;\n",
       "        }#T_ca51bf48_0a8a_11eb_92f5_42010a8a0002row4_col11{\n",
       "            font-size:  6pt;\n",
       "            background-color:  #4e4e4e;\n",
       "            color:  #f1f1f1;\n",
       "        }#T_ca51bf48_0a8a_11eb_92f5_42010a8a0002row4_col14{\n",
       "            font-size:  6pt;\n",
       "            background-color:  #767676;\n",
       "            color:  #000000;\n",
       "        }#T_ca51bf48_0a8a_11eb_92f5_42010a8a0002row5_col1{\n",
       "            font-size:  6pt;\n",
       "            background-color:  #fcfcfc;\n",
       "            color:  #000000;\n",
       "        }#T_ca51bf48_0a8a_11eb_92f5_42010a8a0002row5_col2,#T_ca51bf48_0a8a_11eb_92f5_42010a8a0002row5_col3{\n",
       "            font-size:  6pt;\n",
       "            background-color:  #f6f6f6;\n",
       "            color:  #000000;\n",
       "        }#T_ca51bf48_0a8a_11eb_92f5_42010a8a0002row5_col4,#T_ca51bf48_0a8a_11eb_92f5_42010a8a0002row7_col7{\n",
       "            font-size:  6pt;\n",
       "            background-color:  #f8f8f8;\n",
       "            color:  #000000;\n",
       "        }#T_ca51bf48_0a8a_11eb_92f5_42010a8a0002row5_col10,#T_ca51bf48_0a8a_11eb_92f5_42010a8a0002row10_col7{\n",
       "            font-size:  6pt;\n",
       "            background-color:  #e8e8e8;\n",
       "            color:  #000000;\n",
       "        }#T_ca51bf48_0a8a_11eb_92f5_42010a8a0002row5_col11{\n",
       "            font-size:  6pt;\n",
       "            background-color:  #222222;\n",
       "            color:  #f1f1f1;\n",
       "        }#T_ca51bf48_0a8a_11eb_92f5_42010a8a0002row5_col13,#T_ca51bf48_0a8a_11eb_92f5_42010a8a0002row6_col12{\n",
       "            font-size:  6pt;\n",
       "            background-color:  #090909;\n",
       "            color:  #f1f1f1;\n",
       "        }#T_ca51bf48_0a8a_11eb_92f5_42010a8a0002row5_col14{\n",
       "            font-size:  6pt;\n",
       "            background-color:  #d0d0d0;\n",
       "            color:  #000000;\n",
       "        }#T_ca51bf48_0a8a_11eb_92f5_42010a8a0002row6_col10,#T_ca51bf48_0a8a_11eb_92f5_42010a8a0002row7_col11,#T_ca51bf48_0a8a_11eb_92f5_42010a8a0002row9_col6{\n",
       "            font-size:  6pt;\n",
       "            background-color:  #060606;\n",
       "            color:  #f1f1f1;\n",
       "        }#T_ca51bf48_0a8a_11eb_92f5_42010a8a0002row6_col13{\n",
       "            font-size:  6pt;\n",
       "            background-color:  #979797;\n",
       "            color:  #000000;\n",
       "        }#T_ca51bf48_0a8a_11eb_92f5_42010a8a0002row7_col8{\n",
       "            font-size:  6pt;\n",
       "            background-color:  #b6b6b6;\n",
       "            color:  #000000;\n",
       "        }#T_ca51bf48_0a8a_11eb_92f5_42010a8a0002row7_col9{\n",
       "            font-size:  6pt;\n",
       "            background-color:  #252525;\n",
       "            color:  #f1f1f1;\n",
       "        }#T_ca51bf48_0a8a_11eb_92f5_42010a8a0002row7_col12{\n",
       "            font-size:  6pt;\n",
       "            background-color:  #999999;\n",
       "            color:  #000000;\n",
       "        }#T_ca51bf48_0a8a_11eb_92f5_42010a8a0002row8_col5{\n",
       "            font-size:  6pt;\n",
       "            background-color:  #f9f9f9;\n",
       "            color:  #000000;\n",
       "        }#T_ca51bf48_0a8a_11eb_92f5_42010a8a0002row8_col7{\n",
       "            font-size:  6pt;\n",
       "            background-color:  #101010;\n",
       "            color:  #f1f1f1;\n",
       "        }#T_ca51bf48_0a8a_11eb_92f5_42010a8a0002row8_col9,#T_ca51bf48_0a8a_11eb_92f5_42010a8a0002row9_col9{\n",
       "            font-size:  6pt;\n",
       "            background-color:  #020202;\n",
       "            color:  #f1f1f1;\n",
       "        }#T_ca51bf48_0a8a_11eb_92f5_42010a8a0002row8_col11{\n",
       "            font-size:  6pt;\n",
       "            background-color:  #545454;\n",
       "            color:  #f1f1f1;\n",
       "        }#T_ca51bf48_0a8a_11eb_92f5_42010a8a0002row8_col12{\n",
       "            font-size:  6pt;\n",
       "            background-color:  #f1f1f1;\n",
       "            color:  #000000;\n",
       "        }#T_ca51bf48_0a8a_11eb_92f5_42010a8a0002row9_col5{\n",
       "            font-size:  6pt;\n",
       "            background-color:  #f7f7f7;\n",
       "            color:  #000000;\n",
       "        }#T_ca51bf48_0a8a_11eb_92f5_42010a8a0002row9_col7{\n",
       "            font-size:  6pt;\n",
       "            background-color:  #030303;\n",
       "            color:  #f1f1f1;\n",
       "        }#T_ca51bf48_0a8a_11eb_92f5_42010a8a0002row9_col12{\n",
       "            font-size:  6pt;\n",
       "            background-color:  #181818;\n",
       "            color:  #f1f1f1;\n",
       "        }#T_ca51bf48_0a8a_11eb_92f5_42010a8a0002row9_col13{\n",
       "            font-size:  6pt;\n",
       "            background-color:  #303030;\n",
       "            color:  #f1f1f1;\n",
       "        }#T_ca51bf48_0a8a_11eb_92f5_42010a8a0002row9_col14{\n",
       "            font-size:  6pt;\n",
       "            background-color:  #a9a9a9;\n",
       "            color:  #000000;\n",
       "        }#T_ca51bf48_0a8a_11eb_92f5_42010a8a0002row9_col15{\n",
       "            font-size:  6pt;\n",
       "            background-color:  #fefefe;\n",
       "            color:  #000000;\n",
       "        }#T_ca51bf48_0a8a_11eb_92f5_42010a8a0002row10_col8,#T_ca51bf48_0a8a_11eb_92f5_42010a8a0002row10_col9{\n",
       "            font-size:  6pt;\n",
       "            background-color:  #bababa;\n",
       "            color:  #000000;\n",
       "        }#T_ca51bf48_0a8a_11eb_92f5_42010a8a0002row10_col10{\n",
       "            font-size:  6pt;\n",
       "            background-color:  #393939;\n",
       "            color:  #f1f1f1;\n",
       "        }</style><table id=\"T_ca51bf48_0a8a_11eb_92f5_42010a8a0002\" ><thead>    <tr>        <th class=\"blank level0\" ></th>        <th class=\"col_heading level0 col0\" >0</th>        <th class=\"col_heading level0 col1\" >1</th>        <th class=\"col_heading level0 col2\" >2</th>        <th class=\"col_heading level0 col3\" >3</th>        <th class=\"col_heading level0 col4\" >4</th>        <th class=\"col_heading level0 col5\" >5</th>        <th class=\"col_heading level0 col6\" >6</th>        <th class=\"col_heading level0 col7\" >7</th>        <th class=\"col_heading level0 col8\" >8</th>        <th class=\"col_heading level0 col9\" >9</th>        <th class=\"col_heading level0 col10\" >10</th>        <th class=\"col_heading level0 col11\" >11</th>        <th class=\"col_heading level0 col12\" >12</th>        <th class=\"col_heading level0 col13\" >13</th>        <th class=\"col_heading level0 col14\" >14</th>        <th class=\"col_heading level0 col15\" >15</th>        <th class=\"col_heading level0 col16\" >16</th>        <th class=\"col_heading level0 col17\" >17</th>    </tr></thead><tbody>\n",
       "                <tr>\n",
       "                        <th id=\"T_ca51bf48_0a8a_11eb_92f5_42010a8a0002level0_row0\" class=\"row_heading level0 row0\" >0</th>\n",
       "                        <td id=\"T_ca51bf48_0a8a_11eb_92f5_42010a8a0002row0_col0\" class=\"data row0 col0\" >0</td>\n",
       "                        <td id=\"T_ca51bf48_0a8a_11eb_92f5_42010a8a0002row0_col1\" class=\"data row0 col1\" >0</td>\n",
       "                        <td id=\"T_ca51bf48_0a8a_11eb_92f5_42010a8a0002row0_col2\" class=\"data row0 col2\" >0</td>\n",
       "                        <td id=\"T_ca51bf48_0a8a_11eb_92f5_42010a8a0002row0_col3\" class=\"data row0 col3\" >0</td>\n",
       "                        <td id=\"T_ca51bf48_0a8a_11eb_92f5_42010a8a0002row0_col4\" class=\"data row0 col4\" >0</td>\n",
       "                        <td id=\"T_ca51bf48_0a8a_11eb_92f5_42010a8a0002row0_col5\" class=\"data row0 col5\" >0</td>\n",
       "                        <td id=\"T_ca51bf48_0a8a_11eb_92f5_42010a8a0002row0_col6\" class=\"data row0 col6\" >0</td>\n",
       "                        <td id=\"T_ca51bf48_0a8a_11eb_92f5_42010a8a0002row0_col7\" class=\"data row0 col7\" >0</td>\n",
       "                        <td id=\"T_ca51bf48_0a8a_11eb_92f5_42010a8a0002row0_col8\" class=\"data row0 col8\" >0</td>\n",
       "                        <td id=\"T_ca51bf48_0a8a_11eb_92f5_42010a8a0002row0_col9\" class=\"data row0 col9\" >0</td>\n",
       "                        <td id=\"T_ca51bf48_0a8a_11eb_92f5_42010a8a0002row0_col10\" class=\"data row0 col10\" >0</td>\n",
       "                        <td id=\"T_ca51bf48_0a8a_11eb_92f5_42010a8a0002row0_col11\" class=\"data row0 col11\" >0</td>\n",
       "                        <td id=\"T_ca51bf48_0a8a_11eb_92f5_42010a8a0002row0_col12\" class=\"data row0 col12\" >0</td>\n",
       "                        <td id=\"T_ca51bf48_0a8a_11eb_92f5_42010a8a0002row0_col13\" class=\"data row0 col13\" >0</td>\n",
       "                        <td id=\"T_ca51bf48_0a8a_11eb_92f5_42010a8a0002row0_col14\" class=\"data row0 col14\" >0</td>\n",
       "                        <td id=\"T_ca51bf48_0a8a_11eb_92f5_42010a8a0002row0_col15\" class=\"data row0 col15\" >0</td>\n",
       "                        <td id=\"T_ca51bf48_0a8a_11eb_92f5_42010a8a0002row0_col16\" class=\"data row0 col16\" >0</td>\n",
       "                        <td id=\"T_ca51bf48_0a8a_11eb_92f5_42010a8a0002row0_col17\" class=\"data row0 col17\" >0</td>\n",
       "            </tr>\n",
       "            <tr>\n",
       "                        <th id=\"T_ca51bf48_0a8a_11eb_92f5_42010a8a0002level0_row1\" class=\"row_heading level0 row1\" >1</th>\n",
       "                        <td id=\"T_ca51bf48_0a8a_11eb_92f5_42010a8a0002row1_col0\" class=\"data row1 col0\" >0</td>\n",
       "                        <td id=\"T_ca51bf48_0a8a_11eb_92f5_42010a8a0002row1_col1\" class=\"data row1 col1\" >0</td>\n",
       "                        <td id=\"T_ca51bf48_0a8a_11eb_92f5_42010a8a0002row1_col2\" class=\"data row1 col2\" >0</td>\n",
       "                        <td id=\"T_ca51bf48_0a8a_11eb_92f5_42010a8a0002row1_col3\" class=\"data row1 col3\" >0</td>\n",
       "                        <td id=\"T_ca51bf48_0a8a_11eb_92f5_42010a8a0002row1_col4\" class=\"data row1 col4\" >0</td>\n",
       "                        <td id=\"T_ca51bf48_0a8a_11eb_92f5_42010a8a0002row1_col5\" class=\"data row1 col5\" >29</td>\n",
       "                        <td id=\"T_ca51bf48_0a8a_11eb_92f5_42010a8a0002row1_col6\" class=\"data row1 col6\" >150</td>\n",
       "                        <td id=\"T_ca51bf48_0a8a_11eb_92f5_42010a8a0002row1_col7\" class=\"data row1 col7\" >195</td>\n",
       "                        <td id=\"T_ca51bf48_0a8a_11eb_92f5_42010a8a0002row1_col8\" class=\"data row1 col8\" >254</td>\n",
       "                        <td id=\"T_ca51bf48_0a8a_11eb_92f5_42010a8a0002row1_col9\" class=\"data row1 col9\" >255</td>\n",
       "                        <td id=\"T_ca51bf48_0a8a_11eb_92f5_42010a8a0002row1_col10\" class=\"data row1 col10\" >254</td>\n",
       "                        <td id=\"T_ca51bf48_0a8a_11eb_92f5_42010a8a0002row1_col11\" class=\"data row1 col11\" >176</td>\n",
       "                        <td id=\"T_ca51bf48_0a8a_11eb_92f5_42010a8a0002row1_col12\" class=\"data row1 col12\" >193</td>\n",
       "                        <td id=\"T_ca51bf48_0a8a_11eb_92f5_42010a8a0002row1_col13\" class=\"data row1 col13\" >150</td>\n",
       "                        <td id=\"T_ca51bf48_0a8a_11eb_92f5_42010a8a0002row1_col14\" class=\"data row1 col14\" >96</td>\n",
       "                        <td id=\"T_ca51bf48_0a8a_11eb_92f5_42010a8a0002row1_col15\" class=\"data row1 col15\" >0</td>\n",
       "                        <td id=\"T_ca51bf48_0a8a_11eb_92f5_42010a8a0002row1_col16\" class=\"data row1 col16\" >0</td>\n",
       "                        <td id=\"T_ca51bf48_0a8a_11eb_92f5_42010a8a0002row1_col17\" class=\"data row1 col17\" >0</td>\n",
       "            </tr>\n",
       "            <tr>\n",
       "                        <th id=\"T_ca51bf48_0a8a_11eb_92f5_42010a8a0002level0_row2\" class=\"row_heading level0 row2\" >2</th>\n",
       "                        <td id=\"T_ca51bf48_0a8a_11eb_92f5_42010a8a0002row2_col0\" class=\"data row2 col0\" >0</td>\n",
       "                        <td id=\"T_ca51bf48_0a8a_11eb_92f5_42010a8a0002row2_col1\" class=\"data row2 col1\" >0</td>\n",
       "                        <td id=\"T_ca51bf48_0a8a_11eb_92f5_42010a8a0002row2_col2\" class=\"data row2 col2\" >0</td>\n",
       "                        <td id=\"T_ca51bf48_0a8a_11eb_92f5_42010a8a0002row2_col3\" class=\"data row2 col3\" >48</td>\n",
       "                        <td id=\"T_ca51bf48_0a8a_11eb_92f5_42010a8a0002row2_col4\" class=\"data row2 col4\" >166</td>\n",
       "                        <td id=\"T_ca51bf48_0a8a_11eb_92f5_42010a8a0002row2_col5\" class=\"data row2 col5\" >224</td>\n",
       "                        <td id=\"T_ca51bf48_0a8a_11eb_92f5_42010a8a0002row2_col6\" class=\"data row2 col6\" >253</td>\n",
       "                        <td id=\"T_ca51bf48_0a8a_11eb_92f5_42010a8a0002row2_col7\" class=\"data row2 col7\" >253</td>\n",
       "                        <td id=\"T_ca51bf48_0a8a_11eb_92f5_42010a8a0002row2_col8\" class=\"data row2 col8\" >234</td>\n",
       "                        <td id=\"T_ca51bf48_0a8a_11eb_92f5_42010a8a0002row2_col9\" class=\"data row2 col9\" >196</td>\n",
       "                        <td id=\"T_ca51bf48_0a8a_11eb_92f5_42010a8a0002row2_col10\" class=\"data row2 col10\" >253</td>\n",
       "                        <td id=\"T_ca51bf48_0a8a_11eb_92f5_42010a8a0002row2_col11\" class=\"data row2 col11\" >253</td>\n",
       "                        <td id=\"T_ca51bf48_0a8a_11eb_92f5_42010a8a0002row2_col12\" class=\"data row2 col12\" >253</td>\n",
       "                        <td id=\"T_ca51bf48_0a8a_11eb_92f5_42010a8a0002row2_col13\" class=\"data row2 col13\" >253</td>\n",
       "                        <td id=\"T_ca51bf48_0a8a_11eb_92f5_42010a8a0002row2_col14\" class=\"data row2 col14\" >233</td>\n",
       "                        <td id=\"T_ca51bf48_0a8a_11eb_92f5_42010a8a0002row2_col15\" class=\"data row2 col15\" >0</td>\n",
       "                        <td id=\"T_ca51bf48_0a8a_11eb_92f5_42010a8a0002row2_col16\" class=\"data row2 col16\" >0</td>\n",
       "                        <td id=\"T_ca51bf48_0a8a_11eb_92f5_42010a8a0002row2_col17\" class=\"data row2 col17\" >0</td>\n",
       "            </tr>\n",
       "            <tr>\n",
       "                        <th id=\"T_ca51bf48_0a8a_11eb_92f5_42010a8a0002level0_row3\" class=\"row_heading level0 row3\" >3</th>\n",
       "                        <td id=\"T_ca51bf48_0a8a_11eb_92f5_42010a8a0002row3_col0\" class=\"data row3 col0\" >0</td>\n",
       "                        <td id=\"T_ca51bf48_0a8a_11eb_92f5_42010a8a0002row3_col1\" class=\"data row3 col1\" >93</td>\n",
       "                        <td id=\"T_ca51bf48_0a8a_11eb_92f5_42010a8a0002row3_col2\" class=\"data row3 col2\" >244</td>\n",
       "                        <td id=\"T_ca51bf48_0a8a_11eb_92f5_42010a8a0002row3_col3\" class=\"data row3 col3\" >249</td>\n",
       "                        <td id=\"T_ca51bf48_0a8a_11eb_92f5_42010a8a0002row3_col4\" class=\"data row3 col4\" >253</td>\n",
       "                        <td id=\"T_ca51bf48_0a8a_11eb_92f5_42010a8a0002row3_col5\" class=\"data row3 col5\" >187</td>\n",
       "                        <td id=\"T_ca51bf48_0a8a_11eb_92f5_42010a8a0002row3_col6\" class=\"data row3 col6\" >46</td>\n",
       "                        <td id=\"T_ca51bf48_0a8a_11eb_92f5_42010a8a0002row3_col7\" class=\"data row3 col7\" >10</td>\n",
       "                        <td id=\"T_ca51bf48_0a8a_11eb_92f5_42010a8a0002row3_col8\" class=\"data row3 col8\" >8</td>\n",
       "                        <td id=\"T_ca51bf48_0a8a_11eb_92f5_42010a8a0002row3_col9\" class=\"data row3 col9\" >4</td>\n",
       "                        <td id=\"T_ca51bf48_0a8a_11eb_92f5_42010a8a0002row3_col10\" class=\"data row3 col10\" >10</td>\n",
       "                        <td id=\"T_ca51bf48_0a8a_11eb_92f5_42010a8a0002row3_col11\" class=\"data row3 col11\" >194</td>\n",
       "                        <td id=\"T_ca51bf48_0a8a_11eb_92f5_42010a8a0002row3_col12\" class=\"data row3 col12\" >253</td>\n",
       "                        <td id=\"T_ca51bf48_0a8a_11eb_92f5_42010a8a0002row3_col13\" class=\"data row3 col13\" >253</td>\n",
       "                        <td id=\"T_ca51bf48_0a8a_11eb_92f5_42010a8a0002row3_col14\" class=\"data row3 col14\" >233</td>\n",
       "                        <td id=\"T_ca51bf48_0a8a_11eb_92f5_42010a8a0002row3_col15\" class=\"data row3 col15\" >0</td>\n",
       "                        <td id=\"T_ca51bf48_0a8a_11eb_92f5_42010a8a0002row3_col16\" class=\"data row3 col16\" >0</td>\n",
       "                        <td id=\"T_ca51bf48_0a8a_11eb_92f5_42010a8a0002row3_col17\" class=\"data row3 col17\" >0</td>\n",
       "            </tr>\n",
       "            <tr>\n",
       "                        <th id=\"T_ca51bf48_0a8a_11eb_92f5_42010a8a0002level0_row4\" class=\"row_heading level0 row4\" >4</th>\n",
       "                        <td id=\"T_ca51bf48_0a8a_11eb_92f5_42010a8a0002row4_col0\" class=\"data row4 col0\" >0</td>\n",
       "                        <td id=\"T_ca51bf48_0a8a_11eb_92f5_42010a8a0002row4_col1\" class=\"data row4 col1\" >107</td>\n",
       "                        <td id=\"T_ca51bf48_0a8a_11eb_92f5_42010a8a0002row4_col2\" class=\"data row4 col2\" >253</td>\n",
       "                        <td id=\"T_ca51bf48_0a8a_11eb_92f5_42010a8a0002row4_col3\" class=\"data row4 col3\" >253</td>\n",
       "                        <td id=\"T_ca51bf48_0a8a_11eb_92f5_42010a8a0002row4_col4\" class=\"data row4 col4\" >230</td>\n",
       "                        <td id=\"T_ca51bf48_0a8a_11eb_92f5_42010a8a0002row4_col5\" class=\"data row4 col5\" >48</td>\n",
       "                        <td id=\"T_ca51bf48_0a8a_11eb_92f5_42010a8a0002row4_col6\" class=\"data row4 col6\" >0</td>\n",
       "                        <td id=\"T_ca51bf48_0a8a_11eb_92f5_42010a8a0002row4_col7\" class=\"data row4 col7\" >0</td>\n",
       "                        <td id=\"T_ca51bf48_0a8a_11eb_92f5_42010a8a0002row4_col8\" class=\"data row4 col8\" >0</td>\n",
       "                        <td id=\"T_ca51bf48_0a8a_11eb_92f5_42010a8a0002row4_col9\" class=\"data row4 col9\" >0</td>\n",
       "                        <td id=\"T_ca51bf48_0a8a_11eb_92f5_42010a8a0002row4_col10\" class=\"data row4 col10\" >0</td>\n",
       "                        <td id=\"T_ca51bf48_0a8a_11eb_92f5_42010a8a0002row4_col11\" class=\"data row4 col11\" >192</td>\n",
       "                        <td id=\"T_ca51bf48_0a8a_11eb_92f5_42010a8a0002row4_col12\" class=\"data row4 col12\" >253</td>\n",
       "                        <td id=\"T_ca51bf48_0a8a_11eb_92f5_42010a8a0002row4_col13\" class=\"data row4 col13\" >253</td>\n",
       "                        <td id=\"T_ca51bf48_0a8a_11eb_92f5_42010a8a0002row4_col14\" class=\"data row4 col14\" >156</td>\n",
       "                        <td id=\"T_ca51bf48_0a8a_11eb_92f5_42010a8a0002row4_col15\" class=\"data row4 col15\" >0</td>\n",
       "                        <td id=\"T_ca51bf48_0a8a_11eb_92f5_42010a8a0002row4_col16\" class=\"data row4 col16\" >0</td>\n",
       "                        <td id=\"T_ca51bf48_0a8a_11eb_92f5_42010a8a0002row4_col17\" class=\"data row4 col17\" >0</td>\n",
       "            </tr>\n",
       "            <tr>\n",
       "                        <th id=\"T_ca51bf48_0a8a_11eb_92f5_42010a8a0002level0_row5\" class=\"row_heading level0 row5\" >5</th>\n",
       "                        <td id=\"T_ca51bf48_0a8a_11eb_92f5_42010a8a0002row5_col0\" class=\"data row5 col0\" >0</td>\n",
       "                        <td id=\"T_ca51bf48_0a8a_11eb_92f5_42010a8a0002row5_col1\" class=\"data row5 col1\" >3</td>\n",
       "                        <td id=\"T_ca51bf48_0a8a_11eb_92f5_42010a8a0002row5_col2\" class=\"data row5 col2\" >20</td>\n",
       "                        <td id=\"T_ca51bf48_0a8a_11eb_92f5_42010a8a0002row5_col3\" class=\"data row5 col3\" >20</td>\n",
       "                        <td id=\"T_ca51bf48_0a8a_11eb_92f5_42010a8a0002row5_col4\" class=\"data row5 col4\" >15</td>\n",
       "                        <td id=\"T_ca51bf48_0a8a_11eb_92f5_42010a8a0002row5_col5\" class=\"data row5 col5\" >0</td>\n",
       "                        <td id=\"T_ca51bf48_0a8a_11eb_92f5_42010a8a0002row5_col6\" class=\"data row5 col6\" >0</td>\n",
       "                        <td id=\"T_ca51bf48_0a8a_11eb_92f5_42010a8a0002row5_col7\" class=\"data row5 col7\" >0</td>\n",
       "                        <td id=\"T_ca51bf48_0a8a_11eb_92f5_42010a8a0002row5_col8\" class=\"data row5 col8\" >0</td>\n",
       "                        <td id=\"T_ca51bf48_0a8a_11eb_92f5_42010a8a0002row5_col9\" class=\"data row5 col9\" >0</td>\n",
       "                        <td id=\"T_ca51bf48_0a8a_11eb_92f5_42010a8a0002row5_col10\" class=\"data row5 col10\" >43</td>\n",
       "                        <td id=\"T_ca51bf48_0a8a_11eb_92f5_42010a8a0002row5_col11\" class=\"data row5 col11\" >224</td>\n",
       "                        <td id=\"T_ca51bf48_0a8a_11eb_92f5_42010a8a0002row5_col12\" class=\"data row5 col12\" >253</td>\n",
       "                        <td id=\"T_ca51bf48_0a8a_11eb_92f5_42010a8a0002row5_col13\" class=\"data row5 col13\" >245</td>\n",
       "                        <td id=\"T_ca51bf48_0a8a_11eb_92f5_42010a8a0002row5_col14\" class=\"data row5 col14\" >74</td>\n",
       "                        <td id=\"T_ca51bf48_0a8a_11eb_92f5_42010a8a0002row5_col15\" class=\"data row5 col15\" >0</td>\n",
       "                        <td id=\"T_ca51bf48_0a8a_11eb_92f5_42010a8a0002row5_col16\" class=\"data row5 col16\" >0</td>\n",
       "                        <td id=\"T_ca51bf48_0a8a_11eb_92f5_42010a8a0002row5_col17\" class=\"data row5 col17\" >0</td>\n",
       "            </tr>\n",
       "            <tr>\n",
       "                        <th id=\"T_ca51bf48_0a8a_11eb_92f5_42010a8a0002level0_row6\" class=\"row_heading level0 row6\" >6</th>\n",
       "                        <td id=\"T_ca51bf48_0a8a_11eb_92f5_42010a8a0002row6_col0\" class=\"data row6 col0\" >0</td>\n",
       "                        <td id=\"T_ca51bf48_0a8a_11eb_92f5_42010a8a0002row6_col1\" class=\"data row6 col1\" >0</td>\n",
       "                        <td id=\"T_ca51bf48_0a8a_11eb_92f5_42010a8a0002row6_col2\" class=\"data row6 col2\" >0</td>\n",
       "                        <td id=\"T_ca51bf48_0a8a_11eb_92f5_42010a8a0002row6_col3\" class=\"data row6 col3\" >0</td>\n",
       "                        <td id=\"T_ca51bf48_0a8a_11eb_92f5_42010a8a0002row6_col4\" class=\"data row6 col4\" >0</td>\n",
       "                        <td id=\"T_ca51bf48_0a8a_11eb_92f5_42010a8a0002row6_col5\" class=\"data row6 col5\" >0</td>\n",
       "                        <td id=\"T_ca51bf48_0a8a_11eb_92f5_42010a8a0002row6_col6\" class=\"data row6 col6\" >0</td>\n",
       "                        <td id=\"T_ca51bf48_0a8a_11eb_92f5_42010a8a0002row6_col7\" class=\"data row6 col7\" >0</td>\n",
       "                        <td id=\"T_ca51bf48_0a8a_11eb_92f5_42010a8a0002row6_col8\" class=\"data row6 col8\" >0</td>\n",
       "                        <td id=\"T_ca51bf48_0a8a_11eb_92f5_42010a8a0002row6_col9\" class=\"data row6 col9\" >0</td>\n",
       "                        <td id=\"T_ca51bf48_0a8a_11eb_92f5_42010a8a0002row6_col10\" class=\"data row6 col10\" >249</td>\n",
       "                        <td id=\"T_ca51bf48_0a8a_11eb_92f5_42010a8a0002row6_col11\" class=\"data row6 col11\" >253</td>\n",
       "                        <td id=\"T_ca51bf48_0a8a_11eb_92f5_42010a8a0002row6_col12\" class=\"data row6 col12\" >245</td>\n",
       "                        <td id=\"T_ca51bf48_0a8a_11eb_92f5_42010a8a0002row6_col13\" class=\"data row6 col13\" >126</td>\n",
       "                        <td id=\"T_ca51bf48_0a8a_11eb_92f5_42010a8a0002row6_col14\" class=\"data row6 col14\" >0</td>\n",
       "                        <td id=\"T_ca51bf48_0a8a_11eb_92f5_42010a8a0002row6_col15\" class=\"data row6 col15\" >0</td>\n",
       "                        <td id=\"T_ca51bf48_0a8a_11eb_92f5_42010a8a0002row6_col16\" class=\"data row6 col16\" >0</td>\n",
       "                        <td id=\"T_ca51bf48_0a8a_11eb_92f5_42010a8a0002row6_col17\" class=\"data row6 col17\" >0</td>\n",
       "            </tr>\n",
       "            <tr>\n",
       "                        <th id=\"T_ca51bf48_0a8a_11eb_92f5_42010a8a0002level0_row7\" class=\"row_heading level0 row7\" >7</th>\n",
       "                        <td id=\"T_ca51bf48_0a8a_11eb_92f5_42010a8a0002row7_col0\" class=\"data row7 col0\" >0</td>\n",
       "                        <td id=\"T_ca51bf48_0a8a_11eb_92f5_42010a8a0002row7_col1\" class=\"data row7 col1\" >0</td>\n",
       "                        <td id=\"T_ca51bf48_0a8a_11eb_92f5_42010a8a0002row7_col2\" class=\"data row7 col2\" >0</td>\n",
       "                        <td id=\"T_ca51bf48_0a8a_11eb_92f5_42010a8a0002row7_col3\" class=\"data row7 col3\" >0</td>\n",
       "                        <td id=\"T_ca51bf48_0a8a_11eb_92f5_42010a8a0002row7_col4\" class=\"data row7 col4\" >0</td>\n",
       "                        <td id=\"T_ca51bf48_0a8a_11eb_92f5_42010a8a0002row7_col5\" class=\"data row7 col5\" >0</td>\n",
       "                        <td id=\"T_ca51bf48_0a8a_11eb_92f5_42010a8a0002row7_col6\" class=\"data row7 col6\" >0</td>\n",
       "                        <td id=\"T_ca51bf48_0a8a_11eb_92f5_42010a8a0002row7_col7\" class=\"data row7 col7\" >14</td>\n",
       "                        <td id=\"T_ca51bf48_0a8a_11eb_92f5_42010a8a0002row7_col8\" class=\"data row7 col8\" >101</td>\n",
       "                        <td id=\"T_ca51bf48_0a8a_11eb_92f5_42010a8a0002row7_col9\" class=\"data row7 col9\" >223</td>\n",
       "                        <td id=\"T_ca51bf48_0a8a_11eb_92f5_42010a8a0002row7_col10\" class=\"data row7 col10\" >253</td>\n",
       "                        <td id=\"T_ca51bf48_0a8a_11eb_92f5_42010a8a0002row7_col11\" class=\"data row7 col11\" >248</td>\n",
       "                        <td id=\"T_ca51bf48_0a8a_11eb_92f5_42010a8a0002row7_col12\" class=\"data row7 col12\" >124</td>\n",
       "                        <td id=\"T_ca51bf48_0a8a_11eb_92f5_42010a8a0002row7_col13\" class=\"data row7 col13\" >0</td>\n",
       "                        <td id=\"T_ca51bf48_0a8a_11eb_92f5_42010a8a0002row7_col14\" class=\"data row7 col14\" >0</td>\n",
       "                        <td id=\"T_ca51bf48_0a8a_11eb_92f5_42010a8a0002row7_col15\" class=\"data row7 col15\" >0</td>\n",
       "                        <td id=\"T_ca51bf48_0a8a_11eb_92f5_42010a8a0002row7_col16\" class=\"data row7 col16\" >0</td>\n",
       "                        <td id=\"T_ca51bf48_0a8a_11eb_92f5_42010a8a0002row7_col17\" class=\"data row7 col17\" >0</td>\n",
       "            </tr>\n",
       "            <tr>\n",
       "                        <th id=\"T_ca51bf48_0a8a_11eb_92f5_42010a8a0002level0_row8\" class=\"row_heading level0 row8\" >8</th>\n",
       "                        <td id=\"T_ca51bf48_0a8a_11eb_92f5_42010a8a0002row8_col0\" class=\"data row8 col0\" >0</td>\n",
       "                        <td id=\"T_ca51bf48_0a8a_11eb_92f5_42010a8a0002row8_col1\" class=\"data row8 col1\" >0</td>\n",
       "                        <td id=\"T_ca51bf48_0a8a_11eb_92f5_42010a8a0002row8_col2\" class=\"data row8 col2\" >0</td>\n",
       "                        <td id=\"T_ca51bf48_0a8a_11eb_92f5_42010a8a0002row8_col3\" class=\"data row8 col3\" >0</td>\n",
       "                        <td id=\"T_ca51bf48_0a8a_11eb_92f5_42010a8a0002row8_col4\" class=\"data row8 col4\" >0</td>\n",
       "                        <td id=\"T_ca51bf48_0a8a_11eb_92f5_42010a8a0002row8_col5\" class=\"data row8 col5\" >11</td>\n",
       "                        <td id=\"T_ca51bf48_0a8a_11eb_92f5_42010a8a0002row8_col6\" class=\"data row8 col6\" >166</td>\n",
       "                        <td id=\"T_ca51bf48_0a8a_11eb_92f5_42010a8a0002row8_col7\" class=\"data row8 col7\" >239</td>\n",
       "                        <td id=\"T_ca51bf48_0a8a_11eb_92f5_42010a8a0002row8_col8\" class=\"data row8 col8\" >253</td>\n",
       "                        <td id=\"T_ca51bf48_0a8a_11eb_92f5_42010a8a0002row8_col9\" class=\"data row8 col9\" >253</td>\n",
       "                        <td id=\"T_ca51bf48_0a8a_11eb_92f5_42010a8a0002row8_col10\" class=\"data row8 col10\" >253</td>\n",
       "                        <td id=\"T_ca51bf48_0a8a_11eb_92f5_42010a8a0002row8_col11\" class=\"data row8 col11\" >187</td>\n",
       "                        <td id=\"T_ca51bf48_0a8a_11eb_92f5_42010a8a0002row8_col12\" class=\"data row8 col12\" >30</td>\n",
       "                        <td id=\"T_ca51bf48_0a8a_11eb_92f5_42010a8a0002row8_col13\" class=\"data row8 col13\" >0</td>\n",
       "                        <td id=\"T_ca51bf48_0a8a_11eb_92f5_42010a8a0002row8_col14\" class=\"data row8 col14\" >0</td>\n",
       "                        <td id=\"T_ca51bf48_0a8a_11eb_92f5_42010a8a0002row8_col15\" class=\"data row8 col15\" >0</td>\n",
       "                        <td id=\"T_ca51bf48_0a8a_11eb_92f5_42010a8a0002row8_col16\" class=\"data row8 col16\" >0</td>\n",
       "                        <td id=\"T_ca51bf48_0a8a_11eb_92f5_42010a8a0002row8_col17\" class=\"data row8 col17\" >0</td>\n",
       "            </tr>\n",
       "            <tr>\n",
       "                        <th id=\"T_ca51bf48_0a8a_11eb_92f5_42010a8a0002level0_row9\" class=\"row_heading level0 row9\" >9</th>\n",
       "                        <td id=\"T_ca51bf48_0a8a_11eb_92f5_42010a8a0002row9_col0\" class=\"data row9 col0\" >0</td>\n",
       "                        <td id=\"T_ca51bf48_0a8a_11eb_92f5_42010a8a0002row9_col1\" class=\"data row9 col1\" >0</td>\n",
       "                        <td id=\"T_ca51bf48_0a8a_11eb_92f5_42010a8a0002row9_col2\" class=\"data row9 col2\" >0</td>\n",
       "                        <td id=\"T_ca51bf48_0a8a_11eb_92f5_42010a8a0002row9_col3\" class=\"data row9 col3\" >0</td>\n",
       "                        <td id=\"T_ca51bf48_0a8a_11eb_92f5_42010a8a0002row9_col4\" class=\"data row9 col4\" >0</td>\n",
       "                        <td id=\"T_ca51bf48_0a8a_11eb_92f5_42010a8a0002row9_col5\" class=\"data row9 col5\" >16</td>\n",
       "                        <td id=\"T_ca51bf48_0a8a_11eb_92f5_42010a8a0002row9_col6\" class=\"data row9 col6\" >248</td>\n",
       "                        <td id=\"T_ca51bf48_0a8a_11eb_92f5_42010a8a0002row9_col7\" class=\"data row9 col7\" >250</td>\n",
       "                        <td id=\"T_ca51bf48_0a8a_11eb_92f5_42010a8a0002row9_col8\" class=\"data row9 col8\" >253</td>\n",
       "                        <td id=\"T_ca51bf48_0a8a_11eb_92f5_42010a8a0002row9_col9\" class=\"data row9 col9\" >253</td>\n",
       "                        <td id=\"T_ca51bf48_0a8a_11eb_92f5_42010a8a0002row9_col10\" class=\"data row9 col10\" >253</td>\n",
       "                        <td id=\"T_ca51bf48_0a8a_11eb_92f5_42010a8a0002row9_col11\" class=\"data row9 col11\" >253</td>\n",
       "                        <td id=\"T_ca51bf48_0a8a_11eb_92f5_42010a8a0002row9_col12\" class=\"data row9 col12\" >232</td>\n",
       "                        <td id=\"T_ca51bf48_0a8a_11eb_92f5_42010a8a0002row9_col13\" class=\"data row9 col13\" >213</td>\n",
       "                        <td id=\"T_ca51bf48_0a8a_11eb_92f5_42010a8a0002row9_col14\" class=\"data row9 col14\" >111</td>\n",
       "                        <td id=\"T_ca51bf48_0a8a_11eb_92f5_42010a8a0002row9_col15\" class=\"data row9 col15\" >2</td>\n",
       "                        <td id=\"T_ca51bf48_0a8a_11eb_92f5_42010a8a0002row9_col16\" class=\"data row9 col16\" >0</td>\n",
       "                        <td id=\"T_ca51bf48_0a8a_11eb_92f5_42010a8a0002row9_col17\" class=\"data row9 col17\" >0</td>\n",
       "            </tr>\n",
       "            <tr>\n",
       "                        <th id=\"T_ca51bf48_0a8a_11eb_92f5_42010a8a0002level0_row10\" class=\"row_heading level0 row10\" >10</th>\n",
       "                        <td id=\"T_ca51bf48_0a8a_11eb_92f5_42010a8a0002row10_col0\" class=\"data row10 col0\" >0</td>\n",
       "                        <td id=\"T_ca51bf48_0a8a_11eb_92f5_42010a8a0002row10_col1\" class=\"data row10 col1\" >0</td>\n",
       "                        <td id=\"T_ca51bf48_0a8a_11eb_92f5_42010a8a0002row10_col2\" class=\"data row10 col2\" >0</td>\n",
       "                        <td id=\"T_ca51bf48_0a8a_11eb_92f5_42010a8a0002row10_col3\" class=\"data row10 col3\" >0</td>\n",
       "                        <td id=\"T_ca51bf48_0a8a_11eb_92f5_42010a8a0002row10_col4\" class=\"data row10 col4\" >0</td>\n",
       "                        <td id=\"T_ca51bf48_0a8a_11eb_92f5_42010a8a0002row10_col5\" class=\"data row10 col5\" >0</td>\n",
       "                        <td id=\"T_ca51bf48_0a8a_11eb_92f5_42010a8a0002row10_col6\" class=\"data row10 col6\" >0</td>\n",
       "                        <td id=\"T_ca51bf48_0a8a_11eb_92f5_42010a8a0002row10_col7\" class=\"data row10 col7\" >43</td>\n",
       "                        <td id=\"T_ca51bf48_0a8a_11eb_92f5_42010a8a0002row10_col8\" class=\"data row10 col8\" >98</td>\n",
       "                        <td id=\"T_ca51bf48_0a8a_11eb_92f5_42010a8a0002row10_col9\" class=\"data row10 col9\" >98</td>\n",
       "                        <td id=\"T_ca51bf48_0a8a_11eb_92f5_42010a8a0002row10_col10\" class=\"data row10 col10\" >208</td>\n",
       "                        <td id=\"T_ca51bf48_0a8a_11eb_92f5_42010a8a0002row10_col11\" class=\"data row10 col11\" >253</td>\n",
       "                        <td id=\"T_ca51bf48_0a8a_11eb_92f5_42010a8a0002row10_col12\" class=\"data row10 col12\" >253</td>\n",
       "                        <td id=\"T_ca51bf48_0a8a_11eb_92f5_42010a8a0002row10_col13\" class=\"data row10 col13\" >253</td>\n",
       "                        <td id=\"T_ca51bf48_0a8a_11eb_92f5_42010a8a0002row10_col14\" class=\"data row10 col14\" >253</td>\n",
       "                        <td id=\"T_ca51bf48_0a8a_11eb_92f5_42010a8a0002row10_col15\" class=\"data row10 col15\" >187</td>\n",
       "                        <td id=\"T_ca51bf48_0a8a_11eb_92f5_42010a8a0002row10_col16\" class=\"data row10 col16\" >22</td>\n",
       "                        <td id=\"T_ca51bf48_0a8a_11eb_92f5_42010a8a0002row10_col17\" class=\"data row10 col17\" >0</td>\n",
       "            </tr>\n",
       "    </tbody></table>"
      ],
      "text/plain": [
       "<pandas.io.formats.style.Styler at 0x7f8597a13310>"
      ]
     },
     "execution_count": 18,
     "metadata": {},
     "output_type": "execute_result"
    }
   ],
   "source": [
    "im3_t = tensor(im3)\n",
    "df = pd.DataFrame(im3_t[4:15,4:22])\n",
    "df.style.set_properties(**{'font-size':'6pt'}).background_gradient('Greys')"
   ]
  },
  {
   "cell_type": "code",
   "execution_count": 19,
   "metadata": {},
   "outputs": [],
   "source": [
    "# create a model that recognizes 3s and 7s by aggregating training data for pixel data on 3s and 7s (avg?)                                                                                                                                                                                                                                                                                                                                                                                                                                                                                                                                                                                                                                                                                                                                                                                                                                                                                                                                                                                                                                                                                                                                                                                                                                                                                                                                                                                                                                                                                                                                                                                                                                                                                                                                                                                                                                                                                                                                                                                                                                                                                                                                                                                                                                                                                                                                                                                                                                                                                                                                                                                                                                                                                                                                                                                                                                                                                                                                                                                                                                                                                                                                                                                                                                                                                                                                                                                                                                                                                                                                                                                                                                                                                                                                                                                                                                                                                                                                                                                                                                                                                                                                                                                                                                                                                                                                                                                                                                                                                                                                                                                                                                                                                                                                                                                                                                                                                                                                                                                                                                                                                                                                                                                                                                                                                                                                                                                                                                                                                                                                                                                                                                                                                                                                                                                                                                                                                                                                                                                                                                                                                                                                                                                                                                                                                                                                                                                                                                                                                                                                                                                                                                                                                                                                                                                                                                                                                                                                                                                                                                                                                                                                                                                                                                                                                                                                                                                                                                                                                                                                                                                                                                                                                                                                                                                                                                                                                                                                                                                                                                                                                                                                                                                                                                                                                                                                                                                                                                                                                                                                                                                                                                                                                                                                                                                                                                                                                                                                                                                                                                                                                                                                                                                                                                                                                                                                                                                                                                                                                                                                                                                                                                                                                                                                                                                                                                                                                                                                                                                                                                                                                                                                                                                                                                                                                                                                                                                                                                                                                                                                                                                                                                                                                                                                                                                                                                                                                                                                                                                                                                                                                                                                                                                                                                                                                                                                                                                                                                                                                                                                                                                                                                                                                                                                                                                                                                                                                                                                                                                                                                                                                                                                                                                                                                                                                                                                                                                                                                                                                                                                                                                                                                                                                                                                                                                                                                                                                                                                                                                                                                                                                                                                                                                                                                                                                                                                                                                                                                                                                                                                                                                                                                                                                                                                                                                                                                                                                                                                                                                                                                                                                                                                                                                                                                                                                                                                                                                                                                                                                                                                                                                                                                                                                                                                                                                                                                                                                                                                                                                                                                                                                                                                                                                                                                                                                                                                                                                                                                                                                                                                                                                                                                                                                                                                                                                                                                                                                                                                                                                                                                                                                                                                                                                                                                                                                                                                                                                                                                                                                                                                                                                                                                                                                                                                                                                                                                                                                                                                                                                                                                                                                                                                                                                                                                                                                                                                                                                                                                                                                                                                                                                                                                                                                                                                                                                                                                                                                                                                                                                                                                                                                                                                                                                                                                                                                                                                                                                                                                                                                                                                                                                                                                                                                                                                                                                                                                                                                                                                                                                                                                                                                                                                                                                                                                                                                                                                                                                                                                                                                                                                                                                                                                                                                                                                                                                                                                                                                                                                                                                                                                                                                                                                                                                                                                                                                                                                                                                                                                                                                                                                                                                                                                                                                                                                                                                                                                                                                                                                                                                                                                                                                                                                                                                                                                                                                                                                                                                                                                                                                                                                                                                                                                                                                    "
   ]
  },
  {
   "cell_type": "code",
   "execution_count": 20,
   "metadata": {},
   "outputs": [
    {
     "data": {
      "text/plain": [
       "(6131, 6265)"
      ]
     },
     "execution_count": 20,
     "metadata": {},
     "output_type": "execute_result"
    }
   ],
   "source": [
    "three_tensors = [tensor(Image.open(o)) for o in threes]\n",
    "seven_tensors = [tensor(Image.open(o)) for o in sevens]\n",
    "len(three_tensors), len(seven_tensors)"
   ]
  },
  {
   "cell_type": "code",
   "execution_count": 21,
   "metadata": {},
   "outputs": [
    {
     "data": {
      "text/plain": [
       "<AxesSubplot:>"
      ]
     },
     "execution_count": 21,
     "metadata": {},
     "output_type": "execute_result"
    },
    {
     "data": {
      "image/png": "[encoded data removed]",
      "text/plain": [
       "<Figure size 72x72 with 1 Axes>"
      ]
     },
     "metadata": {
      "needs_background": "light"
     },
     "output_type": "display_data"
    }
   ],
   "source": [
    "show_image(three_tensors[1])"
   ]
  },
  {
   "cell_type": "code",
   "execution_count": 24,
   "metadata": {},
   "outputs": [],
   "source": [
    "# convert to floats to take average\n",
    "stacked_threes = torch.stack(three_tensors).float()/255\n",
    "stacked_sevens = torch.stack(seven_tensors).float()/255"
   ]
  },
  {
   "cell_type": "code",
   "execution_count": 25,
   "metadata": {},
   "outputs": [
    {
     "data": {
      "text/plain": [
       "torch.Size([6131, 28, 28])"
      ]
     },
     "execution_count": 25,
     "metadata": {},
     "output_type": "execute_result"
    }
   ],
   "source": [
    "# 6131 images of size 28 x 28\n",
    "stacked_threes.shape"
   ]
  },
  {
   "cell_type": "code",
   "execution_count": 26,
   "metadata": {},
   "outputs": [
    {
     "data": {
      "text/plain": [
       "<AxesSubplot:>"
      ]
     },
     "execution_count": 26,
     "metadata": {},
     "output_type": "execute_result"
    },
    {
     "data": {
      "image/png": "[encoded data removed]",
      "text/plain": [
       "<Figure size 72x72 with 1 Axes>"
      ]
     },
     "metadata": {
      "needs_background": "light"
     },
     "output_type": "display_data"
    }
   ],
   "source": [
    "mean3 = stacked_threes.mean(0)\n",
    "show_image(mean3)"
   ]
  },
  {
   "cell_type": "code",
   "execution_count": 27,
   "metadata": {},
   "outputs": [
    {
     "data": {
      "text/plain": [
       "<AxesSubplot:>"
      ]
     },
     "execution_count": 27,
     "metadata": {},
     "output_type": "execute_result"
    },
    {
     "data": {
      "image/png": "[encoded data removed]",
      "text/plain": [
       "<Figure size 72x72 with 1 Axes>"
      ]
     },
     "metadata": {
      "needs_background": "light"
     },
     "output_type": "display_data"
    }
   ],
   "source": [
    "mean7 = stacked_sevens.mean(0)\n",
    "show_image(mean7)"
   ]
  },
  {
   "cell_type": "code",
   "execution_count": 28,
   "metadata": {},
   "outputs": [
    {
     "data": {
      "text/plain": [
       "<AxesSubplot:>"
      ]
     },
     "execution_count": 28,
     "metadata": {},
     "output_type": "execute_result"
    },
    {
     "data": {
      "image/png": "[encoded data removed]",
      "text/plain": [
       "<Figure size 72x72 with 1 Axes>"
      ]
     },
     "metadata": {
      "needs_background": "light"
     },
     "output_type": "display_data"
    }
   ],
   "source": [
    "a_3 = stacked_threes[1]\n",
    "show_image(a_3)"
   ]
  },
  {
   "cell_type": "code",
   "execution_count": 32,
   "metadata": {},
   "outputs": [
    {
     "data": {
      "text/plain": [
       "(tensor(0.1114), tensor(0.2021))"
      ]
     },
     "execution_count": 32,
     "metadata": {},
     "output_type": "execute_result"
    }
   ],
   "source": [
    "dist_3_abs = (mean3 - a_3).abs().mean()\n",
    "dist_3_sqr = ((mean3 - a_3)**2).mean().sqrt()\n",
    "dist_3_abs, dist_3_sqr"
   ]
  },
  {
   "cell_type": "code",
   "execution_count": 34,
   "metadata": {},
   "outputs": [
    {
     "data": {
      "text/plain": [
       "(#1010) [Path('/home/jupyter/.fastai/data/mnist_sample/valid/3/8867.png'),Path('/home/jupyter/.fastai/data/mnist_sample/valid/3/9558.png'),Path('/home/jupyter/.fastai/data/mnist_sample/valid/3/2151.png'),Path('/home/jupyter/.fastai/data/mnist_sample/valid/3/578.png'),Path('/home/jupyter/.fastai/data/mnist_sample/valid/3/7981.png'),Path('/home/jupyter/.fastai/data/mnist_sample/valid/3/3248.png'),Path('/home/jupyter/.fastai/data/mnist_sample/valid/3/4647.png'),Path('/home/jupyter/.fastai/data/mnist_sample/valid/3/7905.png'),Path('/home/jupyter/.fastai/data/mnist_sample/valid/3/9073.png'),Path('/home/jupyter/.fastai/data/mnist_sample/valid/3/213.png')...]"
      ]
     },
     "execution_count": 34,
     "metadata": {},
     "output_type": "execute_result"
    }
   ],
   "source": [
    "valid_threes = (path/'valid'/'3').ls()\n",
    "valid_threes"
   ]
  },
  {
   "cell_type": "code",
   "execution_count": 42,
   "metadata": {},
   "outputs": [
    {
     "data": {
      "text/plain": [
       "torch.Size([1010, 28, 28])"
      ]
     },
     "execution_count": 42,
     "metadata": {},
     "output_type": "execute_result"
    }
   ],
   "source": [
    "valid_threes_tensors = [tensor(Image.open(o)) for o in valid_threes]\n",
    "stacked_valid_threes = torch.stack(valid_threes_tensors).float()/255\n",
    "stacked_valid_threes.shape"
   ]
  },
  {
   "cell_type": "code",
   "execution_count": 44,
   "metadata": {},
   "outputs": [
    {
     "data": {
      "text/plain": [
       "tensor(0.1114)"
      ]
     },
     "execution_count": 44,
     "metadata": {},
     "output_type": "execute_result"
    }
   ],
   "source": [
    "def mnist_distance(a, b): return (a-b).abs().mean((-1, -2))\n",
    "mnist_distance(a_3, mean3)"
   ]
  },
  {
   "cell_type": "code",
   "execution_count": 47,
   "metadata": {},
   "outputs": [
    {
     "data": {
      "text/plain": [
       "tensor([0.1506, 0.1202, 0.1508,  ..., 0.1541, 0.1135, 0.1092])"
      ]
     },
     "execution_count": 47,
     "metadata": {},
     "output_type": "execute_result"
    }
   ],
   "source": [
    "mnist_distance(stacked_valid_threes, mean3)"
   ]
  },
  {
   "cell_type": "code",
   "execution_count": 48,
   "metadata": {},
   "outputs": [
    {
     "data": {
      "text/plain": [
       "(torch.Size([1010, 28, 28]), torch.Size([28, 28]))"
      ]
     },
     "execution_count": 48,
     "metadata": {},
     "output_type": "execute_result"
    }
   ],
   "source": [
    "(stacked_valid_threes.shape, mean3.shape)"
   ]
  },
  {
   "cell_type": "code",
   "execution_count": 49,
   "metadata": {},
   "outputs": [
    {
     "data": {
      "text/plain": [
       "torch.Size([1010, 28, 28])"
      ]
     },
     "execution_count": 49,
     "metadata": {},
     "output_type": "execute_result"
    }
   ],
   "source": [
    "# broadcasting happening here (meaning since mean3 is a rank of 2, this emulates like it were stacked 1010 like stacked_valid_threes)\n",
    "(stacked_valid_threes - mean3).shape"
   ]
  },
  {
   "cell_type": "code",
   "execution_count": 50,
   "metadata": {},
   "outputs": [],
   "source": [
    "def is_3(x): return mnist_distance(x, mean3) < mnist_distance(x, mean7)"
   ]
  },
  {
   "cell_type": "code",
   "execution_count": 51,
   "metadata": {},
   "outputs": [
    {
     "data": {
      "text/plain": [
       "(tensor(True), tensor(1.))"
      ]
     },
     "execution_count": 51,
     "metadata": {},
     "output_type": "execute_result"
    }
   ],
   "source": [
    "is_3(a_3), is_3(a_3).float()"
   ]
  },
  {
   "cell_type": "code",
   "execution_count": 55,
   "metadata": {},
   "outputs": [
    {
     "data": {
      "text/plain": [
       "tensor([True, True, True,  ..., True, True, True])"
      ]
     },
     "execution_count": 55,
     "metadata": {},
     "output_type": "execute_result"
    }
   ],
   "source": [
    "is_3(stacked_valid_threes)"
   ]
  },
  {
   "cell_type": "code",
   "execution_count": 57,
   "metadata": {},
   "outputs": [
    {
     "data": {
      "text/plain": [
       "torch.Size([1028, 28, 28])"
      ]
     },
     "execution_count": 57,
     "metadata": {},
     "output_type": "execute_result"
    }
   ],
   "source": [
    "valid_sevens = (path/'valid'/'7').ls()\n",
    "valid_sevens_tensors = [tensor(Image.open(o)) for o in valid_sevens]\n",
    "stacked_valid_sevens = torch.stack(valid_sevens_tensors).float()/255\n",
    "stacked_valid_sevens.shape"
   ]
  },
  {
   "cell_type": "code",
   "execution_count": 58,
   "metadata": {},
   "outputs": [
    {
     "data": {
      "text/plain": [
       "(tensor(0.9168), tensor(0.9854), tensor(0.9511))"
      ]
     },
     "execution_count": 58,
     "metadata": {},
     "output_type": "execute_result"
    }
   ],
   "source": [
    "accuracy_3s = is_3(stacked_valid_threes).float().mean()\n",
    "accuracy_7s = (1 - is_3(stacked_valid_sevens).float()).mean()\n",
    "accuracy_3s, accuracy_7s, (accuracy_3s + accuracy_7s) / 2"
   ]
  },
  {
   "cell_type": "code",
   "execution_count": 59,
   "metadata": {},
   "outputs": [],
   "source": [
    "# current model (using average over training images) is getting 91.68% and 98.54% accuracy on validation images"
   ]
  },
  {
   "cell_type": "code",
   "execution_count": 61,
   "metadata": {},
   "outputs": [
    {
     "data": {
      "text/plain": [
       "<matplotlib.collections.PathCollection at 0x7f8593c90550>"
      ]
     },
     "execution_count": 61,
     "metadata": {},
     "output_type": "execute_result"
    },
    {
     "data": {
      "image/png": "[encoded data removed]",
      "text/plain": [
       "<Figure size 432x288 with 1 Axes>"
      ]
     },
     "metadata": {
      "needs_background": "light"
     },
     "output_type": "display_data"
    }
   ],
   "source": [
    "def f(x): return x**2\n",
    "plot_function(f, \"x\", \"x**2\")\n",
    "plt.scatter(-1.5, f(-1.5), color=\"red\")"
   ]
  },
  {
   "cell_type": "code",
   "execution_count": 62,
   "metadata": {},
   "outputs": [],
   "source": [
    "xt = tensor(3.).requires_grad_()"
   ]
  },
  {
   "cell_type": "code",
   "execution_count": 64,
   "metadata": {},
   "outputs": [
    {
     "data": {
      "text/plain": [
       "tensor(9., grad_fn=<PowBackward0>)"
      ]
     },
     "execution_count": 64,
     "metadata": {},
     "output_type": "execute_result"
    }
   ],
   "source": [
    "yt = f(xt)\n",
    "yt"
   ]
  },
  {
   "cell_type": "code",
   "execution_count": 65,
   "metadata": {},
   "outputs": [],
   "source": [
    "yt.backward()"
   ]
  },
  {
   "cell_type": "code",
   "execution_count": 66,
   "metadata": {},
   "outputs": [
    {
     "data": {
      "text/plain": [
       "tensor(6.)"
      ]
     },
     "execution_count": 66,
     "metadata": {},
     "output_type": "execute_result"
    }
   ],
   "source": [
    "xt.grad"
   ]
  },
  {
   "cell_type": "code",
   "execution_count": 67,
   "metadata": {},
   "outputs": [
    {
     "data": {
      "text/plain": [
       "tensor([ 3.,  4., 10.], requires_grad=True)"
      ]
     },
     "execution_count": 67,
     "metadata": {},
     "output_type": "execute_result"
    }
   ],
   "source": [
    "xt = tensor([3., 4., 10.]).requires_grad_()\n",
    "xt"
   ]
  },
  {
   "cell_type": "code",
   "execution_count": 68,
   "metadata": {},
   "outputs": [
    {
     "data": {
      "text/plain": [
       "tensor(125., grad_fn=<SumBackward0>)"
      ]
     },
     "execution_count": 68,
     "metadata": {},
     "output_type": "execute_result"
    }
   ],
   "source": [
    "def f(x): return (x**2).sum()\n",
    "yt = f(xt)\n",
    "yt"
   ]
  },
  {
   "cell_type": "code",
   "execution_count": 69,
   "metadata": {},
   "outputs": [
    {
     "data": {
      "text/plain": [
       "tensor([ 6.,  8., 20.])"
      ]
     },
     "execution_count": 69,
     "metadata": {},
     "output_type": "execute_result"
    }
   ],
   "source": [
    "yt.backward()\n",
    "xt.grad"
   ]
  },
  {
   "cell_type": "code",
   "execution_count": 71,
   "metadata": {},
   "outputs": [
    {
     "data": {
      "text/plain": [
       "tensor([ 0.,  1.,  2.,  3.,  4.,  5.,  6.,  7.,  8.,  9., 10., 11., 12., 13., 14., 15., 16., 17., 18., 19.])"
      ]
     },
     "execution_count": 71,
     "metadata": {},
     "output_type": "execute_result"
    }
   ],
   "source": [
    "time = torch.arange(0,20).float()\n",
    "time"
   ]
  },
  {
   "cell_type": "code",
   "execution_count": 74,
   "metadata": {},
   "outputs": [
    {
     "data": {
      "text/plain": [
       "tensor([69.1235, 55.8807, 43.2135, 32.2606, 24.9019, 12.1245,  8.6946,  7.1115, -4.8411,  2.6515,  3.5413,  2.7734, 10.9143,  6.1295, 16.8447, 25.3454, 32.1317, 45.4458, 56.4018, 69.2229])"
      ]
     },
     "execution_count": 74,
     "metadata": {},
     "output_type": "execute_result"
    }
   ],
   "source": [
    "speed = torch.randn(20)*3 + 0.75*(time - 9.5)**2 + 1\n",
    "speed"
   ]
  },
  {
   "cell_type": "code",
   "execution_count": 75,
   "metadata": {},
   "outputs": [
    {
     "data": {
      "text/plain": [
       "<matplotlib.collections.PathCollection at 0x7f8593b393d0>"
      ]
     },
     "execution_count": 75,
     "metadata": {},
     "output_type": "execute_result"
    },
    {
     "data": {
      "image/png": "[encoded data removed]",
      "text/plain": [
       "<Figure size 432x288 with 1 Axes>"
      ]
     },
     "metadata": {
      "needs_background": "light"
     },
     "output_type": "display_data"
    }
   ],
   "source": [
    "plt.scatter(time, speed)"
   ]
  },
  {
   "cell_type": "code",
   "execution_count": null,
   "metadata": {},
   "outputs": [],
   "source": [
    "def f(t, params):\n",
    "    a, b, c = params\n",
    "    return a*(t**2) + (b*t) + c\n"
   ]
  }
 ],
 "metadata": {
  "environment": {
   "name": "tf2-2-3-gpu.2-3.m56",
   "type": "gcloud",
   "uri": "gcr.io/deeplearning-platform-release/tf2-2-3-gpu.2-3:m56"
  },
  "kernelspec": {
   "display_name": "Python 3",
   "language": "python",
   "name": "python3"
  },
  "language_info": {
   "codemirror_mode": {
    "name": "ipython",
    "version": 3
   },
   "file_extension": ".py",
   "mimetype": "text/x-python",
   "name": "python",
   "nbconvert_exporter": "python",
   "pygments_lexer": "ipython3",
   "version": "3.7.8"
  }
 },
 "nbformat": 4,
 "nbformat_minor": 4
}
