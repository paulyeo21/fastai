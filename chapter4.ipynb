{
 "cells": [
  {
   "cell_type": "code",
   "execution_count": null,
   "metadata": {},
   "outputs": [],
   "source": [
    "#hide\n",
    "!pip install -Uqq fastbook\n",
    "import fastbook\n",
    "fastbook.setup_book()"
   ]
  },
  {
   "cell_type": "code",
   "execution_count": 5,
   "metadata": {},
   "outputs": [],
   "source": [
    "#hide\n",
    "from fastai.vision.all import *\n",
    "from fastbook import *\n",
    "\n",
    "matplotlib.rc('image', cmap='Greys')"
   ]
  },
  {
   "cell_type": "code",
   "execution_count": 6,
   "metadata": {},
   "outputs": [],
   "source": [
    "path = untar_data(URLs.MNIST_SAMPLE)"
   ]
  },
  {
   "cell_type": "code",
   "execution_count": 7,
   "metadata": {},
   "outputs": [
    {
     "data": {
      "text/plain": [
       "(#3) [Path('/home/jupyter/.fastai/data/mnist_sample/valid'),Path('/home/jupyter/.fastai/data/mnist_sample/labels.csv'),Path('/home/jupyter/.fastai/data/mnist_sample/train')]"
      ]
     },
     "execution_count": 7,
     "metadata": {},
     "output_type": "execute_result"
    }
   ],
   "source": [
    "path.ls()"
   ]
  },
  {
   "cell_type": "code",
   "execution_count": 8,
   "metadata": {},
   "outputs": [
    {
     "data": {
      "text/plain": [
       "(#2) [Path('/home/jupyter/.fastai/data/mnist_sample/train/7'),Path('/home/jupyter/.fastai/data/mnist_sample/train/3')]"
      ]
     },
     "execution_count": 8,
     "metadata": {},
     "output_type": "execute_result"
    }
   ],
   "source": [
    "(path/'train').ls()\n"
   ]
  },
  {
   "cell_type": "code",
   "execution_count": 9,
   "metadata": {},
   "outputs": [],
   "source": [
    "threes = (path/'train'/'3').ls().sorted()\n",
    "sevens = (path/'train'/'7').ls().sorted()"
   ]
  },
  {
   "cell_type": "code",
   "execution_count": 10,
   "metadata": {},
   "outputs": [
    {
     "data": {
      "text/plain": [
       "(#6131) [Path('/home/jupyter/.fastai/data/mnist_sample/train/3/10.png'),Path('/home/jupyter/.fastai/data/mnist_sample/train/3/10000.png'),Path('/home/jupyter/.fastai/data/mnist_sample/train/3/10011.png'),Path('/home/jupyter/.fastai/data/mnist_sample/train/3/10031.png'),Path('/home/jupyter/.fastai/data/mnist_sample/train/3/10034.png'),Path('/home/jupyter/.fastai/data/mnist_sample/train/3/10042.png'),Path('/home/jupyter/.fastai/data/mnist_sample/train/3/10052.png'),Path('/home/jupyter/.fastai/data/mnist_sample/train/3/1007.png'),Path('/home/jupyter/.fastai/data/mnist_sample/train/3/10074.png'),Path('/home/jupyter/.fastai/data/mnist_sample/train/3/10091.png')...]"
      ]
     },
     "execution_count": 10,
     "metadata": {},
     "output_type": "execute_result"
    }
   ],
   "source": [
    "threes"
   ]
  },
  {
   "cell_type": "code",
   "execution_count": 11,
   "metadata": {},
   "outputs": [
    {
     "data": {
      "text/plain": [
       "(#6265) [Path('/home/jupyter/.fastai/data/mnist_sample/train/7/10002.png'),Path('/home/jupyter/.fastai/data/mnist_sample/train/7/1001.png'),Path('/home/jupyter/.fastai/data/mnist_sample/train/7/10014.png'),Path('/home/jupyter/.fastai/data/mnist_sample/train/7/10019.png'),Path('/home/jupyter/.fastai/data/mnist_sample/train/7/10039.png'),Path('/home/jupyter/.fastai/data/mnist_sample/train/7/10046.png'),Path('/home/jupyter/.fastai/data/mnist_sample/train/7/10050.png'),Path('/home/jupyter/.fastai/data/mnist_sample/train/7/10063.png'),Path('/home/jupyter/.fastai/data/mnist_sample/train/7/10077.png'),Path('/home/jupyter/.fastai/data/mnist_sample/train/7/10086.png')...]"
      ]
     },
     "execution_count": 11,
     "metadata": {},
     "output_type": "execute_result"
    }
   ],
   "source": [
    "sevens"
   ]
  },
  {
   "cell_type": "code",
   "execution_count": 12,
   "metadata": {},
   "outputs": [
    {
     "data": {
      "image/png": "[encoded data removed]",
      "text/plain": [
       "<PIL.PngImagePlugin.PngImageFile image mode=L size=28x28 at 0x7F33B23D2990>"
      ]
     },
     "execution_count": 12,
     "metadata": {},
     "output_type": "execute_result"
    }
   ],
   "source": [
    "im3_path = threes[1]\n",
    "im3 = Image.open(im3_path)\n",
    "im3"
   ]
  },
  {
   "cell_type": "code",
   "execution_count": 13,
   "metadata": {},
   "outputs": [
    {
     "data": {
      "text/plain": [
       "array([[  0,   0,   0,   0,   0,   0],\n",
       "       [  0,   0,   0,   0,   0,  29],\n",
       "       [  0,   0,   0,  48, 166, 224],\n",
       "       [  0,  93, 244, 249, 253, 187],\n",
       "       [  0, 107, 253, 253, 230,  48],\n",
       "       [  0,   3,  20,  20,  15,   0]], dtype=uint8)"
      ]
     },
     "execution_count": 13,
     "metadata": {},
     "output_type": "execute_result"
    }
   ],
   "source": [
    "array(im3)[4:10,4:10]"
   ]
  },
  {
   "cell_type": "code",
   "execution_count": 14,
   "metadata": {},
   "outputs": [
    {
     "data": {
      "text/plain": [
       "tensor([[  0,   0,   0,   0,   0,   0],\n",
       "        [  0,   0,   0,   0,   0,  29],\n",
       "        [  0,   0,   0,  48, 166, 224],\n",
       "        [  0,  93, 244, 249, 253, 187],\n",
       "        [  0, 107, 253, 253, 230,  48],\n",
       "        [  0,   3,  20,  20,  15,   0]], dtype=torch.uint8)"
      ]
     },
     "execution_count": 14,
     "metadata": {},
     "output_type": "execute_result"
    }
   ],
   "source": [
    "tensor(im3)[4:10,4:10]"
   ]
  },
  {
   "cell_type": "code",
   "execution_count": 15,
   "metadata": {},
   "outputs": [
    {
     "data": {
      "text/html": [
       "<style  type=\"text/css\" >\n",
       "#T_c5d9c95a_0bdf_11eb_941f_42010a8a0002row0_col0,#T_c5d9c95a_0bdf_11eb_941f_42010a8a0002row0_col1,#T_c5d9c95a_0bdf_11eb_941f_42010a8a0002row0_col2,#T_c5d9c95a_0bdf_11eb_941f_42010a8a0002row0_col3,#T_c5d9c95a_0bdf_11eb_941f_42010a8a0002row0_col4,#T_c5d9c95a_0bdf_11eb_941f_42010a8a0002row0_col5,#T_c5d9c95a_0bdf_11eb_941f_42010a8a0002row0_col6,#T_c5d9c95a_0bdf_11eb_941f_42010a8a0002row0_col7,#T_c5d9c95a_0bdf_11eb_941f_42010a8a0002row0_col8,#T_c5d9c95a_0bdf_11eb_941f_42010a8a0002row0_col9,#T_c5d9c95a_0bdf_11eb_941f_42010a8a0002row0_col10,#T_c5d9c95a_0bdf_11eb_941f_42010a8a0002row0_col11,#T_c5d9c95a_0bdf_11eb_941f_42010a8a0002row0_col12,#T_c5d9c95a_0bdf_11eb_941f_42010a8a0002row0_col13,#T_c5d9c95a_0bdf_11eb_941f_42010a8a0002row0_col14,#T_c5d9c95a_0bdf_11eb_941f_42010a8a0002row0_col15,#T_c5d9c95a_0bdf_11eb_941f_42010a8a0002row0_col16,#T_c5d9c95a_0bdf_11eb_941f_42010a8a0002row0_col17,#T_c5d9c95a_0bdf_11eb_941f_42010a8a0002row1_col0,#T_c5d9c95a_0bdf_11eb_941f_42010a8a0002row1_col1,#T_c5d9c95a_0bdf_11eb_941f_42010a8a0002row1_col2,#T_c5d9c95a_0bdf_11eb_941f_42010a8a0002row1_col3,#T_c5d9c95a_0bdf_11eb_941f_42010a8a0002row1_col4,#T_c5d9c95a_0bdf_11eb_941f_42010a8a0002row1_col15,#T_c5d9c95a_0bdf_11eb_941f_42010a8a0002row1_col16,#T_c5d9c95a_0bdf_11eb_941f_42010a8a0002row1_col17,#T_c5d9c95a_0bdf_11eb_941f_42010a8a0002row2_col0,#T_c5d9c95a_0bdf_11eb_941f_42010a8a0002row2_col1,#T_c5d9c95a_0bdf_11eb_941f_42010a8a0002row2_col2,#T_c5d9c95a_0bdf_11eb_941f_42010a8a0002row2_col15,#T_c5d9c95a_0bdf_11eb_941f_42010a8a0002row2_col16,#T_c5d9c95a_0bdf_11eb_941f_42010a8a0002row2_col17,#T_c5d9c95a_0bdf_11eb_941f_42010a8a0002row3_col0,#T_c5d9c95a_0bdf_11eb_941f_42010a8a0002row3_col15,#T_c5d9c95a_0bdf_11eb_941f_42010a8a0002row3_col16,#T_c5d9c95a_0bdf_11eb_941f_42010a8a0002row3_col17,#T_c5d9c95a_0bdf_11eb_941f_42010a8a0002row4_col0,#T_c5d9c95a_0bdf_11eb_941f_42010a8a0002row4_col6,#T_c5d9c95a_0bdf_11eb_941f_42010a8a0002row4_col7,#T_c5d9c95a_0bdf_11eb_941f_42010a8a0002row4_col8,#T_c5d9c95a_0bdf_11eb_941f_42010a8a0002row4_col9,#T_c5d9c95a_0bdf_11eb_941f_42010a8a0002row4_col10,#T_c5d9c95a_0bdf_11eb_941f_42010a8a0002row4_col15,#T_c5d9c95a_0bdf_11eb_941f_42010a8a0002row4_col16,#T_c5d9c95a_0bdf_11eb_941f_42010a8a0002row4_col17,#T_c5d9c95a_0bdf_11eb_941f_42010a8a0002row5_col0,#T_c5d9c95a_0bdf_11eb_941f_42010a8a0002row5_col5,#T_c5d9c95a_0bdf_11eb_941f_42010a8a0002row5_col6,#T_c5d9c95a_0bdf_11eb_941f_42010a8a0002row5_col7,#T_c5d9c95a_0bdf_11eb_941f_42010a8a0002row5_col8,#T_c5d9c95a_0bdf_11eb_941f_42010a8a0002row5_col9,#T_c5d9c95a_0bdf_11eb_941f_42010a8a0002row5_col15,#T_c5d9c95a_0bdf_11eb_941f_42010a8a0002row5_col16,#T_c5d9c95a_0bdf_11eb_941f_42010a8a0002row5_col17,#T_c5d9c95a_0bdf_11eb_941f_42010a8a0002row6_col0,#T_c5d9c95a_0bdf_11eb_941f_42010a8a0002row6_col1,#T_c5d9c95a_0bdf_11eb_941f_42010a8a0002row6_col2,#T_c5d9c95a_0bdf_11eb_941f_42010a8a0002row6_col3,#T_c5d9c95a_0bdf_11eb_941f_42010a8a0002row6_col4,#T_c5d9c95a_0bdf_11eb_941f_42010a8a0002row6_col5,#T_c5d9c95a_0bdf_11eb_941f_42010a8a0002row6_col6,#T_c5d9c95a_0bdf_11eb_941f_42010a8a0002row6_col7,#T_c5d9c95a_0bdf_11eb_941f_42010a8a0002row6_col8,#T_c5d9c95a_0bdf_11eb_941f_42010a8a0002row6_col9,#T_c5d9c95a_0bdf_11eb_941f_42010a8a0002row6_col14,#T_c5d9c95a_0bdf_11eb_941f_42010a8a0002row6_col15,#T_c5d9c95a_0bdf_11eb_941f_42010a8a0002row6_col16,#T_c5d9c95a_0bdf_11eb_941f_42010a8a0002row6_col17,#T_c5d9c95a_0bdf_11eb_941f_42010a8a0002row7_col0,#T_c5d9c95a_0bdf_11eb_941f_42010a8a0002row7_col1,#T_c5d9c95a_0bdf_11eb_941f_42010a8a0002row7_col2,#T_c5d9c95a_0bdf_11eb_941f_42010a8a0002row7_col3,#T_c5d9c95a_0bdf_11eb_941f_42010a8a0002row7_col4,#T_c5d9c95a_0bdf_11eb_941f_42010a8a0002row7_col5,#T_c5d9c95a_0bdf_11eb_941f_42010a8a0002row7_col6,#T_c5d9c95a_0bdf_11eb_941f_42010a8a0002row7_col13,#T_c5d9c95a_0bdf_11eb_941f_42010a8a0002row7_col14,#T_c5d9c95a_0bdf_11eb_941f_42010a8a0002row7_col15,#T_c5d9c95a_0bdf_11eb_941f_42010a8a0002row7_col16,#T_c5d9c95a_0bdf_11eb_941f_42010a8a0002row7_col17,#T_c5d9c95a_0bdf_11eb_941f_42010a8a0002row8_col0,#T_c5d9c95a_0bdf_11eb_941f_42010a8a0002row8_col1,#T_c5d9c95a_0bdf_11eb_941f_42010a8a0002row8_col2,#T_c5d9c95a_0bdf_11eb_941f_42010a8a0002row8_col3,#T_c5d9c95a_0bdf_11eb_941f_42010a8a0002row8_col4,#T_c5d9c95a_0bdf_11eb_941f_42010a8a0002row8_col13,#T_c5d9c95a_0bdf_11eb_941f_42010a8a0002row8_col14,#T_c5d9c95a_0bdf_11eb_941f_42010a8a0002row8_col15,#T_c5d9c95a_0bdf_11eb_941f_42010a8a0002row8_col16,#T_c5d9c95a_0bdf_11eb_941f_42010a8a0002row8_col17,#T_c5d9c95a_0bdf_11eb_941f_42010a8a0002row9_col0,#T_c5d9c95a_0bdf_11eb_941f_42010a8a0002row9_col1,#T_c5d9c95a_0bdf_11eb_941f_42010a8a0002row9_col2,#T_c5d9c95a_0bdf_11eb_941f_42010a8a0002row9_col3,#T_c5d9c95a_0bdf_11eb_941f_42010a8a0002row9_col4,#T_c5d9c95a_0bdf_11eb_941f_42010a8a0002row9_col16,#T_c5d9c95a_0bdf_11eb_941f_42010a8a0002row9_col17,#T_c5d9c95a_0bdf_11eb_941f_42010a8a0002row10_col0,#T_c5d9c95a_0bdf_11eb_941f_42010a8a0002row10_col1,#T_c5d9c95a_0bdf_11eb_941f_42010a8a0002row10_col2,#T_c5d9c95a_0bdf_11eb_941f_42010a8a0002row10_col3,#T_c5d9c95a_0bdf_11eb_941f_42010a8a0002row10_col4,#T_c5d9c95a_0bdf_11eb_941f_42010a8a0002row10_col5,#T_c5d9c95a_0bdf_11eb_941f_42010a8a0002row10_col6,#T_c5d9c95a_0bdf_11eb_941f_42010a8a0002row10_col17{\n",
       "            font-size:  6pt;\n",
       "            background-color:  #ffffff;\n",
       "            color:  #000000;\n",
       "        }#T_c5d9c95a_0bdf_11eb_941f_42010a8a0002row1_col5{\n",
       "            font-size:  6pt;\n",
       "            background-color:  #efefef;\n",
       "            color:  #000000;\n",
       "        }#T_c5d9c95a_0bdf_11eb_941f_42010a8a0002row1_col6,#T_c5d9c95a_0bdf_11eb_941f_42010a8a0002row1_col13{\n",
       "            font-size:  6pt;\n",
       "            background-color:  #7c7c7c;\n",
       "            color:  #000000;\n",
       "        }#T_c5d9c95a_0bdf_11eb_941f_42010a8a0002row1_col7{\n",
       "            font-size:  6pt;\n",
       "            background-color:  #4a4a4a;\n",
       "            color:  #f1f1f1;\n",
       "        }#T_c5d9c95a_0bdf_11eb_941f_42010a8a0002row1_col8,#T_c5d9c95a_0bdf_11eb_941f_42010a8a0002row1_col9,#T_c5d9c95a_0bdf_11eb_941f_42010a8a0002row1_col10,#T_c5d9c95a_0bdf_11eb_941f_42010a8a0002row2_col5,#T_c5d9c95a_0bdf_11eb_941f_42010a8a0002row2_col6,#T_c5d9c95a_0bdf_11eb_941f_42010a8a0002row2_col7,#T_c5d9c95a_0bdf_11eb_941f_42010a8a0002row2_col11,#T_c5d9c95a_0bdf_11eb_941f_42010a8a0002row2_col12,#T_c5d9c95a_0bdf_11eb_941f_42010a8a0002row2_col13,#T_c5d9c95a_0bdf_11eb_941f_42010a8a0002row3_col4,#T_c5d9c95a_0bdf_11eb_941f_42010a8a0002row3_col12,#T_c5d9c95a_0bdf_11eb_941f_42010a8a0002row3_col13,#T_c5d9c95a_0bdf_11eb_941f_42010a8a0002row4_col1,#T_c5d9c95a_0bdf_11eb_941f_42010a8a0002row4_col2,#T_c5d9c95a_0bdf_11eb_941f_42010a8a0002row4_col3,#T_c5d9c95a_0bdf_11eb_941f_42010a8a0002row4_col12,#T_c5d9c95a_0bdf_11eb_941f_42010a8a0002row4_col13,#T_c5d9c95a_0bdf_11eb_941f_42010a8a0002row5_col12,#T_c5d9c95a_0bdf_11eb_941f_42010a8a0002row6_col11,#T_c5d9c95a_0bdf_11eb_941f_42010a8a0002row9_col11,#T_c5d9c95a_0bdf_11eb_941f_42010a8a0002row10_col11,#T_c5d9c95a_0bdf_11eb_941f_42010a8a0002row10_col12,#T_c5d9c95a_0bdf_11eb_941f_42010a8a0002row10_col13,#T_c5d9c95a_0bdf_11eb_941f_42010a8a0002row10_col14,#T_c5d9c95a_0bdf_11eb_941f_42010a8a0002row10_col15,#T_c5d9c95a_0bdf_11eb_941f_42010a8a0002row10_col16{\n",
       "            font-size:  6pt;\n",
       "            background-color:  #000000;\n",
       "            color:  #f1f1f1;\n",
       "        }#T_c5d9c95a_0bdf_11eb_941f_42010a8a0002row1_col11{\n",
       "            font-size:  6pt;\n",
       "            background-color:  #606060;\n",
       "            color:  #f1f1f1;\n",
       "        }#T_c5d9c95a_0bdf_11eb_941f_42010a8a0002row1_col12{\n",
       "            font-size:  6pt;\n",
       "            background-color:  #4d4d4d;\n",
       "            color:  #f1f1f1;\n",
       "        }#T_c5d9c95a_0bdf_11eb_941f_42010a8a0002row1_col14{\n",
       "            font-size:  6pt;\n",
       "            background-color:  #bbbbbb;\n",
       "            color:  #000000;\n",
       "        }#T_c5d9c95a_0bdf_11eb_941f_42010a8a0002row2_col3{\n",
       "            font-size:  6pt;\n",
       "            background-color:  #e4e4e4;\n",
       "            color:  #000000;\n",
       "        }#T_c5d9c95a_0bdf_11eb_941f_42010a8a0002row2_col4,#T_c5d9c95a_0bdf_11eb_941f_42010a8a0002row8_col6{\n",
       "            font-size:  6pt;\n",
       "            background-color:  #6b6b6b;\n",
       "            color:  #000000;\n",
       "        }#T_c5d9c95a_0bdf_11eb_941f_42010a8a0002row2_col8,#T_c5d9c95a_0bdf_11eb_941f_42010a8a0002row2_col14,#T_c5d9c95a_0bdf_11eb_941f_42010a8a0002row3_col14{\n",
       "            font-size:  6pt;\n",
       "            background-color:  #171717;\n",
       "            color:  #f1f1f1;\n",
       "        }#T_c5d9c95a_0bdf_11eb_941f_42010a8a0002row2_col9,#T_c5d9c95a_0bdf_11eb_941f_42010a8a0002row3_col11{\n",
       "            font-size:  6pt;\n",
       "            background-color:  #4b4b4b;\n",
       "            color:  #f1f1f1;\n",
       "        }#T_c5d9c95a_0bdf_11eb_941f_42010a8a0002row2_col10,#T_c5d9c95a_0bdf_11eb_941f_42010a8a0002row7_col10,#T_c5d9c95a_0bdf_11eb_941f_42010a8a0002row8_col8,#T_c5d9c95a_0bdf_11eb_941f_42010a8a0002row8_col10,#T_c5d9c95a_0bdf_11eb_941f_42010a8a0002row9_col8,#T_c5d9c95a_0bdf_11eb_941f_42010a8a0002row9_col10{\n",
       "            font-size:  6pt;\n",
       "            background-color:  #010101;\n",
       "            color:  #f1f1f1;\n",
       "        }#T_c5d9c95a_0bdf_11eb_941f_42010a8a0002row3_col1{\n",
       "            font-size:  6pt;\n",
       "            background-color:  #272727;\n",
       "            color:  #f1f1f1;\n",
       "        }#T_c5d9c95a_0bdf_11eb_941f_42010a8a0002row3_col2{\n",
       "            font-size:  6pt;\n",
       "            background-color:  #0a0a0a;\n",
       "            color:  #f1f1f1;\n",
       "        }#T_c5d9c95a_0bdf_11eb_941f_42010a8a0002row3_col3{\n",
       "            font-size:  6pt;\n",
       "            background-color:  #050505;\n",
       "            color:  #f1f1f1;\n",
       "        }#T_c5d9c95a_0bdf_11eb_941f_42010a8a0002row3_col5{\n",
       "            font-size:  6pt;\n",
       "            background-color:  #333333;\n",
       "            color:  #f1f1f1;\n",
       "        }#T_c5d9c95a_0bdf_11eb_941f_42010a8a0002row3_col6{\n",
       "            font-size:  6pt;\n",
       "            background-color:  #e6e6e6;\n",
       "            color:  #000000;\n",
       "        }#T_c5d9c95a_0bdf_11eb_941f_42010a8a0002row3_col7,#T_c5d9c95a_0bdf_11eb_941f_42010a8a0002row3_col10{\n",
       "            font-size:  6pt;\n",
       "            background-color:  #fafafa;\n",
       "            color:  #000000;\n",
       "        }#T_c5d9c95a_0bdf_11eb_941f_42010a8a0002row3_col8{\n",
       "            font-size:  6pt;\n",
       "            background-color:  #fbfbfb;\n",
       "            color:  #000000;\n",
       "        }#T_c5d9c95a_0bdf_11eb_941f_42010a8a0002row3_col9{\n",
       "            font-size:  6pt;\n",
       "            background-color:  #fdfdfd;\n",
       "            color:  #000000;\n",
       "        }#T_c5d9c95a_0bdf_11eb_941f_42010a8a0002row4_col4{\n",
       "            font-size:  6pt;\n",
       "            background-color:  #1b1b1b;\n",
       "            color:  #f1f1f1;\n",
       "        }#T_c5d9c95a_0bdf_11eb_941f_42010a8a0002row4_col5{\n",
       "            font-size:  6pt;\n",
       "            background-color:  #e0e0e0;\n",
       "            color:  #000000;\n",
       "        }#T_c5d9c95a_0bdf_11eb_941f_42010a8a0002row4_col11{\n",
       "            font-size:  6pt;\n",
       "            background-color:  #4e4e4e;\n",
       "            color:  #f1f1f1;\n",
       "        }#T_c5d9c95a_0bdf_11eb_941f_42010a8a0002row4_col14{\n",
       "            font-size:  6pt;\n",
       "            background-color:  #767676;\n",
       "            color:  #000000;\n",
       "        }#T_c5d9c95a_0bdf_11eb_941f_42010a8a0002row5_col1{\n",
       "            font-size:  6pt;\n",
       "            background-color:  #fcfcfc;\n",
       "            color:  #000000;\n",
       "        }#T_c5d9c95a_0bdf_11eb_941f_42010a8a0002row5_col2,#T_c5d9c95a_0bdf_11eb_941f_42010a8a0002row5_col3{\n",
       "            font-size:  6pt;\n",
       "            background-color:  #f6f6f6;\n",
       "            color:  #000000;\n",
       "        }#T_c5d9c95a_0bdf_11eb_941f_42010a8a0002row5_col4,#T_c5d9c95a_0bdf_11eb_941f_42010a8a0002row7_col7{\n",
       "            font-size:  6pt;\n",
       "            background-color:  #f8f8f8;\n",
       "            color:  #000000;\n",
       "        }#T_c5d9c95a_0bdf_11eb_941f_42010a8a0002row5_col10,#T_c5d9c95a_0bdf_11eb_941f_42010a8a0002row10_col7{\n",
       "            font-size:  6pt;\n",
       "            background-color:  #e8e8e8;\n",
       "            color:  #000000;\n",
       "        }#T_c5d9c95a_0bdf_11eb_941f_42010a8a0002row5_col11{\n",
       "            font-size:  6pt;\n",
       "            background-color:  #222222;\n",
       "            color:  #f1f1f1;\n",
       "        }#T_c5d9c95a_0bdf_11eb_941f_42010a8a0002row5_col13,#T_c5d9c95a_0bdf_11eb_941f_42010a8a0002row6_col12{\n",
       "            font-size:  6pt;\n",
       "            background-color:  #090909;\n",
       "            color:  #f1f1f1;\n",
       "        }#T_c5d9c95a_0bdf_11eb_941f_42010a8a0002row5_col14{\n",
       "            font-size:  6pt;\n",
       "            background-color:  #d0d0d0;\n",
       "            color:  #000000;\n",
       "        }#T_c5d9c95a_0bdf_11eb_941f_42010a8a0002row6_col10,#T_c5d9c95a_0bdf_11eb_941f_42010a8a0002row7_col11,#T_c5d9c95a_0bdf_11eb_941f_42010a8a0002row9_col6{\n",
       "            font-size:  6pt;\n",
       "            background-color:  #060606;\n",
       "            color:  #f1f1f1;\n",
       "        }#T_c5d9c95a_0bdf_11eb_941f_42010a8a0002row6_col13{\n",
       "            font-size:  6pt;\n",
       "            background-color:  #979797;\n",
       "            color:  #000000;\n",
       "        }#T_c5d9c95a_0bdf_11eb_941f_42010a8a0002row7_col8{\n",
       "            font-size:  6pt;\n",
       "            background-color:  #b6b6b6;\n",
       "            color:  #000000;\n",
       "        }#T_c5d9c95a_0bdf_11eb_941f_42010a8a0002row7_col9{\n",
       "            font-size:  6pt;\n",
       "            background-color:  #252525;\n",
       "            color:  #f1f1f1;\n",
       "        }#T_c5d9c95a_0bdf_11eb_941f_42010a8a0002row7_col12{\n",
       "            font-size:  6pt;\n",
       "            background-color:  #999999;\n",
       "            color:  #000000;\n",
       "        }#T_c5d9c95a_0bdf_11eb_941f_42010a8a0002row8_col5{\n",
       "            font-size:  6pt;\n",
       "            background-color:  #f9f9f9;\n",
       "            color:  #000000;\n",
       "        }#T_c5d9c95a_0bdf_11eb_941f_42010a8a0002row8_col7{\n",
       "            font-size:  6pt;\n",
       "            background-color:  #101010;\n",
       "            color:  #f1f1f1;\n",
       "        }#T_c5d9c95a_0bdf_11eb_941f_42010a8a0002row8_col9,#T_c5d9c95a_0bdf_11eb_941f_42010a8a0002row9_col9{\n",
       "            font-size:  6pt;\n",
       "            background-color:  #020202;\n",
       "            color:  #f1f1f1;\n",
       "        }#T_c5d9c95a_0bdf_11eb_941f_42010a8a0002row8_col11{\n",
       "            font-size:  6pt;\n",
       "            background-color:  #545454;\n",
       "            color:  #f1f1f1;\n",
       "        }#T_c5d9c95a_0bdf_11eb_941f_42010a8a0002row8_col12{\n",
       "            font-size:  6pt;\n",
       "            background-color:  #f1f1f1;\n",
       "            color:  #000000;\n",
       "        }#T_c5d9c95a_0bdf_11eb_941f_42010a8a0002row9_col5{\n",
       "            font-size:  6pt;\n",
       "            background-color:  #f7f7f7;\n",
       "            color:  #000000;\n",
       "        }#T_c5d9c95a_0bdf_11eb_941f_42010a8a0002row9_col7{\n",
       "            font-size:  6pt;\n",
       "            background-color:  #030303;\n",
       "            color:  #f1f1f1;\n",
       "        }#T_c5d9c95a_0bdf_11eb_941f_42010a8a0002row9_col12{\n",
       "            font-size:  6pt;\n",
       "            background-color:  #181818;\n",
       "            color:  #f1f1f1;\n",
       "        }#T_c5d9c95a_0bdf_11eb_941f_42010a8a0002row9_col13{\n",
       "            font-size:  6pt;\n",
       "            background-color:  #303030;\n",
       "            color:  #f1f1f1;\n",
       "        }#T_c5d9c95a_0bdf_11eb_941f_42010a8a0002row9_col14{\n",
       "            font-size:  6pt;\n",
       "            background-color:  #a9a9a9;\n",
       "            color:  #000000;\n",
       "        }#T_c5d9c95a_0bdf_11eb_941f_42010a8a0002row9_col15{\n",
       "            font-size:  6pt;\n",
       "            background-color:  #fefefe;\n",
       "            color:  #000000;\n",
       "        }#T_c5d9c95a_0bdf_11eb_941f_42010a8a0002row10_col8,#T_c5d9c95a_0bdf_11eb_941f_42010a8a0002row10_col9{\n",
       "            font-size:  6pt;\n",
       "            background-color:  #bababa;\n",
       "            color:  #000000;\n",
       "        }#T_c5d9c95a_0bdf_11eb_941f_42010a8a0002row10_col10{\n",
       "            font-size:  6pt;\n",
       "            background-color:  #393939;\n",
       "            color:  #f1f1f1;\n",
       "        }</style><table id=\"T_c5d9c95a_0bdf_11eb_941f_42010a8a0002\" ><thead>    <tr>        <th class=\"blank level0\" ></th>        <th class=\"col_heading level0 col0\" >0</th>        <th class=\"col_heading level0 col1\" >1</th>        <th class=\"col_heading level0 col2\" >2</th>        <th class=\"col_heading level0 col3\" >3</th>        <th class=\"col_heading level0 col4\" >4</th>        <th class=\"col_heading level0 col5\" >5</th>        <th class=\"col_heading level0 col6\" >6</th>        <th class=\"col_heading level0 col7\" >7</th>        <th class=\"col_heading level0 col8\" >8</th>        <th class=\"col_heading level0 col9\" >9</th>        <th class=\"col_heading level0 col10\" >10</th>        <th class=\"col_heading level0 col11\" >11</th>        <th class=\"col_heading level0 col12\" >12</th>        <th class=\"col_heading level0 col13\" >13</th>        <th class=\"col_heading level0 col14\" >14</th>        <th class=\"col_heading level0 col15\" >15</th>        <th class=\"col_heading level0 col16\" >16</th>        <th class=\"col_heading level0 col17\" >17</th>    </tr></thead><tbody>\n",
       "                <tr>\n",
       "                        <th id=\"T_c5d9c95a_0bdf_11eb_941f_42010a8a0002level0_row0\" class=\"row_heading level0 row0\" >0</th>\n",
       "                        <td id=\"T_c5d9c95a_0bdf_11eb_941f_42010a8a0002row0_col0\" class=\"data row0 col0\" >0</td>\n",
       "                        <td id=\"T_c5d9c95a_0bdf_11eb_941f_42010a8a0002row0_col1\" class=\"data row0 col1\" >0</td>\n",
       "                        <td id=\"T_c5d9c95a_0bdf_11eb_941f_42010a8a0002row0_col2\" class=\"data row0 col2\" >0</td>\n",
       "                        <td id=\"T_c5d9c95a_0bdf_11eb_941f_42010a8a0002row0_col3\" class=\"data row0 col3\" >0</td>\n",
       "                        <td id=\"T_c5d9c95a_0bdf_11eb_941f_42010a8a0002row0_col4\" class=\"data row0 col4\" >0</td>\n",
       "                        <td id=\"T_c5d9c95a_0bdf_11eb_941f_42010a8a0002row0_col5\" class=\"data row0 col5\" >0</td>\n",
       "                        <td id=\"T_c5d9c95a_0bdf_11eb_941f_42010a8a0002row0_col6\" class=\"data row0 col6\" >0</td>\n",
       "                        <td id=\"T_c5d9c95a_0bdf_11eb_941f_42010a8a0002row0_col7\" class=\"data row0 col7\" >0</td>\n",
       "                        <td id=\"T_c5d9c95a_0bdf_11eb_941f_42010a8a0002row0_col8\" class=\"data row0 col8\" >0</td>\n",
       "                        <td id=\"T_c5d9c95a_0bdf_11eb_941f_42010a8a0002row0_col9\" class=\"data row0 col9\" >0</td>\n",
       "                        <td id=\"T_c5d9c95a_0bdf_11eb_941f_42010a8a0002row0_col10\" class=\"data row0 col10\" >0</td>\n",
       "                        <td id=\"T_c5d9c95a_0bdf_11eb_941f_42010a8a0002row0_col11\" class=\"data row0 col11\" >0</td>\n",
       "                        <td id=\"T_c5d9c95a_0bdf_11eb_941f_42010a8a0002row0_col12\" class=\"data row0 col12\" >0</td>\n",
       "                        <td id=\"T_c5d9c95a_0bdf_11eb_941f_42010a8a0002row0_col13\" class=\"data row0 col13\" >0</td>\n",
       "                        <td id=\"T_c5d9c95a_0bdf_11eb_941f_42010a8a0002row0_col14\" class=\"data row0 col14\" >0</td>\n",
       "                        <td id=\"T_c5d9c95a_0bdf_11eb_941f_42010a8a0002row0_col15\" class=\"data row0 col15\" >0</td>\n",
       "                        <td id=\"T_c5d9c95a_0bdf_11eb_941f_42010a8a0002row0_col16\" class=\"data row0 col16\" >0</td>\n",
       "                        <td id=\"T_c5d9c95a_0bdf_11eb_941f_42010a8a0002row0_col17\" class=\"data row0 col17\" >0</td>\n",
       "            </tr>\n",
       "            <tr>\n",
       "                        <th id=\"T_c5d9c95a_0bdf_11eb_941f_42010a8a0002level0_row1\" class=\"row_heading level0 row1\" >1</th>\n",
       "                        <td id=\"T_c5d9c95a_0bdf_11eb_941f_42010a8a0002row1_col0\" class=\"data row1 col0\" >0</td>\n",
       "                        <td id=\"T_c5d9c95a_0bdf_11eb_941f_42010a8a0002row1_col1\" class=\"data row1 col1\" >0</td>\n",
       "                        <td id=\"T_c5d9c95a_0bdf_11eb_941f_42010a8a0002row1_col2\" class=\"data row1 col2\" >0</td>\n",
       "                        <td id=\"T_c5d9c95a_0bdf_11eb_941f_42010a8a0002row1_col3\" class=\"data row1 col3\" >0</td>\n",
       "                        <td id=\"T_c5d9c95a_0bdf_11eb_941f_42010a8a0002row1_col4\" class=\"data row1 col4\" >0</td>\n",
       "                        <td id=\"T_c5d9c95a_0bdf_11eb_941f_42010a8a0002row1_col5\" class=\"data row1 col5\" >29</td>\n",
       "                        <td id=\"T_c5d9c95a_0bdf_11eb_941f_42010a8a0002row1_col6\" class=\"data row1 col6\" >150</td>\n",
       "                        <td id=\"T_c5d9c95a_0bdf_11eb_941f_42010a8a0002row1_col7\" class=\"data row1 col7\" >195</td>\n",
       "                        <td id=\"T_c5d9c95a_0bdf_11eb_941f_42010a8a0002row1_col8\" class=\"data row1 col8\" >254</td>\n",
       "                        <td id=\"T_c5d9c95a_0bdf_11eb_941f_42010a8a0002row1_col9\" class=\"data row1 col9\" >255</td>\n",
       "                        <td id=\"T_c5d9c95a_0bdf_11eb_941f_42010a8a0002row1_col10\" class=\"data row1 col10\" >254</td>\n",
       "                        <td id=\"T_c5d9c95a_0bdf_11eb_941f_42010a8a0002row1_col11\" class=\"data row1 col11\" >176</td>\n",
       "                        <td id=\"T_c5d9c95a_0bdf_11eb_941f_42010a8a0002row1_col12\" class=\"data row1 col12\" >193</td>\n",
       "                        <td id=\"T_c5d9c95a_0bdf_11eb_941f_42010a8a0002row1_col13\" class=\"data row1 col13\" >150</td>\n",
       "                        <td id=\"T_c5d9c95a_0bdf_11eb_941f_42010a8a0002row1_col14\" class=\"data row1 col14\" >96</td>\n",
       "                        <td id=\"T_c5d9c95a_0bdf_11eb_941f_42010a8a0002row1_col15\" class=\"data row1 col15\" >0</td>\n",
       "                        <td id=\"T_c5d9c95a_0bdf_11eb_941f_42010a8a0002row1_col16\" class=\"data row1 col16\" >0</td>\n",
       "                        <td id=\"T_c5d9c95a_0bdf_11eb_941f_42010a8a0002row1_col17\" class=\"data row1 col17\" >0</td>\n",
       "            </tr>\n",
       "            <tr>\n",
       "                        <th id=\"T_c5d9c95a_0bdf_11eb_941f_42010a8a0002level0_row2\" class=\"row_heading level0 row2\" >2</th>\n",
       "                        <td id=\"T_c5d9c95a_0bdf_11eb_941f_42010a8a0002row2_col0\" class=\"data row2 col0\" >0</td>\n",
       "                        <td id=\"T_c5d9c95a_0bdf_11eb_941f_42010a8a0002row2_col1\" class=\"data row2 col1\" >0</td>\n",
       "                        <td id=\"T_c5d9c95a_0bdf_11eb_941f_42010a8a0002row2_col2\" class=\"data row2 col2\" >0</td>\n",
       "                        <td id=\"T_c5d9c95a_0bdf_11eb_941f_42010a8a0002row2_col3\" class=\"data row2 col3\" >48</td>\n",
       "                        <td id=\"T_c5d9c95a_0bdf_11eb_941f_42010a8a0002row2_col4\" class=\"data row2 col4\" >166</td>\n",
       "                        <td id=\"T_c5d9c95a_0bdf_11eb_941f_42010a8a0002row2_col5\" class=\"data row2 col5\" >224</td>\n",
       "                        <td id=\"T_c5d9c95a_0bdf_11eb_941f_42010a8a0002row2_col6\" class=\"data row2 col6\" >253</td>\n",
       "                        <td id=\"T_c5d9c95a_0bdf_11eb_941f_42010a8a0002row2_col7\" class=\"data row2 col7\" >253</td>\n",
       "                        <td id=\"T_c5d9c95a_0bdf_11eb_941f_42010a8a0002row2_col8\" class=\"data row2 col8\" >234</td>\n",
       "                        <td id=\"T_c5d9c95a_0bdf_11eb_941f_42010a8a0002row2_col9\" class=\"data row2 col9\" >196</td>\n",
       "                        <td id=\"T_c5d9c95a_0bdf_11eb_941f_42010a8a0002row2_col10\" class=\"data row2 col10\" >253</td>\n",
       "                        <td id=\"T_c5d9c95a_0bdf_11eb_941f_42010a8a0002row2_col11\" class=\"data row2 col11\" >253</td>\n",
       "                        <td id=\"T_c5d9c95a_0bdf_11eb_941f_42010a8a0002row2_col12\" class=\"data row2 col12\" >253</td>\n",
       "                        <td id=\"T_c5d9c95a_0bdf_11eb_941f_42010a8a0002row2_col13\" class=\"data row2 col13\" >253</td>\n",
       "                        <td id=\"T_c5d9c95a_0bdf_11eb_941f_42010a8a0002row2_col14\" class=\"data row2 col14\" >233</td>\n",
       "                        <td id=\"T_c5d9c95a_0bdf_11eb_941f_42010a8a0002row2_col15\" class=\"data row2 col15\" >0</td>\n",
       "                        <td id=\"T_c5d9c95a_0bdf_11eb_941f_42010a8a0002row2_col16\" class=\"data row2 col16\" >0</td>\n",
       "                        <td id=\"T_c5d9c95a_0bdf_11eb_941f_42010a8a0002row2_col17\" class=\"data row2 col17\" >0</td>\n",
       "            </tr>\n",
       "            <tr>\n",
       "                        <th id=\"T_c5d9c95a_0bdf_11eb_941f_42010a8a0002level0_row3\" class=\"row_heading level0 row3\" >3</th>\n",
       "                        <td id=\"T_c5d9c95a_0bdf_11eb_941f_42010a8a0002row3_col0\" class=\"data row3 col0\" >0</td>\n",
       "                        <td id=\"T_c5d9c95a_0bdf_11eb_941f_42010a8a0002row3_col1\" class=\"data row3 col1\" >93</td>\n",
       "                        <td id=\"T_c5d9c95a_0bdf_11eb_941f_42010a8a0002row3_col2\" class=\"data row3 col2\" >244</td>\n",
       "                        <td id=\"T_c5d9c95a_0bdf_11eb_941f_42010a8a0002row3_col3\" class=\"data row3 col3\" >249</td>\n",
       "                        <td id=\"T_c5d9c95a_0bdf_11eb_941f_42010a8a0002row3_col4\" class=\"data row3 col4\" >253</td>\n",
       "                        <td id=\"T_c5d9c95a_0bdf_11eb_941f_42010a8a0002row3_col5\" class=\"data row3 col5\" >187</td>\n",
       "                        <td id=\"T_c5d9c95a_0bdf_11eb_941f_42010a8a0002row3_col6\" class=\"data row3 col6\" >46</td>\n",
       "                        <td id=\"T_c5d9c95a_0bdf_11eb_941f_42010a8a0002row3_col7\" class=\"data row3 col7\" >10</td>\n",
       "                        <td id=\"T_c5d9c95a_0bdf_11eb_941f_42010a8a0002row3_col8\" class=\"data row3 col8\" >8</td>\n",
       "                        <td id=\"T_c5d9c95a_0bdf_11eb_941f_42010a8a0002row3_col9\" class=\"data row3 col9\" >4</td>\n",
       "                        <td id=\"T_c5d9c95a_0bdf_11eb_941f_42010a8a0002row3_col10\" class=\"data row3 col10\" >10</td>\n",
       "                        <td id=\"T_c5d9c95a_0bdf_11eb_941f_42010a8a0002row3_col11\" class=\"data row3 col11\" >194</td>\n",
       "                        <td id=\"T_c5d9c95a_0bdf_11eb_941f_42010a8a0002row3_col12\" class=\"data row3 col12\" >253</td>\n",
       "                        <td id=\"T_c5d9c95a_0bdf_11eb_941f_42010a8a0002row3_col13\" class=\"data row3 col13\" >253</td>\n",
       "                        <td id=\"T_c5d9c95a_0bdf_11eb_941f_42010a8a0002row3_col14\" class=\"data row3 col14\" >233</td>\n",
       "                        <td id=\"T_c5d9c95a_0bdf_11eb_941f_42010a8a0002row3_col15\" class=\"data row3 col15\" >0</td>\n",
       "                        <td id=\"T_c5d9c95a_0bdf_11eb_941f_42010a8a0002row3_col16\" class=\"data row3 col16\" >0</td>\n",
       "                        <td id=\"T_c5d9c95a_0bdf_11eb_941f_42010a8a0002row3_col17\" class=\"data row3 col17\" >0</td>\n",
       "            </tr>\n",
       "            <tr>\n",
       "                        <th id=\"T_c5d9c95a_0bdf_11eb_941f_42010a8a0002level0_row4\" class=\"row_heading level0 row4\" >4</th>\n",
       "                        <td id=\"T_c5d9c95a_0bdf_11eb_941f_42010a8a0002row4_col0\" class=\"data row4 col0\" >0</td>\n",
       "                        <td id=\"T_c5d9c95a_0bdf_11eb_941f_42010a8a0002row4_col1\" class=\"data row4 col1\" >107</td>\n",
       "                        <td id=\"T_c5d9c95a_0bdf_11eb_941f_42010a8a0002row4_col2\" class=\"data row4 col2\" >253</td>\n",
       "                        <td id=\"T_c5d9c95a_0bdf_11eb_941f_42010a8a0002row4_col3\" class=\"data row4 col3\" >253</td>\n",
       "                        <td id=\"T_c5d9c95a_0bdf_11eb_941f_42010a8a0002row4_col4\" class=\"data row4 col4\" >230</td>\n",
       "                        <td id=\"T_c5d9c95a_0bdf_11eb_941f_42010a8a0002row4_col5\" class=\"data row4 col5\" >48</td>\n",
       "                        <td id=\"T_c5d9c95a_0bdf_11eb_941f_42010a8a0002row4_col6\" class=\"data row4 col6\" >0</td>\n",
       "                        <td id=\"T_c5d9c95a_0bdf_11eb_941f_42010a8a0002row4_col7\" class=\"data row4 col7\" >0</td>\n",
       "                        <td id=\"T_c5d9c95a_0bdf_11eb_941f_42010a8a0002row4_col8\" class=\"data row4 col8\" >0</td>\n",
       "                        <td id=\"T_c5d9c95a_0bdf_11eb_941f_42010a8a0002row4_col9\" class=\"data row4 col9\" >0</td>\n",
       "                        <td id=\"T_c5d9c95a_0bdf_11eb_941f_42010a8a0002row4_col10\" class=\"data row4 col10\" >0</td>\n",
       "                        <td id=\"T_c5d9c95a_0bdf_11eb_941f_42010a8a0002row4_col11\" class=\"data row4 col11\" >192</td>\n",
       "                        <td id=\"T_c5d9c95a_0bdf_11eb_941f_42010a8a0002row4_col12\" class=\"data row4 col12\" >253</td>\n",
       "                        <td id=\"T_c5d9c95a_0bdf_11eb_941f_42010a8a0002row4_col13\" class=\"data row4 col13\" >253</td>\n",
       "                        <td id=\"T_c5d9c95a_0bdf_11eb_941f_42010a8a0002row4_col14\" class=\"data row4 col14\" >156</td>\n",
       "                        <td id=\"T_c5d9c95a_0bdf_11eb_941f_42010a8a0002row4_col15\" class=\"data row4 col15\" >0</td>\n",
       "                        <td id=\"T_c5d9c95a_0bdf_11eb_941f_42010a8a0002row4_col16\" class=\"data row4 col16\" >0</td>\n",
       "                        <td id=\"T_c5d9c95a_0bdf_11eb_941f_42010a8a0002row4_col17\" class=\"data row4 col17\" >0</td>\n",
       "            </tr>\n",
       "            <tr>\n",
       "                        <th id=\"T_c5d9c95a_0bdf_11eb_941f_42010a8a0002level0_row5\" class=\"row_heading level0 row5\" >5</th>\n",
       "                        <td id=\"T_c5d9c95a_0bdf_11eb_941f_42010a8a0002row5_col0\" class=\"data row5 col0\" >0</td>\n",
       "                        <td id=\"T_c5d9c95a_0bdf_11eb_941f_42010a8a0002row5_col1\" class=\"data row5 col1\" >3</td>\n",
       "                        <td id=\"T_c5d9c95a_0bdf_11eb_941f_42010a8a0002row5_col2\" class=\"data row5 col2\" >20</td>\n",
       "                        <td id=\"T_c5d9c95a_0bdf_11eb_941f_42010a8a0002row5_col3\" class=\"data row5 col3\" >20</td>\n",
       "                        <td id=\"T_c5d9c95a_0bdf_11eb_941f_42010a8a0002row5_col4\" class=\"data row5 col4\" >15</td>\n",
       "                        <td id=\"T_c5d9c95a_0bdf_11eb_941f_42010a8a0002row5_col5\" class=\"data row5 col5\" >0</td>\n",
       "                        <td id=\"T_c5d9c95a_0bdf_11eb_941f_42010a8a0002row5_col6\" class=\"data row5 col6\" >0</td>\n",
       "                        <td id=\"T_c5d9c95a_0bdf_11eb_941f_42010a8a0002row5_col7\" class=\"data row5 col7\" >0</td>\n",
       "                        <td id=\"T_c5d9c95a_0bdf_11eb_941f_42010a8a0002row5_col8\" class=\"data row5 col8\" >0</td>\n",
       "                        <td id=\"T_c5d9c95a_0bdf_11eb_941f_42010a8a0002row5_col9\" class=\"data row5 col9\" >0</td>\n",
       "                        <td id=\"T_c5d9c95a_0bdf_11eb_941f_42010a8a0002row5_col10\" class=\"data row5 col10\" >43</td>\n",
       "                        <td id=\"T_c5d9c95a_0bdf_11eb_941f_42010a8a0002row5_col11\" class=\"data row5 col11\" >224</td>\n",
       "                        <td id=\"T_c5d9c95a_0bdf_11eb_941f_42010a8a0002row5_col12\" class=\"data row5 col12\" >253</td>\n",
       "                        <td id=\"T_c5d9c95a_0bdf_11eb_941f_42010a8a0002row5_col13\" class=\"data row5 col13\" >245</td>\n",
       "                        <td id=\"T_c5d9c95a_0bdf_11eb_941f_42010a8a0002row5_col14\" class=\"data row5 col14\" >74</td>\n",
       "                        <td id=\"T_c5d9c95a_0bdf_11eb_941f_42010a8a0002row5_col15\" class=\"data row5 col15\" >0</td>\n",
       "                        <td id=\"T_c5d9c95a_0bdf_11eb_941f_42010a8a0002row5_col16\" class=\"data row5 col16\" >0</td>\n",
       "                        <td id=\"T_c5d9c95a_0bdf_11eb_941f_42010a8a0002row5_col17\" class=\"data row5 col17\" >0</td>\n",
       "            </tr>\n",
       "            <tr>\n",
       "                        <th id=\"T_c5d9c95a_0bdf_11eb_941f_42010a8a0002level0_row6\" class=\"row_heading level0 row6\" >6</th>\n",
       "                        <td id=\"T_c5d9c95a_0bdf_11eb_941f_42010a8a0002row6_col0\" class=\"data row6 col0\" >0</td>\n",
       "                        <td id=\"T_c5d9c95a_0bdf_11eb_941f_42010a8a0002row6_col1\" class=\"data row6 col1\" >0</td>\n",
       "                        <td id=\"T_c5d9c95a_0bdf_11eb_941f_42010a8a0002row6_col2\" class=\"data row6 col2\" >0</td>\n",
       "                        <td id=\"T_c5d9c95a_0bdf_11eb_941f_42010a8a0002row6_col3\" class=\"data row6 col3\" >0</td>\n",
       "                        <td id=\"T_c5d9c95a_0bdf_11eb_941f_42010a8a0002row6_col4\" class=\"data row6 col4\" >0</td>\n",
       "                        <td id=\"T_c5d9c95a_0bdf_11eb_941f_42010a8a0002row6_col5\" class=\"data row6 col5\" >0</td>\n",
       "                        <td id=\"T_c5d9c95a_0bdf_11eb_941f_42010a8a0002row6_col6\" class=\"data row6 col6\" >0</td>\n",
       "                        <td id=\"T_c5d9c95a_0bdf_11eb_941f_42010a8a0002row6_col7\" class=\"data row6 col7\" >0</td>\n",
       "                        <td id=\"T_c5d9c95a_0bdf_11eb_941f_42010a8a0002row6_col8\" class=\"data row6 col8\" >0</td>\n",
       "                        <td id=\"T_c5d9c95a_0bdf_11eb_941f_42010a8a0002row6_col9\" class=\"data row6 col9\" >0</td>\n",
       "                        <td id=\"T_c5d9c95a_0bdf_11eb_941f_42010a8a0002row6_col10\" class=\"data row6 col10\" >249</td>\n",
       "                        <td id=\"T_c5d9c95a_0bdf_11eb_941f_42010a8a0002row6_col11\" class=\"data row6 col11\" >253</td>\n",
       "                        <td id=\"T_c5d9c95a_0bdf_11eb_941f_42010a8a0002row6_col12\" class=\"data row6 col12\" >245</td>\n",
       "                        <td id=\"T_c5d9c95a_0bdf_11eb_941f_42010a8a0002row6_col13\" class=\"data row6 col13\" >126</td>\n",
       "                        <td id=\"T_c5d9c95a_0bdf_11eb_941f_42010a8a0002row6_col14\" class=\"data row6 col14\" >0</td>\n",
       "                        <td id=\"T_c5d9c95a_0bdf_11eb_941f_42010a8a0002row6_col15\" class=\"data row6 col15\" >0</td>\n",
       "                        <td id=\"T_c5d9c95a_0bdf_11eb_941f_42010a8a0002row6_col16\" class=\"data row6 col16\" >0</td>\n",
       "                        <td id=\"T_c5d9c95a_0bdf_11eb_941f_42010a8a0002row6_col17\" class=\"data row6 col17\" >0</td>\n",
       "            </tr>\n",
       "            <tr>\n",
       "                        <th id=\"T_c5d9c95a_0bdf_11eb_941f_42010a8a0002level0_row7\" class=\"row_heading level0 row7\" >7</th>\n",
       "                        <td id=\"T_c5d9c95a_0bdf_11eb_941f_42010a8a0002row7_col0\" class=\"data row7 col0\" >0</td>\n",
       "                        <td id=\"T_c5d9c95a_0bdf_11eb_941f_42010a8a0002row7_col1\" class=\"data row7 col1\" >0</td>\n",
       "                        <td id=\"T_c5d9c95a_0bdf_11eb_941f_42010a8a0002row7_col2\" class=\"data row7 col2\" >0</td>\n",
       "                        <td id=\"T_c5d9c95a_0bdf_11eb_941f_42010a8a0002row7_col3\" class=\"data row7 col3\" >0</td>\n",
       "                        <td id=\"T_c5d9c95a_0bdf_11eb_941f_42010a8a0002row7_col4\" class=\"data row7 col4\" >0</td>\n",
       "                        <td id=\"T_c5d9c95a_0bdf_11eb_941f_42010a8a0002row7_col5\" class=\"data row7 col5\" >0</td>\n",
       "                        <td id=\"T_c5d9c95a_0bdf_11eb_941f_42010a8a0002row7_col6\" class=\"data row7 col6\" >0</td>\n",
       "                        <td id=\"T_c5d9c95a_0bdf_11eb_941f_42010a8a0002row7_col7\" class=\"data row7 col7\" >14</td>\n",
       "                        <td id=\"T_c5d9c95a_0bdf_11eb_941f_42010a8a0002row7_col8\" class=\"data row7 col8\" >101</td>\n",
       "                        <td id=\"T_c5d9c95a_0bdf_11eb_941f_42010a8a0002row7_col9\" class=\"data row7 col9\" >223</td>\n",
       "                        <td id=\"T_c5d9c95a_0bdf_11eb_941f_42010a8a0002row7_col10\" class=\"data row7 col10\" >253</td>\n",
       "                        <td id=\"T_c5d9c95a_0bdf_11eb_941f_42010a8a0002row7_col11\" class=\"data row7 col11\" >248</td>\n",
       "                        <td id=\"T_c5d9c95a_0bdf_11eb_941f_42010a8a0002row7_col12\" class=\"data row7 col12\" >124</td>\n",
       "                        <td id=\"T_c5d9c95a_0bdf_11eb_941f_42010a8a0002row7_col13\" class=\"data row7 col13\" >0</td>\n",
       "                        <td id=\"T_c5d9c95a_0bdf_11eb_941f_42010a8a0002row7_col14\" class=\"data row7 col14\" >0</td>\n",
       "                        <td id=\"T_c5d9c95a_0bdf_11eb_941f_42010a8a0002row7_col15\" class=\"data row7 col15\" >0</td>\n",
       "                        <td id=\"T_c5d9c95a_0bdf_11eb_941f_42010a8a0002row7_col16\" class=\"data row7 col16\" >0</td>\n",
       "                        <td id=\"T_c5d9c95a_0bdf_11eb_941f_42010a8a0002row7_col17\" class=\"data row7 col17\" >0</td>\n",
       "            </tr>\n",
       "            <tr>\n",
       "                        <th id=\"T_c5d9c95a_0bdf_11eb_941f_42010a8a0002level0_row8\" class=\"row_heading level0 row8\" >8</th>\n",
       "                        <td id=\"T_c5d9c95a_0bdf_11eb_941f_42010a8a0002row8_col0\" class=\"data row8 col0\" >0</td>\n",
       "                        <td id=\"T_c5d9c95a_0bdf_11eb_941f_42010a8a0002row8_col1\" class=\"data row8 col1\" >0</td>\n",
       "                        <td id=\"T_c5d9c95a_0bdf_11eb_941f_42010a8a0002row8_col2\" class=\"data row8 col2\" >0</td>\n",
       "                        <td id=\"T_c5d9c95a_0bdf_11eb_941f_42010a8a0002row8_col3\" class=\"data row8 col3\" >0</td>\n",
       "                        <td id=\"T_c5d9c95a_0bdf_11eb_941f_42010a8a0002row8_col4\" class=\"data row8 col4\" >0</td>\n",
       "                        <td id=\"T_c5d9c95a_0bdf_11eb_941f_42010a8a0002row8_col5\" class=\"data row8 col5\" >11</td>\n",
       "                        <td id=\"T_c5d9c95a_0bdf_11eb_941f_42010a8a0002row8_col6\" class=\"data row8 col6\" >166</td>\n",
       "                        <td id=\"T_c5d9c95a_0bdf_11eb_941f_42010a8a0002row8_col7\" class=\"data row8 col7\" >239</td>\n",
       "                        <td id=\"T_c5d9c95a_0bdf_11eb_941f_42010a8a0002row8_col8\" class=\"data row8 col8\" >253</td>\n",
       "                        <td id=\"T_c5d9c95a_0bdf_11eb_941f_42010a8a0002row8_col9\" class=\"data row8 col9\" >253</td>\n",
       "                        <td id=\"T_c5d9c95a_0bdf_11eb_941f_42010a8a0002row8_col10\" class=\"data row8 col10\" >253</td>\n",
       "                        <td id=\"T_c5d9c95a_0bdf_11eb_941f_42010a8a0002row8_col11\" class=\"data row8 col11\" >187</td>\n",
       "                        <td id=\"T_c5d9c95a_0bdf_11eb_941f_42010a8a0002row8_col12\" class=\"data row8 col12\" >30</td>\n",
       "                        <td id=\"T_c5d9c95a_0bdf_11eb_941f_42010a8a0002row8_col13\" class=\"data row8 col13\" >0</td>\n",
       "                        <td id=\"T_c5d9c95a_0bdf_11eb_941f_42010a8a0002row8_col14\" class=\"data row8 col14\" >0</td>\n",
       "                        <td id=\"T_c5d9c95a_0bdf_11eb_941f_42010a8a0002row8_col15\" class=\"data row8 col15\" >0</td>\n",
       "                        <td id=\"T_c5d9c95a_0bdf_11eb_941f_42010a8a0002row8_col16\" class=\"data row8 col16\" >0</td>\n",
       "                        <td id=\"T_c5d9c95a_0bdf_11eb_941f_42010a8a0002row8_col17\" class=\"data row8 col17\" >0</td>\n",
       "            </tr>\n",
       "            <tr>\n",
       "                        <th id=\"T_c5d9c95a_0bdf_11eb_941f_42010a8a0002level0_row9\" class=\"row_heading level0 row9\" >9</th>\n",
       "                        <td id=\"T_c5d9c95a_0bdf_11eb_941f_42010a8a0002row9_col0\" class=\"data row9 col0\" >0</td>\n",
       "                        <td id=\"T_c5d9c95a_0bdf_11eb_941f_42010a8a0002row9_col1\" class=\"data row9 col1\" >0</td>\n",
       "                        <td id=\"T_c5d9c95a_0bdf_11eb_941f_42010a8a0002row9_col2\" class=\"data row9 col2\" >0</td>\n",
       "                        <td id=\"T_c5d9c95a_0bdf_11eb_941f_42010a8a0002row9_col3\" class=\"data row9 col3\" >0</td>\n",
       "                        <td id=\"T_c5d9c95a_0bdf_11eb_941f_42010a8a0002row9_col4\" class=\"data row9 col4\" >0</td>\n",
       "                        <td id=\"T_c5d9c95a_0bdf_11eb_941f_42010a8a0002row9_col5\" class=\"data row9 col5\" >16</td>\n",
       "                        <td id=\"T_c5d9c95a_0bdf_11eb_941f_42010a8a0002row9_col6\" class=\"data row9 col6\" >248</td>\n",
       "                        <td id=\"T_c5d9c95a_0bdf_11eb_941f_42010a8a0002row9_col7\" class=\"data row9 col7\" >250</td>\n",
       "                        <td id=\"T_c5d9c95a_0bdf_11eb_941f_42010a8a0002row9_col8\" class=\"data row9 col8\" >253</td>\n",
       "                        <td id=\"T_c5d9c95a_0bdf_11eb_941f_42010a8a0002row9_col9\" class=\"data row9 col9\" >253</td>\n",
       "                        <td id=\"T_c5d9c95a_0bdf_11eb_941f_42010a8a0002row9_col10\" class=\"data row9 col10\" >253</td>\n",
       "                        <td id=\"T_c5d9c95a_0bdf_11eb_941f_42010a8a0002row9_col11\" class=\"data row9 col11\" >253</td>\n",
       "                        <td id=\"T_c5d9c95a_0bdf_11eb_941f_42010a8a0002row9_col12\" class=\"data row9 col12\" >232</td>\n",
       "                        <td id=\"T_c5d9c95a_0bdf_11eb_941f_42010a8a0002row9_col13\" class=\"data row9 col13\" >213</td>\n",
       "                        <td id=\"T_c5d9c95a_0bdf_11eb_941f_42010a8a0002row9_col14\" class=\"data row9 col14\" >111</td>\n",
       "                        <td id=\"T_c5d9c95a_0bdf_11eb_941f_42010a8a0002row9_col15\" class=\"data row9 col15\" >2</td>\n",
       "                        <td id=\"T_c5d9c95a_0bdf_11eb_941f_42010a8a0002row9_col16\" class=\"data row9 col16\" >0</td>\n",
       "                        <td id=\"T_c5d9c95a_0bdf_11eb_941f_42010a8a0002row9_col17\" class=\"data row9 col17\" >0</td>\n",
       "            </tr>\n",
       "            <tr>\n",
       "                        <th id=\"T_c5d9c95a_0bdf_11eb_941f_42010a8a0002level0_row10\" class=\"row_heading level0 row10\" >10</th>\n",
       "                        <td id=\"T_c5d9c95a_0bdf_11eb_941f_42010a8a0002row10_col0\" class=\"data row10 col0\" >0</td>\n",
       "                        <td id=\"T_c5d9c95a_0bdf_11eb_941f_42010a8a0002row10_col1\" class=\"data row10 col1\" >0</td>\n",
       "                        <td id=\"T_c5d9c95a_0bdf_11eb_941f_42010a8a0002row10_col2\" class=\"data row10 col2\" >0</td>\n",
       "                        <td id=\"T_c5d9c95a_0bdf_11eb_941f_42010a8a0002row10_col3\" class=\"data row10 col3\" >0</td>\n",
       "                        <td id=\"T_c5d9c95a_0bdf_11eb_941f_42010a8a0002row10_col4\" class=\"data row10 col4\" >0</td>\n",
       "                        <td id=\"T_c5d9c95a_0bdf_11eb_941f_42010a8a0002row10_col5\" class=\"data row10 col5\" >0</td>\n",
       "                        <td id=\"T_c5d9c95a_0bdf_11eb_941f_42010a8a0002row10_col6\" class=\"data row10 col6\" >0</td>\n",
       "                        <td id=\"T_c5d9c95a_0bdf_11eb_941f_42010a8a0002row10_col7\" class=\"data row10 col7\" >43</td>\n",
       "                        <td id=\"T_c5d9c95a_0bdf_11eb_941f_42010a8a0002row10_col8\" class=\"data row10 col8\" >98</td>\n",
       "                        <td id=\"T_c5d9c95a_0bdf_11eb_941f_42010a8a0002row10_col9\" class=\"data row10 col9\" >98</td>\n",
       "                        <td id=\"T_c5d9c95a_0bdf_11eb_941f_42010a8a0002row10_col10\" class=\"data row10 col10\" >208</td>\n",
       "                        <td id=\"T_c5d9c95a_0bdf_11eb_941f_42010a8a0002row10_col11\" class=\"data row10 col11\" >253</td>\n",
       "                        <td id=\"T_c5d9c95a_0bdf_11eb_941f_42010a8a0002row10_col12\" class=\"data row10 col12\" >253</td>\n",
       "                        <td id=\"T_c5d9c95a_0bdf_11eb_941f_42010a8a0002row10_col13\" class=\"data row10 col13\" >253</td>\n",
       "                        <td id=\"T_c5d9c95a_0bdf_11eb_941f_42010a8a0002row10_col14\" class=\"data row10 col14\" >253</td>\n",
       "                        <td id=\"T_c5d9c95a_0bdf_11eb_941f_42010a8a0002row10_col15\" class=\"data row10 col15\" >187</td>\n",
       "                        <td id=\"T_c5d9c95a_0bdf_11eb_941f_42010a8a0002row10_col16\" class=\"data row10 col16\" >22</td>\n",
       "                        <td id=\"T_c5d9c95a_0bdf_11eb_941f_42010a8a0002row10_col17\" class=\"data row10 col17\" >0</td>\n",
       "            </tr>\n",
       "    </tbody></table>"
      ],
      "text/plain": [
       "<pandas.io.formats.style.Styler at 0x7f33b214d5d0>"
      ]
     },
     "execution_count": 15,
     "metadata": {},
     "output_type": "execute_result"
    }
   ],
   "source": [
    "im3_t = tensor(im3)\n",
    "df = pd.DataFrame(im3_t[4:15,4:22])\n",
    "df.style.set_properties(**{'font-size':'6pt'}).background_gradient('Greys')"
   ]
  },
  {
   "cell_type": "code",
   "execution_count": 16,
   "metadata": {},
   "outputs": [],
   "source": [
    "# create a model that recognizes 3s and 7s by aggregating training data for pixel data on 3s and 7s (avg?)                                                                                                                                                                                                                                                                                                                                                                                                                                                                                                                                                                                                                                                                                                                                                                                                                                                                                                                                                                                                                                                                                                                                                                                                                                                                                                                                                                                                                                                                                                                                                                                                                                                                                                                                                                                                                                                                                                                                                                                                                                                                                                                                                                                                                                                                                                                                                                                                                                                                                                                                                                                                                                                                                                                                                                                                                                                                                                                                                                                                                                                                                                                                                                                                                                                                                                                                                                                                                                                                                                                                                                                                                                                                                                                                                                                                                                                                                                                                                                                                                                                                                                                                                                                                                                                                                                                                                                                                                                                                                                                                                                                                                                                                                                                                                                                                                                                                                                                                                                                                                                                                                                                                                                                                                                                                                                                                                                                                                                                                                                                                                                                                                                                                                                                                                                                                                                                                                                                                                                                                                                                                                                                                                                                                                                                                                                                                                                                                                                                                                                                                                                                                                                                                                                                                                                                                                                                                                                                                                                                                                                                                                                                                                                                                                                                                                                                                                                                                                                                                                                                                                                                                                                                                                                                                                                                                                                                                                                                                                                                                                                                                                                                                                                                                                                                                                                                                                                                                                                                                                                                                                                                                                                                                                                                                                                                                                                                                                                                                                                                                                                                                                                                                                                                                                                                                                                                                                                                                                                                                                                                                                                                                                                                                                                                                                                                                                                                                                                                                                                                                                                                                                                                                                                                                                                                                                                                                                                                                                                                                                                                                                                                                                                                                                                                                                                                                                                                                                                                                                                                                                                                                                                                                                                                                                                                                                                                                                                                                                                                                                                                                                                                                                                                                                                                                                                                                                                                                                                                                                                                                                                                                                                                                                                                                                                                                                                                                                                                                                                                                                                                                                                                                                                                                                                                                                                                                                                                                                                                                                                                                                                                                                                                                                                                                                                                                                                                                                                                                                                                                                                                                                                                                                                                                                                                                                                                                                                                                                                                                                                                                                                                                                                                                                                                                                                                                                                                                                                                                                                                                                                                                                                                                                                                                                                                                                                                                                                                                                                                                                                                                                                                                                                                                                                                                                                                                                                                                                                                                                                                                                                                                                                                                                                                                                                                                                                                                                                                                                                                                                                                                                                                                                                                                                                                                                                                                                                                                                                                                                                                                                                                                                                                                                                                                                                                                                                                                                                                                                                                                                                                                                                                                                                                                                                                                                                                                                                                                                                                                                                                                                                                                                                                                                                                                                                                                                                                                                                                                                                                                                                                                                                                                                                                                                                                                                                                                                                                                                                                                                                                                                                                                                                                                                                                                                                                                                                                                                                                                                                                                                                                                                                                                                                                                                                                                                                                                                                                                                                                                                                                                                                                                                                                                                                                                                                                                                                                                                                                                                                                                                                                                                                                                                                                                                                                                                                                                                                                                                                                                                                                                                                                                                                                                                                                                                                                                                                                                                                                                                                                                                                                                                                                                                                                                                                                                                                                                                                                                                                                                                                                                                                                                                                                                                                                                                    "
   ]
  },
  {
   "cell_type": "code",
   "execution_count": 17,
   "metadata": {},
   "outputs": [
    {
     "data": {
      "text/plain": [
       "(6131, 6265)"
      ]
     },
     "execution_count": 17,
     "metadata": {},
     "output_type": "execute_result"
    }
   ],
   "source": [
    "three_tensors = [tensor(Image.open(o)) for o in threes]\n",
    "seven_tensors = [tensor(Image.open(o)) for o in sevens]\n",
    "len(three_tensors), len(seven_tensors)"
   ]
  },
  {
   "cell_type": "code",
   "execution_count": 18,
   "metadata": {},
   "outputs": [
    {
     "data": {
      "text/plain": [
       "<AxesSubplot:>"
      ]
     },
     "execution_count": 18,
     "metadata": {},
     "output_type": "execute_result"
    },
    {
     "data": {
      "image/png": "[encoded data removed]",
      "text/plain": [
       "<Figure size 72x72 with 1 Axes>"
      ]
     },
     "metadata": {
      "needs_background": "light"
     },
     "output_type": "display_data"
    }
   ],
   "source": [
    "show_image(three_tensors[1])"
   ]
  },
  {
   "cell_type": "code",
   "execution_count": 19,
   "metadata": {},
   "outputs": [],
   "source": [
    "# convert to floats to take average\n",
    "stacked_threes = torch.stack(three_tensors).float()/255\n",
    "stacked_sevens = torch.stack(seven_tensors).float()/255"
   ]
  },
  {
   "cell_type": "code",
   "execution_count": 20,
   "metadata": {},
   "outputs": [
    {
     "data": {
      "text/plain": [
       "torch.Size([6131, 28, 28])"
      ]
     },
     "execution_count": 20,
     "metadata": {},
     "output_type": "execute_result"
    }
   ],
   "source": [
    "# 6131 images of size 28 x 28\n",
    "stacked_threes.shape"
   ]
  },
  {
   "cell_type": "code",
   "execution_count": 21,
   "metadata": {},
   "outputs": [
    {
     "data": {
      "text/plain": [
       "<AxesSubplot:>"
      ]
     },
     "execution_count": 21,
     "metadata": {},
     "output_type": "execute_result"
    },
    {
     "data": {
      "image/png": "[encoded data removed]",
      "text/plain": [
       "<Figure size 72x72 with 1 Axes>"
      ]
     },
     "metadata": {
      "needs_background": "light"
     },
     "output_type": "display_data"
    }
   ],
   "source": [
    "mean3 = stacked_threes.mean(0)\n",
    "show_image(mean3)"
   ]
  },
  {
   "cell_type": "code",
   "execution_count": 22,
   "metadata": {},
   "outputs": [
    {
     "data": {
      "text/plain": [
       "<AxesSubplot:>"
      ]
     },
     "execution_count": 22,
     "metadata": {},
     "output_type": "execute_result"
    },
    {
     "data": {
      "image/png": "[encoded data removed]",
      "text/plain": [
       "<Figure size 72x72 with 1 Axes>"
      ]
     },
     "metadata": {
      "needs_background": "light"
     },
     "output_type": "display_data"
    }
   ],
   "source": [
    "mean7 = stacked_sevens.mean(0)\n",
    "show_image(mean7)"
   ]
  },
  {
   "cell_type": "code",
   "execution_count": 23,
   "metadata": {},
   "outputs": [
    {
     "data": {
      "text/plain": [
       "<AxesSubplot:>"
      ]
     },
     "execution_count": 23,
     "metadata": {},
     "output_type": "execute_result"
    },
    {
     "data": {
      "image/png": "[encoded data removed]",
      "text/plain": [
       "<Figure size 72x72 with 1 Axes>"
      ]
     },
     "metadata": {
      "needs_background": "light"
     },
     "output_type": "display_data"
    }
   ],
   "source": [
    "a_3 = stacked_threes[1]\n",
    "show_image(a_3)"
   ]
  },
  {
   "cell_type": "code",
   "execution_count": 24,
   "metadata": {},
   "outputs": [
    {
     "data": {
      "text/plain": [
       "(tensor(0.1114), tensor(0.2021))"
      ]
     },
     "execution_count": 24,
     "metadata": {},
     "output_type": "execute_result"
    }
   ],
   "source": [
    "dist_3_abs = (mean3 - a_3).abs().mean()\n",
    "dist_3_sqr = ((mean3 - a_3)**2).mean().sqrt()\n",
    "dist_3_abs, dist_3_sqr"
   ]
  },
  {
   "cell_type": "code",
   "execution_count": 25,
   "metadata": {},
   "outputs": [
    {
     "data": {
      "text/plain": [
       "(#1010) [Path('/home/jupyter/.fastai/data/mnist_sample/valid/3/8867.png'),Path('/home/jupyter/.fastai/data/mnist_sample/valid/3/9558.png'),Path('/home/jupyter/.fastai/data/mnist_sample/valid/3/2151.png'),Path('/home/jupyter/.fastai/data/mnist_sample/valid/3/578.png'),Path('/home/jupyter/.fastai/data/mnist_sample/valid/3/7981.png'),Path('/home/jupyter/.fastai/data/mnist_sample/valid/3/3248.png'),Path('/home/jupyter/.fastai/data/mnist_sample/valid/3/4647.png'),Path('/home/jupyter/.fastai/data/mnist_sample/valid/3/7905.png'),Path('/home/jupyter/.fastai/data/mnist_sample/valid/3/9073.png'),Path('/home/jupyter/.fastai/data/mnist_sample/valid/3/213.png')...]"
      ]
     },
     "execution_count": 25,
     "metadata": {},
     "output_type": "execute_result"
    }
   ],
   "source": [
    "valid_threes = (path/'valid'/'3').ls()\n",
    "valid_threes"
   ]
  },
  {
   "cell_type": "code",
   "execution_count": 26,
   "metadata": {},
   "outputs": [
    {
     "data": {
      "text/plain": [
       "torch.Size([1010, 28, 28])"
      ]
     },
     "execution_count": 26,
     "metadata": {},
     "output_type": "execute_result"
    }
   ],
   "source": [
    "valid_threes_tensors = [tensor(Image.open(o)) for o in valid_threes]\n",
    "stacked_valid_threes = torch.stack(valid_threes_tensors).float()/255\n",
    "stacked_valid_threes.shape"
   ]
  },
  {
   "cell_type": "code",
   "execution_count": 27,
   "metadata": {},
   "outputs": [
    {
     "data": {
      "text/plain": [
       "tensor(0.1114)"
      ]
     },
     "execution_count": 27,
     "metadata": {},
     "output_type": "execute_result"
    }
   ],
   "source": [
    "def mnist_distance(a, b): return (a-b).abs().mean((-1, -2))\n",
    "mnist_distance(a_3, mean3)"
   ]
  },
  {
   "cell_type": "code",
   "execution_count": 28,
   "metadata": {},
   "outputs": [
    {
     "data": {
      "text/plain": [
       "tensor([0.1506, 0.1202, 0.1508,  ..., 0.1541, 0.1135, 0.1092])"
      ]
     },
     "execution_count": 28,
     "metadata": {},
     "output_type": "execute_result"
    }
   ],
   "source": [
    "mnist_distance(stacked_valid_threes, mean3)"
   ]
  },
  {
   "cell_type": "code",
   "execution_count": 29,
   "metadata": {},
   "outputs": [
    {
     "data": {
      "text/plain": [
       "(torch.Size([1010, 28, 28]), torch.Size([28, 28]))"
      ]
     },
     "execution_count": 29,
     "metadata": {},
     "output_type": "execute_result"
    }
   ],
   "source": [
    "(stacked_valid_threes.shape, mean3.shape)"
   ]
  },
  {
   "cell_type": "code",
   "execution_count": 30,
   "metadata": {},
   "outputs": [
    {
     "data": {
      "text/plain": [
       "torch.Size([1010, 28, 28])"
      ]
     },
     "execution_count": 30,
     "metadata": {},
     "output_type": "execute_result"
    }
   ],
   "source": [
    "# broadcasting happening here (meaning since mean3 is a rank of 2, this emulates like it were stacked 1010 like stacked_valid_threes)\n",
    "(stacked_valid_threes - mean3).shape"
   ]
  },
  {
   "cell_type": "code",
   "execution_count": 31,
   "metadata": {},
   "outputs": [],
   "source": [
    "def is_3(x): return mnist_distance(x, mean3) < mnist_distance(x, mean7)"
   ]
  },
  {
   "cell_type": "code",
   "execution_count": 32,
   "metadata": {},
   "outputs": [
    {
     "data": {
      "text/plain": [
       "(tensor(True), tensor(1.))"
      ]
     },
     "execution_count": 32,
     "metadata": {},
     "output_type": "execute_result"
    }
   ],
   "source": [
    "is_3(a_3), is_3(a_3).float()"
   ]
  },
  {
   "cell_type": "code",
   "execution_count": 33,
   "metadata": {},
   "outputs": [
    {
     "data": {
      "text/plain": [
       "tensor([True, True, True,  ..., True, True, True])"
      ]
     },
     "execution_count": 33,
     "metadata": {},
     "output_type": "execute_result"
    }
   ],
   "source": [
    "is_3(stacked_valid_threes)"
   ]
  },
  {
   "cell_type": "code",
   "execution_count": 34,
   "metadata": {},
   "outputs": [
    {
     "data": {
      "text/plain": [
       "torch.Size([1028, 28, 28])"
      ]
     },
     "execution_count": 34,
     "metadata": {},
     "output_type": "execute_result"
    }
   ],
   "source": [
    "valid_sevens = (path/'valid'/'7').ls()\n",
    "valid_sevens_tensors = [tensor(Image.open(o)) for o in valid_sevens]\n",
    "stacked_valid_sevens = torch.stack(valid_sevens_tensors).float()/255\n",
    "stacked_valid_sevens.shape"
   ]
  },
  {
   "cell_type": "code",
   "execution_count": 35,
   "metadata": {},
   "outputs": [
    {
     "data": {
      "text/plain": [
       "(tensor(0.9168), tensor(0.9854), tensor(0.9511))"
      ]
     },
     "execution_count": 35,
     "metadata": {},
     "output_type": "execute_result"
    }
   ],
   "source": [
    "accuracy_3s = is_3(stacked_valid_threes).float().mean()\n",
    "accuracy_7s = (1 - is_3(stacked_valid_sevens).float()).mean()\n",
    "accuracy_3s, accuracy_7s, (accuracy_3s + accuracy_7s) / 2"
   ]
  },
  {
   "cell_type": "code",
   "execution_count": 36,
   "metadata": {},
   "outputs": [],
   "source": [
    "# current model (using average over training images) is getting 91.68% and 98.54% accuracy on validation images"
   ]
  },
  {
   "cell_type": "code",
   "execution_count": 37,
   "metadata": {},
   "outputs": [
    {
     "data": {
      "text/plain": [
       "<matplotlib.collections.PathCollection at 0x7f33b185afd0>"
      ]
     },
     "execution_count": 37,
     "metadata": {},
     "output_type": "execute_result"
    },
    {
     "data": {
      "image/png": "[encoded data removed]",
      "text/plain": [
       "<Figure size 432x288 with 1 Axes>"
      ]
     },
     "metadata": {
      "needs_background": "light"
     },
     "output_type": "display_data"
    }
   ],
   "source": [
    "def f(x): return x**2\n",
    "plot_function(f, \"x\", \"x**2\")\n",
    "plt.scatter(-1.5, f(-1.5), color=\"red\")"
   ]
  },
  {
   "cell_type": "code",
   "execution_count": 38,
   "metadata": {},
   "outputs": [],
   "source": [
    "xt = tensor(3.).requires_grad_()"
   ]
  },
  {
   "cell_type": "code",
   "execution_count": 39,
   "metadata": {},
   "outputs": [
    {
     "data": {
      "text/plain": [
       "tensor(9., grad_fn=<PowBackward0>)"
      ]
     },
     "execution_count": 39,
     "metadata": {},
     "output_type": "execute_result"
    }
   ],
   "source": [
    "yt = f(xt)\n",
    "yt"
   ]
  },
  {
   "cell_type": "code",
   "execution_count": 40,
   "metadata": {},
   "outputs": [],
   "source": [
    "yt.backward()"
   ]
  },
  {
   "cell_type": "code",
   "execution_count": 41,
   "metadata": {},
   "outputs": [
    {
     "data": {
      "text/plain": [
       "tensor(6.)"
      ]
     },
     "execution_count": 41,
     "metadata": {},
     "output_type": "execute_result"
    }
   ],
   "source": [
    "xt.grad"
   ]
  },
  {
   "cell_type": "code",
   "execution_count": 42,
   "metadata": {},
   "outputs": [
    {
     "data": {
      "text/plain": [
       "tensor([ 3.,  4., 10.], requires_grad=True)"
      ]
     },
     "execution_count": 42,
     "metadata": {},
     "output_type": "execute_result"
    }
   ],
   "source": [
    "xt = tensor([3., 4., 10.]).requires_grad_()\n",
    "xt"
   ]
  },
  {
   "cell_type": "code",
   "execution_count": 43,
   "metadata": {},
   "outputs": [
    {
     "data": {
      "text/plain": [
       "tensor(125., grad_fn=<SumBackward0>)"
      ]
     },
     "execution_count": 43,
     "metadata": {},
     "output_type": "execute_result"
    }
   ],
   "source": [
    "def f(x): return (x**2).sum()\n",
    "yt = f(xt)\n",
    "yt"
   ]
  },
  {
   "cell_type": "code",
   "execution_count": 44,
   "metadata": {},
   "outputs": [
    {
     "data": {
      "text/plain": [
       "tensor([ 6.,  8., 20.])"
      ]
     },
     "execution_count": 44,
     "metadata": {},
     "output_type": "execute_result"
    }
   ],
   "source": [
    "yt.backward()\n",
    "xt.grad"
   ]
  },
  {
   "cell_type": "code",
   "execution_count": 45,
   "metadata": {},
   "outputs": [
    {
     "data": {
      "text/plain": [
       "tensor([ 0.,  1.,  2.,  3.,  4.,  5.,  6.,  7.,  8.,  9., 10., 11., 12., 13., 14., 15., 16., 17., 18., 19.])"
      ]
     },
     "execution_count": 45,
     "metadata": {},
     "output_type": "execute_result"
    }
   ],
   "source": [
    "time = torch.arange(0,20).float()\n",
    "time"
   ]
  },
  {
   "cell_type": "code",
   "execution_count": 56,
   "metadata": {},
   "outputs": [
    {
     "data": {
      "text/plain": [
       "tensor([65.9460, 53.2131, 43.4216, 34.2649, 24.7274, 15.5955,  7.0237,  9.5215,  3.1235,  1.8807,  1.2135,  2.2606,  7.4125,  8.2623,  9.5683, 21.4351, 41.1296, 44.2669, 54.9181, 70.0628])"
      ]
     },
     "execution_count": 56,
     "metadata": {},
     "output_type": "execute_result"
    }
   ],
   "source": [
    "speed = torch.randn(20)*3 + 0.75*(time - 9.5)**2 + 1\n",
    "speed"
   ]
  },
  {
   "cell_type": "code",
   "execution_count": 57,
   "metadata": {},
   "outputs": [
    {
     "data": {
      "text/plain": [
       "<matplotlib.collections.PathCollection at 0x7f33b0224f50>"
      ]
     },
     "execution_count": 57,
     "metadata": {},
     "output_type": "execute_result"
    },
    {
     "data": {
      "image/png": "[encoded data removed]",
      "text/plain": [
       "<Figure size 432x288 with 1 Axes>"
      ]
     },
     "metadata": {
      "needs_background": "light"
     },
     "output_type": "display_data"
    }
   ],
   "source": [
    "plt.scatter(time, speed)"
   ]
  },
  {
   "cell_type": "code",
   "execution_count": 48,
   "metadata": {},
   "outputs": [],
   "source": [
    "def f(t, params):\n",
    "    a, b, c = params\n",
    "    return a*(t**2) + (b*t) + c"
   ]
  },
  {
   "cell_type": "code",
   "execution_count": 59,
   "metadata": {},
   "outputs": [],
   "source": [
    "def mse(preds,  targets): return ((preds - targets)**2).mean()"
   ]
  },
  {
   "cell_type": "code",
   "execution_count": 53,
   "metadata": {},
   "outputs": [],
   "source": [
    "params = torch.randn(3).requires_grad_()\n",
    "preds = f(time, params)"
   ]
  },
  {
   "cell_type": "code",
   "execution_count": 55,
   "metadata": {},
   "outputs": [
    {
     "data": {
      "image/png": "[encoded data removed]",
      "text/plain": [
       "<Figure size 432x288 with 1 Axes>"
      ]
     },
     "metadata": {
      "needs_background": "light"
     },
     "output_type": "display_data"
    }
   ],
   "source": [
    "def show_preds(preds, ax=None):\n",
    "    if ax is None: ax=plt.subplots()[1]\n",
    "    ax.scatter(time, speed)\n",
    "    ax.scatter(time, to_np(preds), color=\"red\")\n",
    "    ax.set_ylim(-300, 100)\n",
    "show_preds(preds)"
   ]
  },
  {
   "cell_type": "code",
   "execution_count": 60,
   "metadata": {},
   "outputs": [
    {
     "data": {
      "text/plain": [
       "tensor(8503.1299, grad_fn=<MeanBackward0>)"
      ]
     },
     "execution_count": 60,
     "metadata": {},
     "output_type": "execute_result"
    }
   ],
   "source": [
    "loss = mse(preds, speed)\n",
    "loss"
   ]
  },
  {
   "cell_type": "code",
   "execution_count": 61,
   "metadata": {},
   "outputs": [
    {
     "data": {
      "text/plain": [
       "tensor([29794.3691,  1912.8081,   112.9593])"
      ]
     },
     "execution_count": 61,
     "metadata": {},
     "output_type": "execute_result"
    }
   ],
   "source": [
    "loss.backward()\n",
    "params.grad"
   ]
  },
  {
   "cell_type": "code",
   "execution_count": 62,
   "metadata": {},
   "outputs": [
    {
     "data": {
      "text/plain": [
       "tensor([0.2979, 0.0191, 0.0011])"
      ]
     },
     "execution_count": 62,
     "metadata": {},
     "output_type": "execute_result"
    }
   ],
   "source": [
    "params.grad * 1e-5"
   ]
  },
  {
   "cell_type": "code",
   "execution_count": 63,
   "metadata": {},
   "outputs": [
    {
     "data": {
      "text/plain": [
       "tensor([ 0.6863, -0.3278,  0.7950], requires_grad=True)"
      ]
     },
     "execution_count": 63,
     "metadata": {},
     "output_type": "execute_result"
    }
   ],
   "source": [
    "params"
   ]
  },
  {
   "cell_type": "code",
   "execution_count": 64,
   "metadata": {},
   "outputs": [],
   "source": [
    "learning_rate = 1e-5\n",
    "params.data -= learning_rate * params.grad.data\n",
    "params.grad = None"
   ]
  },
  {
   "cell_type": "code",
   "execution_count": 65,
   "metadata": {},
   "outputs": [
    {
     "data": {
      "text/plain": [
       "tensor(2107.4780, grad_fn=<MeanBackward0>)"
      ]
     },
     "execution_count": 65,
     "metadata": {},
     "output_type": "execute_result"
    }
   ],
   "source": [
    "preds = f(time, params)\n",
    "mse(preds, speed)"
   ]
  },
  {
   "cell_type": "code",
   "execution_count": 66,
   "metadata": {},
   "outputs": [
    {
     "data": {
      "image/png": "[encoded data removed]",
      "text/plain": [
       "<Figure size 432x288 with 1 Axes>"
      ]
     },
     "metadata": {
      "needs_background": "light"
     },
     "output_type": "display_data"
    }
   ],
   "source": [
    "show_preds(preds)"
   ]
  },
  {
   "cell_type": "code",
   "execution_count": 69,
   "metadata": {},
   "outputs": [
    {
     "name": "stdout",
     "output_type": "stream",
     "text": [
      "2107.47802734375\n",
      "897.22216796875\n",
      "668.2022705078125\n",
      "624.862060546875\n",
      "616.6581420898438\n",
      "615.1030883789062\n",
      "614.8062744140625\n",
      "614.747314453125\n",
      "614.7337646484375\n",
      "614.728515625\n"
     ]
    }
   ],
   "source": [
    "def apply_step(params, prn=True):\n",
    "    preds = f(time, params)\n",
    "    loss = mse(preds, speed)\n",
    "    loss.backward()\n",
    "    params.data -= learning_rate * params.grad.data\n",
    "    params.grad = None\n",
    "    if prn: print(loss.item())\n",
    "    return preds\n",
    "\n",
    "for i in range(10): apply_step(params)"
   ]
  },
  {
   "cell_type": "code",
   "execution_count": 70,
   "metadata": {},
   "outputs": [
    {
     "data": {
      "image/png": "[encoded data removed]",
      "text/plain": [
       "<Figure size 864x216 with 4 Axes>"
      ]
     },
     "metadata": {
      "needs_background": "light"
     },
     "output_type": "display_data"
    }
   ],
   "source": [
    "_, axs = plt.subplots(1, 4, figsize=(12,3))\n",
    "for ax in axs: show_preds(apply_step(params, False), ax)\n",
    "plt.tight_layout()"
   ]
  },
  {
   "cell_type": "code",
   "execution_count": 71,
   "metadata": {},
   "outputs": [
    {
     "data": {
      "text/plain": [
       "(torch.Size([12396, 784]), torch.Size([12396, 1]))"
      ]
     },
     "execution_count": 71,
     "metadata": {},
     "output_type": "execute_result"
    }
   ],
   "source": [
    "train_x = torch.cat([stacked_threes, stacked_sevens]).view(-1, 28*28)\n",
    "train_y = tensor([1] * len(threes) + [0] * len(sevens)).unsqueeze(1)\n",
    "train_x.shape, train_y.shape"
   ]
  },
  {
   "cell_type": "code",
   "execution_count": 72,
   "metadata": {},
   "outputs": [
    {
     "data": {
      "text/plain": [
       "(torch.Size([784]), tensor([1]))"
      ]
     },
     "execution_count": 72,
     "metadata": {},
     "output_type": "execute_result"
    }
   ],
   "source": [
    "dset = list(zip(train_x, train_y))\n",
    "x, y = dset[0]\n",
    "x.shape, y"
   ]
  },
  {
   "cell_type": "code",
   "execution_count": 74,
   "metadata": {},
   "outputs": [],
   "source": [
    "valid_x = torch.cat([stacked_valid_threes, stacked_valid_sevens]).view(-1, 28*28)\n",
    "valid_y = tensor([1] * len(stacked_valid_threes) + [0] * len(stacked_valid_sevens)).unsqueeze(1)\n",
    "valid_dset = list(zip(valid_x, valid_y))"
   ]
  },
  {
   "cell_type": "code",
   "execution_count": 77,
   "metadata": {},
   "outputs": [],
   "source": [
    "def init_params(size, std=1.0): return (torch.randn(size)*std).requires_grad_()\n",
    "weights = init_params((28*28, 1))\n",
    "bias = init_params(1)"
   ]
  },
  {
   "cell_type": "code",
   "execution_count": 79,
   "metadata": {},
   "outputs": [
    {
     "data": {
      "text/plain": [
       "tensor([-9.6378], grad_fn=<AddBackward0>)"
      ]
     },
     "execution_count": 79,
     "metadata": {},
     "output_type": "execute_result"
    }
   ],
   "source": [
    "(train_x[0]*weights.T).sum() + bias"
   ]
  },
  {
   "cell_type": "code",
   "execution_count": 80,
   "metadata": {},
   "outputs": [
    {
     "data": {
      "text/plain": [
       "tensor([[ -9.6378],\n",
       "        [-22.0662],\n",
       "        [-21.0816],\n",
       "        ...,\n",
       "        [  9.3227],\n",
       "        [ -8.3404],\n",
       "        [  4.6005]], grad_fn=<AddBackward0>)"
      ]
     },
     "execution_count": 80,
     "metadata": {},
     "output_type": "execute_result"
    }
   ],
   "source": [
    "def linear1(xb): return xb@weights + bias\n",
    "preds = linear1(train_x)\n",
    "preds"
   ]
  },
  {
   "cell_type": "code",
   "execution_count": 81,
   "metadata": {},
   "outputs": [
    {
     "data": {
      "text/plain": [
       "tensor([[False],\n",
       "        [False],\n",
       "        [False],\n",
       "        ...,\n",
       "        [False],\n",
       "        [ True],\n",
       "        [False]])"
      ]
     },
     "execution_count": 81,
     "metadata": {},
     "output_type": "execute_result"
    }
   ],
   "source": [
    "corrects = (preds > 0.0).float() == train_y\n",
    "corrects"
   ]
  },
  {
   "cell_type": "code",
   "execution_count": 82,
   "metadata": {},
   "outputs": [
    {
     "data": {
      "text/plain": [
       "0.3388189673423767"
      ]
     },
     "execution_count": 82,
     "metadata": {},
     "output_type": "execute_result"
    }
   ],
   "source": [
    "corrects.float().mean().item()"
   ]
  },
  {
   "cell_type": "code",
   "execution_count": 83,
   "metadata": {},
   "outputs": [],
   "source": [
    "weights[0] *= 1.0001"
   ]
  },
  {
   "cell_type": "code",
   "execution_count": 84,
   "metadata": {},
   "outputs": [
    {
     "data": {
      "text/plain": [
       "0.3388189673423767"
      ]
     },
     "execution_count": 84,
     "metadata": {},
     "output_type": "execute_result"
    }
   ],
   "source": [
    "preds = linear1(train_x)\n",
    "((preds > 0.0).float() == train_y).float().mean().item()"
   ]
  },
  {
   "cell_type": "code",
   "execution_count": 85,
   "metadata": {},
   "outputs": [],
   "source": [
    "# we cant use accuracy as our loss function, because small changes to the weight (input) will not yield discernible changes to the output"
   ]
  },
  {
   "cell_type": "code",
   "execution_count": 86,
   "metadata": {},
   "outputs": [],
   "source": [
    "trgts = tensor([1, 0, 1])\n",
    "prds = tensor([0.9, 0.4, 0.2])"
   ]
  },
  {
   "cell_type": "code",
   "execution_count": 87,
   "metadata": {},
   "outputs": [],
   "source": [
    "def mnist_loss(predictions, targets): return torch.where(targets==1, 1-predictions, predictions).mean()"
   ]
  },
  {
   "cell_type": "code",
   "execution_count": 88,
   "metadata": {},
   "outputs": [
    {
     "data": {
      "text/plain": [
       "tensor([0.1000, 0.4000, 0.8000])"
      ]
     },
     "execution_count": 88,
     "metadata": {},
     "output_type": "execute_result"
    }
   ],
   "source": [
    "torch.where(trgts==1, 1-prds, prds)"
   ]
  },
  {
   "cell_type": "code",
   "execution_count": 89,
   "metadata": {},
   "outputs": [
    {
     "data": {
      "text/plain": [
       "tensor(0.4333)"
      ]
     },
     "execution_count": 89,
     "metadata": {},
     "output_type": "execute_result"
    }
   ],
   "source": [
    "mnist_loss(prds, trgts)"
   ]
  },
  {
   "cell_type": "code",
   "execution_count": 90,
   "metadata": {},
   "outputs": [],
   "source": [
    "def sigmoid(x): return 1 / (1 + torch.exp(-x))"
   ]
  },
  {
   "cell_type": "code",
   "execution_count": 91,
   "metadata": {},
   "outputs": [
    {
     "data": {
      "image/png": "[encoded data removed]",
      "text/plain": [
       "<Figure size 432x288 with 1 Axes>"
      ]
     },
     "metadata": {
      "needs_background": "light"
     },
     "output_type": "display_data"
    }
   ],
   "source": [
    "plot_function(torch.sigmoid, title=\"Sigmoid\", min=-4, max=4)"
   ]
  },
  {
   "cell_type": "code",
   "execution_count": 92,
   "metadata": {},
   "outputs": [],
   "source": [
    "def mnist_loss(predictions, targets):\n",
    "    predictions = predictions.sigmoid()\n",
    "    return torch.where(targets==1, 1- predictions, predictions).mean()"
   ]
  },
  {
   "cell_type": "code",
   "execution_count": 93,
   "metadata": {},
   "outputs": [
    {
     "data": {
      "text/plain": [
       "[tensor([ 3, 12,  8, 10,  2]),\n",
       " tensor([ 9,  4,  7, 14,  5]),\n",
       " tensor([ 1, 13,  0,  6, 11])]"
      ]
     },
     "execution_count": 93,
     "metadata": {},
     "output_type": "execute_result"
    }
   ],
   "source": [
    "coll = range(15)\n",
    "dl = DataLoader(coll, batch_size=5, shuffle=True)\n",
    "list(dl)"
   ]
  },
  {
   "cell_type": "code",
   "execution_count": 94,
   "metadata": {},
   "outputs": [
    {
     "data": {
      "text/plain": [
       "(#26) [(0, 'a'),(1, 'b'),(2, 'c'),(3, 'd'),(4, 'e'),(5, 'f'),(6, 'g'),(7, 'h'),(8, 'i'),(9, 'j')...]"
      ]
     },
     "execution_count": 94,
     "metadata": {},
     "output_type": "execute_result"
    }
   ],
   "source": [
    "ds = L(enumerate(string.ascii_lowercase))\n",
    "ds"
   ]
  },
  {
   "cell_type": "code",
   "execution_count": 96,
   "metadata": {},
   "outputs": [
    {
     "data": {
      "text/plain": [
       "[(tensor([19, 14,  0, 24, 20, 12]), ('t', 'o', 'a', 'y', 'u', 'm')),\n",
       " (tensor([23,  8,  9,  3, 16,  6]), ('x', 'i', 'j', 'd', 'q', 'g')),\n",
       " (tensor([ 4,  7,  1, 13,  2, 22]), ('e', 'h', 'b', 'n', 'c', 'w')),\n",
       " (tensor([ 5, 17, 18, 10, 11, 15]), ('f', 'r', 's', 'k', 'l', 'p')),\n",
       " (tensor([25, 21]), ('z', 'v'))]"
      ]
     },
     "execution_count": 96,
     "metadata": {},
     "output_type": "execute_result"
    }
   ],
   "source": [
    "dl = DataLoader(ds, batch_size=6, shuffle=True)\n",
    "list(dl)"
   ]
  },
  {
   "cell_type": "code",
   "execution_count": 98,
   "metadata": {},
   "outputs": [
    {
     "data": {
      "text/plain": [
       "(torch.Size([256, 784]), torch.Size([256, 1]))"
      ]
     },
     "execution_count": 98,
     "metadata": {},
     "output_type": "execute_result"
    }
   ],
   "source": [
    "# for x, y in dl:\n",
    "#     pred = model(x)\n",
    "#     loss = loss_func(pred, y)\n",
    "#     loss.backward()\n",
    "#     parameters -= parameters.grad * lr\n",
    "    \n",
    "weights = init_params((28*28, 1))\n",
    "bias = init_params(1)\n",
    "dl = DataLoader(dset, batch_size=256)\n",
    "xb, yb = first(dl)\n",
    "xb.shape, yb.shape"
   ]
  },
  {
   "cell_type": "code",
   "execution_count": 99,
   "metadata": {},
   "outputs": [
    {
     "data": {
      "text/plain": [
       "torch.Size([4, 784])"
      ]
     },
     "execution_count": 99,
     "metadata": {},
     "output_type": "execute_result"
    }
   ],
   "source": [
    "valid_dl = DataLoader(valid_dset, batch_size=256)\n",
    "batch = train_x[:4]\n",
    "batch.shape"
   ]
  },
  {
   "cell_type": "code",
   "execution_count": 100,
   "metadata": {},
   "outputs": [
    {
     "data": {
      "text/plain": [
       "tensor([[ 5.4276],\n",
       "        [-1.0139],\n",
       "        [-2.1330],\n",
       "        [-4.6790]], grad_fn=<AddBackward0>)"
      ]
     },
     "execution_count": 100,
     "metadata": {},
     "output_type": "execute_result"
    }
   ],
   "source": [
    "preds = linear1(batch)\n",
    "preds"
   ]
  },
  {
   "cell_type": "code",
   "execution_count": 101,
   "metadata": {},
   "outputs": [
    {
     "data": {
      "text/plain": [
       "tensor(0.6558, grad_fn=<MeanBackward0>)"
      ]
     },
     "execution_count": 101,
     "metadata": {},
     "output_type": "execute_result"
    }
   ],
   "source": [
    "loss = mnist_loss(preds, train_y[:4])\n",
    "loss"
   ]
  },
  {
   "cell_type": "code",
   "execution_count": 102,
   "metadata": {},
   "outputs": [
    {
     "data": {
      "text/plain": [
       "(torch.Size([784, 1]), tensor(-0.0109), tensor([-0.0759]))"
      ]
     },
     "execution_count": 102,
     "metadata": {},
     "output_type": "execute_result"
    }
   ],
   "source": [
    "loss.backward()\n",
    "weights.grad.shape, weights.grad.mean(), bias.grad"
   ]
  },
  {
   "cell_type": "code",
   "execution_count": 103,
   "metadata": {},
   "outputs": [
    {
     "data": {
      "text/plain": [
       "(tensor(-0.0218), tensor([-0.1518]))"
      ]
     },
     "execution_count": 103,
     "metadata": {},
     "output_type": "execute_result"
    }
   ],
   "source": [
    "def calc_grad(xb, yb, model):\n",
    "    preds = model(xb)\n",
    "    loss = mnist_loss(preds, yb)\n",
    "    loss.backward()\n",
    "    \n",
    "calc_grad(batch, train_y[:4], linear1)\n",
    "weights.grad.mean(), bias.grad"
   ]
  },
  {
   "cell_type": "code",
   "execution_count": 104,
   "metadata": {},
   "outputs": [
    {
     "data": {
      "text/plain": [
       "tensor([[ True],\n",
       "        [False],\n",
       "        [False],\n",
       "        [False]])"
      ]
     },
     "execution_count": 104,
     "metadata": {},
     "output_type": "execute_result"
    }
   ],
   "source": [
    "def train_epoch(model, lr, params):\n",
    "    for xb, yb in dl:\n",
    "        calc_grad(xb, yb, model)\n",
    "        for p in params:\n",
    "            p.data -= p.grad * lr\n",
    "            p.grad.zero_()\n",
    "            \n",
    "(preds > 0.0).float() == train_y[:4]"
   ]
  },
  {
   "cell_type": "code",
   "execution_count": 107,
   "metadata": {},
   "outputs": [],
   "source": [
    "def batch_accuracy(xb, yb):\n",
    "    preds = xb.sigmoid()\n",
    "    correct = (preds > 0.5) == yb\n",
    "    return correct.float().mean()"
   ]
  },
  {
   "cell_type": "code",
   "execution_count": 108,
   "metadata": {},
   "outputs": [
    {
     "data": {
      "text/plain": [
       "tensor(0.2500)"
      ]
     },
     "execution_count": 108,
     "metadata": {},
     "output_type": "execute_result"
    }
   ],
   "source": [
    "batch_accuracy(linear1(batch), train_y[:4])"
   ]
  },
  {
   "cell_type": "code",
   "execution_count": 109,
   "metadata": {},
   "outputs": [],
   "source": [
    "def validate_epoch(model):\n",
    "    accs = [batch_accuracy(model(xb), yb) for xb, yb in valid_dl]\n",
    "    return round(torch.stack(accs).mean().item(), 4)"
   ]
  },
  {
   "cell_type": "code",
   "execution_count": 110,
   "metadata": {},
   "outputs": [
    {
     "data": {
      "text/plain": [
       "0.358"
      ]
     },
     "execution_count": 110,
     "metadata": {},
     "output_type": "execute_result"
    }
   ],
   "source": [
    "validate_epoch(linear1)"
   ]
  },
  {
   "cell_type": "code",
   "execution_count": 111,
   "metadata": {},
   "outputs": [
    {
     "data": {
      "text/plain": [
       "0.68"
      ]
     },
     "execution_count": 111,
     "metadata": {},
     "output_type": "execute_result"
    }
   ],
   "source": [
    "lr = 1.\n",
    "params = weights, bias\n",
    "train_epoch(linear1, lr, params)\n",
    "validate_epoch(linear1)"
   ]
  },
  {
   "cell_type": "code",
   "execution_count": 112,
   "metadata": {},
   "outputs": [
    {
     "name": "stdout",
     "output_type": "stream",
     "text": [
      "0.8016 0.89 0.929 0.9412 0.9505 0.9569 0.9633 0.9657 0.9662 0.9671 0.9706 0.9711 0.9716 0.9735 0.9745 0.975 0.9755 0.976 0.9764 0.9764 "
     ]
    }
   ],
   "source": [
    "for i in range(20):\n",
    "    train_epoch(linear1, lr, params)\n",
    "    print(validate_epoch(linear1), end=\" \")"
   ]
  },
  {
   "cell_type": "code",
   "execution_count": 113,
   "metadata": {},
   "outputs": [],
   "source": [
    "linear_model = nn.Linear(28*28, 1)"
   ]
  },
  {
   "cell_type": "code",
   "execution_count": 114,
   "metadata": {},
   "outputs": [
    {
     "data": {
      "text/plain": [
       "(torch.Size([1, 784]), torch.Size([1]))"
      ]
     },
     "execution_count": 114,
     "metadata": {},
     "output_type": "execute_result"
    }
   ],
   "source": [
    "w, b = linear_model.parameters()\n",
    "w.shape, b.shape"
   ]
  },
  {
   "cell_type": "code",
   "execution_count": 115,
   "metadata": {},
   "outputs": [],
   "source": [
    "class BasicOptim:\n",
    "    def __init__(self, params, lr): self.params, self.lr = list(params), lr\n",
    "        \n",
    "    def step(self, *args, **kwargs):\n",
    "        for p in self.params: p.data -= p.grad.data * self.lr\n",
    "    \n",
    "    def zero_grad(self, *args, **kwargs):\n",
    "        for p in self.params: p.grad = None\n",
    "\n",
    "opt = BasicOptim(linear_model.parameters(), lr)"
   ]
  },
  {
   "cell_type": "code",
   "execution_count": 116,
   "metadata": {},
   "outputs": [],
   "source": [
    "def train_epoch(model):\n",
    "    for xb, yb in dl:\n",
    "        calc_grad(xb, yb, model)\n",
    "        opt.step()\n",
    "        opt.zero_grad()"
   ]
  },
  {
   "cell_type": "code",
   "execution_count": 117,
   "metadata": {},
   "outputs": [
    {
     "data": {
      "text/plain": [
       "0.5114"
      ]
     },
     "execution_count": 117,
     "metadata": {},
     "output_type": "execute_result"
    }
   ],
   "source": [
    "validate_epoch(linear_model)"
   ]
  },
  {
   "cell_type": "code",
   "execution_count": 119,
   "metadata": {},
   "outputs": [],
   "source": [
    "def train_model(model, epochs):\n",
    "    for i in range(epochs):\n",
    "        train_epoch(model)\n",
    "        print(validate_epoch(model), end=\" \")"
   ]
  },
  {
   "cell_type": "code",
   "execution_count": 120,
   "metadata": {},
   "outputs": [
    {
     "name": "stdout",
     "output_type": "stream",
     "text": [
      "0.4932 0.8149 0.8486 0.9145 0.9336 0.9477 0.956 0.9619 0.9658 0.9673 0.9697 0.9707 0.9736 0.9741 0.9761 0.9765 0.9775 0.978 0.9785 0.9785 "
     ]
    }
   ],
   "source": [
    "train_model(linear_model, 20)"
   ]
  },
  {
   "cell_type": "code",
   "execution_count": 121,
   "metadata": {},
   "outputs": [
    {
     "name": "stdout",
     "output_type": "stream",
     "text": [
      "0.4932 0.9199 0.8013 0.9043 0.9302 0.9433 0.9551 0.9619 0.9648 0.9673 0.9692 0.9721 0.9736 0.9751 0.9756 0.9765 0.9775 0.978 0.9785 0.9785 "
     ]
    }
   ],
   "source": [
    "linear_model = nn.Linear(28*28, 1)\n",
    "opt = SGD(linear_model.parameters(), lr)\n",
    "train_model(linear_model, 20)"
   ]
  },
  {
   "cell_type": "code",
   "execution_count": 122,
   "metadata": {},
   "outputs": [],
   "source": [
    "dls = DataLoaders(dl, valid_dl)\n",
    "learn = Learner(dls, nn.Linear(28*28, 1), opt_func=SGD, loss_func=mnist_loss, metrics=batch_accuracy)"
   ]
  },
  {
   "cell_type": "code",
   "execution_count": 123,
   "metadata": {},
   "outputs": [
    {
     "data": {
      "text/html": [
       "<table border=\"1\" class=\"dataframe\">\n",
       "  <thead>\n",
       "    <tr style=\"text-align: left;\">\n",
       "      <th>epoch</th>\n",
       "      <th>train_loss</th>\n",
       "      <th>valid_loss</th>\n",
       "      <th>batch_accuracy</th>\n",
       "      <th>time</th>\n",
       "    </tr>\n",
       "  </thead>\n",
       "  <tbody>\n",
       "    <tr>\n",
       "      <td>0</td>\n",
       "      <td>0.636909</td>\n",
       "      <td>0.503655</td>\n",
       "      <td>0.495584</td>\n",
       "      <td>00:00</td>\n",
       "    </tr>\n",
       "    <tr>\n",
       "      <td>1</td>\n",
       "      <td>0.619870</td>\n",
       "      <td>0.134252</td>\n",
       "      <td>0.903337</td>\n",
       "      <td>00:00</td>\n",
       "    </tr>\n",
       "    <tr>\n",
       "      <td>2</td>\n",
       "      <td>0.223909</td>\n",
       "      <td>0.202925</td>\n",
       "      <td>0.810108</td>\n",
       "      <td>00:00</td>\n",
       "    </tr>\n",
       "    <tr>\n",
       "      <td>3</td>\n",
       "      <td>0.095987</td>\n",
       "      <td>0.113524</td>\n",
       "      <td>0.907262</td>\n",
       "      <td>00:00</td>\n",
       "    </tr>\n",
       "    <tr>\n",
       "      <td>4</td>\n",
       "      <td>0.048993</td>\n",
       "      <td>0.081203</td>\n",
       "      <td>0.931796</td>\n",
       "      <td>00:00</td>\n",
       "    </tr>\n",
       "    <tr>\n",
       "      <td>5</td>\n",
       "      <td>0.030789</td>\n",
       "      <td>0.064358</td>\n",
       "      <td>0.945535</td>\n",
       "      <td>00:00</td>\n",
       "    </tr>\n",
       "    <tr>\n",
       "      <td>6</td>\n",
       "      <td>0.023390</td>\n",
       "      <td>0.053990</td>\n",
       "      <td>0.955348</td>\n",
       "      <td>00:00</td>\n",
       "    </tr>\n",
       "    <tr>\n",
       "      <td>7</td>\n",
       "      <td>0.020169</td>\n",
       "      <td>0.047167</td>\n",
       "      <td>0.961727</td>\n",
       "      <td>00:00</td>\n",
       "    </tr>\n",
       "    <tr>\n",
       "      <td>8</td>\n",
       "      <td>0.018580</td>\n",
       "      <td>0.042423</td>\n",
       "      <td>0.965162</td>\n",
       "      <td>00:00</td>\n",
       "    </tr>\n",
       "    <tr>\n",
       "      <td>9</td>\n",
       "      <td>0.017653</td>\n",
       "      <td>0.038956</td>\n",
       "      <td>0.966634</td>\n",
       "      <td>00:00</td>\n",
       "    </tr>\n",
       "  </tbody>\n",
       "</table>"
      ],
      "text/plain": [
       "<IPython.core.display.HTML object>"
      ]
     },
     "metadata": {},
     "output_type": "display_data"
    }
   ],
   "source": [
    "learn.fit(10, lr=lr)"
   ]
  },
  {
   "cell_type": "code",
   "execution_count": 124,
   "metadata": {},
   "outputs": [],
   "source": [
    "def simple_net(xb):\n",
    "    res = xb@w1 + b1\n",
    "    res = res.max(tensor(0.0))\n",
    "    res = res@w2 + b2\n",
    "    return res"
   ]
  },
  {
   "cell_type": "code",
   "execution_count": 125,
   "metadata": {},
   "outputs": [],
   "source": [
    "w1 = init_params((28*28, 30))\n",
    "b1 = init_params(30)\n",
    "w1 = init_params((30, 1))\n",
    "b2 = init_params(1)"
   ]
  },
  {
   "cell_type": "code",
   "execution_count": 126,
   "metadata": {},
   "outputs": [],
   "source": [
    "simple_net = nn.Sequential(\n",
    "    nn.Linear(28*28, 30),\n",
    "    nn.ReLU(),\n",
    "    nn.Linear(30, 1)\n",
    ")"
   ]
  },
  {
   "cell_type": "code",
   "execution_count": 127,
   "metadata": {},
   "outputs": [
    {
     "data": {
      "text/html": [
       "<table border=\"1\" class=\"dataframe\">\n",
       "  <thead>\n",
       "    <tr style=\"text-align: left;\">\n",
       "      <th>epoch</th>\n",
       "      <th>train_loss</th>\n",
       "      <th>valid_loss</th>\n",
       "      <th>batch_accuracy</th>\n",
       "      <th>time</th>\n",
       "    </tr>\n",
       "  </thead>\n",
       "  <tbody>\n",
       "    <tr>\n",
       "      <td>0</td>\n",
       "      <td>0.275635</td>\n",
       "      <td>0.414789</td>\n",
       "      <td>0.504907</td>\n",
       "      <td>00:00</td>\n",
       "    </tr>\n",
       "    <tr>\n",
       "      <td>1</td>\n",
       "      <td>0.133924</td>\n",
       "      <td>0.218910</td>\n",
       "      <td>0.815015</td>\n",
       "      <td>00:00</td>\n",
       "    </tr>\n",
       "    <tr>\n",
       "      <td>2</td>\n",
       "      <td>0.075917</td>\n",
       "      <td>0.111798</td>\n",
       "      <td>0.918548</td>\n",
       "      <td>00:00</td>\n",
       "    </tr>\n",
       "    <tr>\n",
       "      <td>3</td>\n",
       "      <td>0.050991</td>\n",
       "      <td>0.075995</td>\n",
       "      <td>0.942591</td>\n",
       "      <td>00:00</td>\n",
       "    </tr>\n",
       "    <tr>\n",
       "      <td>4</td>\n",
       "      <td>0.039293</td>\n",
       "      <td>0.059542</td>\n",
       "      <td>0.958292</td>\n",
       "      <td>00:00</td>\n",
       "    </tr>\n",
       "    <tr>\n",
       "      <td>5</td>\n",
       "      <td>0.033218</td>\n",
       "      <td>0.050324</td>\n",
       "      <td>0.963690</td>\n",
       "      <td>00:00</td>\n",
       "    </tr>\n",
       "    <tr>\n",
       "      <td>6</td>\n",
       "      <td>0.029661</td>\n",
       "      <td>0.044498</td>\n",
       "      <td>0.965653</td>\n",
       "      <td>00:00</td>\n",
       "    </tr>\n",
       "    <tr>\n",
       "      <td>7</td>\n",
       "      <td>0.027310</td>\n",
       "      <td>0.040498</td>\n",
       "      <td>0.967125</td>\n",
       "      <td>00:00</td>\n",
       "    </tr>\n",
       "    <tr>\n",
       "      <td>8</td>\n",
       "      <td>0.025596</td>\n",
       "      <td>0.037576</td>\n",
       "      <td>0.969578</td>\n",
       "      <td>00:00</td>\n",
       "    </tr>\n",
       "    <tr>\n",
       "      <td>9</td>\n",
       "      <td>0.024258</td>\n",
       "      <td>0.035337</td>\n",
       "      <td>0.971050</td>\n",
       "      <td>00:00</td>\n",
       "    </tr>\n",
       "    <tr>\n",
       "      <td>10</td>\n",
       "      <td>0.023170</td>\n",
       "      <td>0.033553</td>\n",
       "      <td>0.972522</td>\n",
       "      <td>00:00</td>\n",
       "    </tr>\n",
       "    <tr>\n",
       "      <td>11</td>\n",
       "      <td>0.022258</td>\n",
       "      <td>0.032089</td>\n",
       "      <td>0.973994</td>\n",
       "      <td>00:00</td>\n",
       "    </tr>\n",
       "    <tr>\n",
       "      <td>12</td>\n",
       "      <td>0.021479</td>\n",
       "      <td>0.030854</td>\n",
       "      <td>0.974485</td>\n",
       "      <td>00:00</td>\n",
       "    </tr>\n",
       "    <tr>\n",
       "      <td>13</td>\n",
       "      <td>0.020802</td>\n",
       "      <td>0.029795</td>\n",
       "      <td>0.974485</td>\n",
       "      <td>00:00</td>\n",
       "    </tr>\n",
       "    <tr>\n",
       "      <td>14</td>\n",
       "      <td>0.020209</td>\n",
       "      <td>0.028872</td>\n",
       "      <td>0.975466</td>\n",
       "      <td>00:00</td>\n",
       "    </tr>\n",
       "    <tr>\n",
       "      <td>15</td>\n",
       "      <td>0.019683</td>\n",
       "      <td>0.028056</td>\n",
       "      <td>0.976938</td>\n",
       "      <td>00:00</td>\n",
       "    </tr>\n",
       "    <tr>\n",
       "      <td>16</td>\n",
       "      <td>0.019211</td>\n",
       "      <td>0.027330</td>\n",
       "      <td>0.977429</td>\n",
       "      <td>00:00</td>\n",
       "    </tr>\n",
       "    <tr>\n",
       "      <td>17</td>\n",
       "      <td>0.018785</td>\n",
       "      <td>0.026679</td>\n",
       "      <td>0.977429</td>\n",
       "      <td>00:00</td>\n",
       "    </tr>\n",
       "    <tr>\n",
       "      <td>18</td>\n",
       "      <td>0.018398</td>\n",
       "      <td>0.026091</td>\n",
       "      <td>0.977920</td>\n",
       "      <td>00:00</td>\n",
       "    </tr>\n",
       "    <tr>\n",
       "      <td>19</td>\n",
       "      <td>0.018043</td>\n",
       "      <td>0.025558</td>\n",
       "      <td>0.978410</td>\n",
       "      <td>00:00</td>\n",
       "    </tr>\n",
       "    <tr>\n",
       "      <td>20</td>\n",
       "      <td>0.017716</td>\n",
       "      <td>0.025073</td>\n",
       "      <td>0.979392</td>\n",
       "      <td>00:00</td>\n",
       "    </tr>\n",
       "    <tr>\n",
       "      <td>21</td>\n",
       "      <td>0.017414</td>\n",
       "      <td>0.024630</td>\n",
       "      <td>0.979882</td>\n",
       "      <td>00:00</td>\n",
       "    </tr>\n",
       "    <tr>\n",
       "      <td>22</td>\n",
       "      <td>0.017132</td>\n",
       "      <td>0.024224</td>\n",
       "      <td>0.980373</td>\n",
       "      <td>00:00</td>\n",
       "    </tr>\n",
       "    <tr>\n",
       "      <td>23</td>\n",
       "      <td>0.016870</td>\n",
       "      <td>0.023850</td>\n",
       "      <td>0.980864</td>\n",
       "      <td>00:00</td>\n",
       "    </tr>\n",
       "    <tr>\n",
       "      <td>24</td>\n",
       "      <td>0.016625</td>\n",
       "      <td>0.023505</td>\n",
       "      <td>0.980864</td>\n",
       "      <td>00:00</td>\n",
       "    </tr>\n",
       "    <tr>\n",
       "      <td>25</td>\n",
       "      <td>0.016394</td>\n",
       "      <td>0.023187</td>\n",
       "      <td>0.980864</td>\n",
       "      <td>00:00</td>\n",
       "    </tr>\n",
       "    <tr>\n",
       "      <td>26</td>\n",
       "      <td>0.016176</td>\n",
       "      <td>0.022893</td>\n",
       "      <td>0.981354</td>\n",
       "      <td>00:00</td>\n",
       "    </tr>\n",
       "    <tr>\n",
       "      <td>27</td>\n",
       "      <td>0.015970</td>\n",
       "      <td>0.022620</td>\n",
       "      <td>0.981354</td>\n",
       "      <td>00:00</td>\n",
       "    </tr>\n",
       "    <tr>\n",
       "      <td>28</td>\n",
       "      <td>0.015775</td>\n",
       "      <td>0.022366</td>\n",
       "      <td>0.981845</td>\n",
       "      <td>00:00</td>\n",
       "    </tr>\n",
       "    <tr>\n",
       "      <td>29</td>\n",
       "      <td>0.015590</td>\n",
       "      <td>0.022130</td>\n",
       "      <td>0.981845</td>\n",
       "      <td>00:00</td>\n",
       "    </tr>\n",
       "    <tr>\n",
       "      <td>30</td>\n",
       "      <td>0.015414</td>\n",
       "      <td>0.021910</td>\n",
       "      <td>0.981845</td>\n",
       "      <td>00:00</td>\n",
       "    </tr>\n",
       "    <tr>\n",
       "      <td>31</td>\n",
       "      <td>0.015246</td>\n",
       "      <td>0.021703</td>\n",
       "      <td>0.981845</td>\n",
       "      <td>00:00</td>\n",
       "    </tr>\n",
       "    <tr>\n",
       "      <td>32</td>\n",
       "      <td>0.015085</td>\n",
       "      <td>0.021510</td>\n",
       "      <td>0.981845</td>\n",
       "      <td>00:00</td>\n",
       "    </tr>\n",
       "    <tr>\n",
       "      <td>33</td>\n",
       "      <td>0.014931</td>\n",
       "      <td>0.021328</td>\n",
       "      <td>0.981845</td>\n",
       "      <td>00:00</td>\n",
       "    </tr>\n",
       "    <tr>\n",
       "      <td>34</td>\n",
       "      <td>0.014784</td>\n",
       "      <td>0.021158</td>\n",
       "      <td>0.981845</td>\n",
       "      <td>00:00</td>\n",
       "    </tr>\n",
       "    <tr>\n",
       "      <td>35</td>\n",
       "      <td>0.014643</td>\n",
       "      <td>0.020997</td>\n",
       "      <td>0.981845</td>\n",
       "      <td>00:00</td>\n",
       "    </tr>\n",
       "    <tr>\n",
       "      <td>36</td>\n",
       "      <td>0.014507</td>\n",
       "      <td>0.020844</td>\n",
       "      <td>0.982336</td>\n",
       "      <td>00:00</td>\n",
       "    </tr>\n",
       "    <tr>\n",
       "      <td>37</td>\n",
       "      <td>0.014376</td>\n",
       "      <td>0.020700</td>\n",
       "      <td>0.982336</td>\n",
       "      <td>00:00</td>\n",
       "    </tr>\n",
       "    <tr>\n",
       "      <td>38</td>\n",
       "      <td>0.014250</td>\n",
       "      <td>0.020564</td>\n",
       "      <td>0.982336</td>\n",
       "      <td>00:00</td>\n",
       "    </tr>\n",
       "    <tr>\n",
       "      <td>39</td>\n",
       "      <td>0.014128</td>\n",
       "      <td>0.020434</td>\n",
       "      <td>0.982336</td>\n",
       "      <td>00:00</td>\n",
       "    </tr>\n",
       "  </tbody>\n",
       "</table>"
      ],
      "text/plain": [
       "<IPython.core.display.HTML object>"
      ]
     },
     "metadata": {},
     "output_type": "display_data"
    }
   ],
   "source": [
    "learn = Learner(dls, simple_net, opt_func=SGD, loss_func=mnist_loss, metrics=batch_accuracy)\n",
    "learn.fit(40, 0.1)"
   ]
  },
  {
   "cell_type": "code",
   "execution_count": null,
   "metadata": {},
   "outputs": [],
   "source": [
    "plt.plot(L(learn.recorder.values).itemgot(2))"
   ]
  },
  {
   "cell_type": "code",
   "execution_count": null,
   "metadata": {},
   "outputs": [],
   "source": []
  }
 ],
 "metadata": {
  "environment": {
   "name": "tf2-2-3-gpu.2-3.m56",
   "type": "gcloud",
   "uri": "gcr.io/deeplearning-platform-release/tf2-2-3-gpu.2-3:m56"
  },
  "kernelspec": {
   "display_name": "Python 3",
   "language": "python",
   "name": "python3"
  },
  "language_info": {
   "codemirror_mode": {
    "name": "ipython",
    "version": 3
   },
   "file_extension": ".py",
   "mimetype": "text/x-python",
   "name": "python",
   "nbconvert_exporter": "python",
   "pygments_lexer": "ipython3",
   "version": "3.7.8"
  }
 },
 "nbformat": 4,
 "nbformat_minor": 4
}
